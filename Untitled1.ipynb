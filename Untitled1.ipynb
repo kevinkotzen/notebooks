{
 "cells": [
  {
   "cell_type": "code",
   "execution_count": null,
   "id": "3f0d9cb8-3448-452c-a43a-14abdefa8431",
   "metadata": {},
   "outputs": [],
   "source": [
    "import os\n",
    "\n",
    "os.chdir('/home/kkotzen/research/PPG_sleepstaging_orion3/')\n",
    "\n",
    "import tqdm \n",
    "import pyedflib\n",
    "\n",
    "d = \"/MLdata/AIMLab/databases/copdosadb/polysomnography/edfs\"\n",
    "edfs = os.listdir(d)\n",
    "\n",
    "has_signal = []\n",
    "missing_signal = []\n",
    "\n",
    "for edf in tqdm.tqdm(edfs):\n",
    "    try:\n",
    "        f = pyedflib.EdfReader(str(f\"{d}/{edf}\"))\n",
    "        signal_labels = f.getSignalLabels()\n",
    "        if \"Pleth\" in signal_labels:\n",
    "            has_signal.append(edf)\n",
    "        else:\n",
    "            missing_signal.append(edf)\n",
    "    except: \n",
    "        print(\"Failed: \", edf)"
   ]
  },
  {
   "cell_type": "code",
   "execution_count": null,
   "id": "2da4e337-a0a3-451c-aae4-3c393e0bf81b",
   "metadata": {},
   "outputs": [],
   "source": [
    "print(len(edfs))\n",
    "print(len(has_signal))\n",
    "print(len(missing_signal))"
   ]
  },
  {
   "cell_type": "code",
   "execution_count": 22,
   "id": "ea64ffef-f704-476e-b9b5-b9ace0297961",
   "metadata": {},
   "outputs": [
    {
     "name": "stdout",
     "output_type": "stream",
     "text": [
      "1 16199.5\n",
      "Failed:  mesa-sleep-0111.edf\n",
      "2 34199.0\n",
      "3 55798.0\n",
      "4 74697.5\n",
      "5 92697.0\n",
      "6 114296.5\n",
      "7 131396.0\n",
      "8 152995.5\n",
      "9 170995.5\n",
      "10 188995.0\n",
      "11 205195.0\n",
      "12 223194.5\n",
      "13 241194.0\n",
      "14 262793.5\n",
      "15 287993.0\n",
      "16 306680.0\n",
      "17 324680.0\n",
      "18 346279.5\n",
      "19 367879.0\n",
      "20 384078.5\n",
      "21 402978.0\n",
      "22 422777.5\n",
      "23 440777.0\n",
      "24 458776.5\n",
      "25 474976.0\n",
      "26 491175.5\n",
      "27 509175.0\n",
      "28 527174.5\n",
      "29 546974.0\n",
      "30 568481.5\n",
      "31 588281.0\n",
      "32 604480.5\n",
      "33 622480.0\n",
      "34 643895.0\n",
      "35 660094.5\n"
     ]
    }
   ],
   "source": [
    "import os\n",
    "import tqdm \n",
    "import pyedflib\n",
    "import numpy as np\n",
    "\n",
    "def extract_numpy_from_edf(file_name, signal):\n",
    "    f = pyedflib.EdfReader(str(file_name))\n",
    "    signal_labels = f.getSignalLabels()\n",
    "    signal_of_interest=-1\n",
    "    for i, signal_label in enumerate(signal_labels):\n",
    "        if signal_label == signal:\n",
    "            signal_of_interest = i\n",
    "    if signal_of_interest > -1:\n",
    "        data =  f.readSignal(signal_of_interest)\n",
    "#         data = np.array(data).astype(np.float32)\n",
    "        f.close()\n",
    "        return data\n",
    "    else:\n",
    "        raise ValueError(\"Signal could not be found\")\n",
    "    \n",
    "    \n",
    "d = \"/home/kkotzen/databases2/mesa/polysomnography/edfs\"\n",
    "edfs = os.listdir(d)\n",
    "\n",
    "patients = 0\n",
    "total = 0\n",
    "for edf in edfs:\n",
    "    try:\n",
    "        sig = extract_numpy_from_edf(f\"{d}/{edf}\", 'Pleth')\n",
    "        total = total+len(sig)/512\n",
    "        patients = patients+1\n",
    "        print(patients, total)\n",
    "    except: \n",
    "        print(\"Failed: \", edf)"
   ]
  },
  {
   "cell_type": "code",
   "execution_count": null,
   "id": "0f1622d8-5233-43c5-a8ac-bcb67d5eed1b",
   "metadata": {},
   "outputs": [],
   "source": []
  },
  {
   "cell_type": "code",
   "execution_count": null,
   "id": "18a8c036-b8ab-45e0-8047-423b07985655",
   "metadata": {},
   "outputs": [],
   "source": []
  }
 ],
 "metadata": {
  "kernelspec": {
   "display_name": "Python 3 (ipykernel)",
   "language": "python",
   "name": "python3"
  },
  "language_info": {
   "codemirror_mode": {
    "name": "ipython",
    "version": 3
   },
   "file_extension": ".py",
   "mimetype": "text/x-python",
   "name": "python",
   "nbconvert_exporter": "python",
   "pygments_lexer": "ipython3",
   "version": "3.9.5"
  }
 },
 "nbformat": 4,
 "nbformat_minor": 5
}
