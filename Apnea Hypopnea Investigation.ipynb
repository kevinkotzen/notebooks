{
 "cells": [
  {
   "cell_type": "code",
   "execution_count": 1,
   "id": "3faa1896-7f6b-4a15-a9c7-d5504d58e6c2",
   "metadata": {},
   "outputs": [],
   "source": [
    "%matplotlib widget\n",
    "import matplotlib.pyplot as plt\n",
    "import numpy as np\n",
    "import os \n",
    "from scipy.signal import butter, sosfiltfilt, resample\n",
    "os.chdir('/home/kkotzen/research/PPG_sleepstaging_orion2 /')\n",
    "from pathlib import Path\n",
    "from src.parsing.MESAParser import MESAParser\n",
    "\n",
    "dl = MESAParser()\n",
    "patients = dl.database_patient_IDs[0:10]\n",
    "\n",
    "this_patient = patients[0]\n",
    "ah = dl.load_apnea_hypopnea(this_patient)\n",
    "sleep = dl.load_sleep(this_patient)\n",
    "ppg_input = dl.load_signal(this_patient, 'Pleth')"
   ]
  },
  {
   "cell_type": "code",
   "execution_count": 2,
   "id": "81c96f7e-a1fe-4c0d-b137-9070629f252d",
   "metadata": {},
   "outputs": [
    {
     "data": {
      "application/vnd.jupyter.widget-view+json": {
       "model_id": "2d2945e756a04b3ba455850fa0a7c4a4",
       "version_major": 2,
       "version_minor": 0
      },
      "text/plain": [
       "Canvas(toolbar=Toolbar(toolitems=[('Home', 'Reset original view', 'home', 'home'), ('Back', 'Back to previous …"
      ]
     },
     "metadata": {},
     "output_type": "display_data"
    }
   ],
   "source": [
    "dl = MESAParser()\n",
    "patients = dl.database_patient_IDs[0:10]\n",
    "\n",
    "t_sleep = np.arange(0, len(sleep)*30, 30)\n",
    "t_ah = np.arange(0, len(ah))\n",
    "\n",
    "fig, ax = plt.subplots(2,1, sharex=True)\n",
    "ax[0].plot(t_sleep, sleep)\n",
    "ax[1].plot(t_ah, ah)\n",
    "plt.show()"
   ]
  },
  {
   "cell_type": "code",
   "execution_count": null,
   "id": "c75be64a-7217-44d3-9366-c8047507676f",
   "metadata": {},
   "outputs": [],
   "source": [
    "fs = 256\n",
    "resample_fs = 16\n",
    "F = fs/resample_fs\n",
    "highcut = 2\n",
    "order=8\n",
    "sos = butter(order, [highcut / (fs / 2)], 'lowpass', output='sos')\n",
    "\n",
    "ppg = sosfiltfilt(sos, ppg_input, axis=0)\n",
    "ppg = resample(ppg, int(len(ppg)/F))\n",
    "fs = resample_fs"
   ]
  },
  {
   "cell_type": "code",
   "execution_count": null,
   "id": "a20fdfd0-e6ed-4d3f-838c-e2598c250e5e",
   "metadata": {},
   "outputs": [],
   "source": [
    "from scipy.fft import fft, dct\n",
    "from scipy import signal \n",
    "\n",
    "def _time_series_subsequences(ts, window, hop=1):\n",
    "    assert len(ts.shape) == 1\n",
    "    shape = (int(int(ts.size - window) / hop + 1), window)\n",
    "    strides = ts.strides[0] * hop, ts.strides[0]\n",
    "    return np.lib.stride_tricks.as_strided(ts, shape=shape, strides=strides)\n",
    "\n",
    "win, hop = 30, 30\n",
    "f, t, Sxx = signal.spectrogram(ppg, fs, nperseg = fs*win, noverlap=0, window='tukey')\n",
    "Sxx[Sxx > np.quantile(Sxx, 0.99)] = np.quantile(Sxx, 0.99)\n",
    "for i in range(Sxx.shape[1]):\n",
    "    Sxx[:,i] = (Sxx[:,i]-np.mean(Sxx[:,i]))/np.std(Sxx[:,i])\n",
    "\n",
    "print(np.max(Sxx[200]))\n",
    "plt.close('all')\n",
    "plt.pcolormesh(t, f, (Sxx)*100)\n",
    "plt.ylabel('Frequency [Hz]')\n",
    "plt.xlabel('Time [sec]')\n",
    "    \n",
    "# X = _time_series_subsequences(ppg, 32*30, 32*30)\n",
    "# X_dct = np.zeros_like(X)\n",
    "# for i, x in enumerate(X):\n",
    "#     win, hop = 30, 30\n",
    "    "
   ]
  },
  {
   "cell_type": "code",
   "execution_count": null,
   "id": "9565e64a-c9d3-454c-8775-46977e7a57a0",
   "metadata": {},
   "outputs": [],
   "source": [
    "ppg = ppg[0:39000*fs]\n",
    "t_sleep = np.arange(0, len(sleep)*30, 30)\n",
    "t_ah = np.arange(0, len(ah))\n",
    "t_ppg =  np.arange(0, len(ppg)/fs, 1/fs)\n",
    "\n",
    "fig, ax = plt.subplots(4,1, sharex=True)\n",
    "ax[0].plot(t_sleep, sleep)\n",
    "ax[1].plot(t_ah, ah)\n",
    "ax[2].plot(t_ppg, ppg)\n",
    "# ax[3].pcolormesh(t, f[0:40], (Sxx[0:40,:]))\n",
    "\n",
    "widths = np.arange(1, 31)\n",
    "cwtmatr = signal.cwt(ppg, signal.ricker, widths)\n",
    "ax[3].plot(t_ppg, cwtmatr[5,:], label='5')\n",
    "ax[3].plot(t_ppg, cwtmatr[15,:], label='15')\n",
    "ax[3].plot(t_ppg, cwtmatr[20,:], label='20')\n",
    "ax[3].legend()\n",
    "# ax[3].imshow(cwtmatr, cmap='PRGn', aspect='auto',\n",
    "#            vmax=abs(cwtmatr).max(), vmin=-abs(cwtmatr).max(), origin='lower')\n",
    "\n",
    "plt.show()"
   ]
  },
  {
   "cell_type": "code",
   "execution_count": null,
   "id": "5f800aed-d0cc-48c1-946d-60bd4875cfef",
   "metadata": {},
   "outputs": [],
   "source": []
  }
 ],
 "metadata": {
  "kernelspec": {
   "display_name": "Python 3 (ipykernel)",
   "language": "python",
   "name": "python3"
  },
  "language_info": {
   "codemirror_mode": {
    "name": "ipython",
    "version": 3
   },
   "file_extension": ".py",
   "mimetype": "text/x-python",
   "name": "python",
   "nbconvert_exporter": "python",
   "pygments_lexer": "ipython3",
   "version": "3.9.5"
  }
 },
 "nbformat": 4,
 "nbformat_minor": 5
}
