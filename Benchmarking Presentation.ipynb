{
 "cells": [
  {
   "cell_type": "code",
   "execution_count": 1,
   "id": "f4985001-c6de-494c-b477-2b0ff5b16046",
   "metadata": {},
   "outputs": [],
   "source": [
    "%load_ext autoreload\n",
    "%autoreload 2\n",
    "%matplotlib widget\n",
    "import matplotlib.pyplot as plt\n",
    "import numpy as np\n",
    "from scipy import signal, interpolate\n",
    "import copy\n",
    "import os \n",
    "import pandas as pd\n",
    "os.chdir('/home/kkotzen/research/PPG_sleepstaging_orion2 /')\n",
    "from pathlib import Path\n",
    "from src.parsing.MESAParser import MESAParser"
   ]
  },
  {
   "cell_type": "code",
   "execution_count": 23,
   "id": "04543d0f-6f50-41a8-928a-aea61e11d059",
   "metadata": {},
   "outputs": [],
   "source": [
    "dl = MESAParser()\n",
    "patients = dl.database_all_patient_IDs[100:200]\n",
    "\n",
    "ppg = dl.load_signal(patients[0], 'Pleth')\n",
    "ecg = dl.load_signal(patients[0], 'EKG')\n",
    "\n",
    "ecg_peaks = dl.load_annotation(patients[0], 'EKG', 'epltd0', 'Peaks').astype(int)\n",
    "\n",
    "#Load the peaks\n",
    "Aboy_ppg_peaks = dl.load_annotation(patients[0], 'Pleth', 'Aboy', 'Peaks')\n"
   ]
  },
  {
   "cell_type": "code",
   "execution_count": 24,
   "id": "2a64a021-d921-4a32-abb1-7fc15f6d17e1",
   "metadata": {},
   "outputs": [
    {
     "data": {
      "application/vnd.jupyter.widget-view+json": {
       "model_id": "5524295f566740458ee53dc189921395",
       "version_major": 2,
       "version_minor": 0
      },
      "text/plain": [
       "Canvas(toolbar=Toolbar(toolitems=[('Home', 'Reset original view', 'home', 'home'), ('Back', 'Back to previous …"
      ]
     },
     "metadata": {},
     "output_type": "display_data"
    },
    {
     "data": {
      "text/plain": [
       "[Text(0, -6.0, ''),\n",
       " Text(0, -4.0, ''),\n",
       " Text(0, -2.0, ''),\n",
       " Text(0, 0.0, ''),\n",
       " Text(0, 2.0, ''),\n",
       " Text(0, 4.0, ''),\n",
       " Text(0, 6.0, '')]"
      ]
     },
     "execution_count": 24,
     "metadata": {},
     "output_type": "execute_result"
    }
   ],
   "source": [
    "plt.close('all')\n",
    "fig, ax = plt.subplots(2,1,sharex=True)\n",
    "ax[0].plot(ecg, color='black')\n",
    "ax[0].set_ylabel('ECG')\n",
    "ax[0].spines['right'].set_visible(False)\n",
    "ax[0].spines['top'].set_visible(False)\n",
    "ax[0].axes.xaxis.set_ticklabels([])\n",
    "ax[0].axes.yaxis.set_ticklabels([])\n",
    "\n",
    "\n",
    "ax[1].plot(ppg, color='black')\n",
    "ax[1].set_ylabel('PPG')\n",
    "ax[1].set_xlabel('Time')\n",
    "ax[1].spines['right'].set_visible(False)\n",
    "ax[1].spines['top'].set_visible(False)\n",
    "ax[1].axes.xaxis.set_ticklabels([])\n",
    "ax[1].axes.yaxis.set_ticklabels([])"
   ]
  },
  {
   "cell_type": "code",
   "execution_count": null,
   "id": "1665b0c4-48e6-480c-9b4a-e1aa2c3f89b2",
   "metadata": {},
   "outputs": [],
   "source": []
  }
 ],
 "metadata": {
  "kernelspec": {
   "display_name": "Python 3 (ipykernel)",
   "language": "python",
   "name": "python3"
  },
  "language_info": {
   "codemirror_mode": {
    "name": "ipython",
    "version": 3
   },
   "file_extension": ".py",
   "mimetype": "text/x-python",
   "name": "python",
   "nbconvert_exporter": "python",
   "pygments_lexer": "ipython3",
   "version": "3.9.5"
  }
 },
 "nbformat": 4,
 "nbformat_minor": 5
}
