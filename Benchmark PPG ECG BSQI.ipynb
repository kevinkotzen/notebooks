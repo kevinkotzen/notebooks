{
 "cells": [
  {
   "cell_type": "code",
   "execution_count": 103,
   "metadata": {},
   "outputs": [
    {
     "name": "stdout",
     "output_type": "stream",
     "text": [
      "The autoreload extension is already loaded. To reload it, use:\n",
      "  %reload_ext autoreload\n"
     ]
    }
   ],
   "source": [
    "%load_ext autoreload\n",
    "%autoreload 2\n",
    "%matplotlib widget\n",
    "import matplotlib.pyplot as plt\n",
    "import numpy as np\n",
    "from scipy import signal, interpolate\n",
    "import copy\n",
    "import os \n",
    "import pandas as pd\n",
    "os.chdir('/home/kkotzen/research/PPG_sleepstaging3/')\n",
    "from pathlib import Path\n",
    "from src.parsing.MESAParser import MESAParser\n",
    "# from src.parsing.utils.comp_ppg_signal_quality import ppg_window_quality, ppg_window_quality_summary, moving_average_filter\n",
    "from src.parsing.armand.feature_comp import bsqi\n",
    "\n",
    "def duplicate(x):\n",
    "    return np.array([[x_]*2 for x_ in x]).flatten()\n",
    "\n",
    "def hold_line(t, x):\n",
    "    print(t.shape, x.shape)\n",
    "    t_ = duplicate(t)[1:-1]\n",
    "    x_ = duplicate(x)\n",
    "    return t_, x_"
   ]
  },
  {
   "cell_type": "code",
   "execution_count": 104,
   "metadata": {},
   "outputs": [],
   "source": [
    "from scipy import signal, stats\n",
    "\n",
    "def butter_bandpass(lowcut, highcut, fs, order=4):\n",
    "    nyq = 0.5 * fs\n",
    "    low = lowcut / nyq\n",
    "    high = highcut / nyq\n",
    "    b, a = signal.butter(order, [low, high], btype='band')\n",
    "    return b, a\n",
    "\n",
    "def butter_bandpass_filter(data, lowcut, highcut, fs, order=4):\n",
    "    b, a = butter_bandpass(lowcut, highcut, fs, order=order)\n",
    "    y = signal.filtfilt(b, a, data)\n",
    "    return y\n",
    "\n",
    "def cheby2_bandpass(lowcut, highcut, fs, order=4):\n",
    "    nyq = 0.5 * fs\n",
    "    low = lowcut / nyq\n",
    "    high = highcut / nyq\n",
    "    b, a = signal.cheby2(order, 20, [low, high], btype='band')\n",
    "    return b, a\n",
    "\n",
    "def cheby2_bandpass_filter(data, lowcut, highcut, fs, order=4):\n",
    "    b, a = cheby2_bandpass(lowcut, highcut, fs, order=order)\n",
    "    y = signal.filtfilt(b, a, data)\n",
    "    return y\n",
    "\n",
    "def standardize_signal(data):\n",
    "    return stats.zscore(data.astype(np.float32)).astype(np.float16)\n",
    "\n",
    "fs = 256\n",
    "highcut = 8\n",
    "lowcut = 0.5\n",
    "order=4"
   ]
  },
  {
   "cell_type": "code",
   "execution_count": 133,
   "metadata": {},
   "outputs": [],
   "source": [
    "dl = MESAParser()\n",
    "patients = ['5753'] #dl.database_all_patient_IDs\n",
    "\n",
    "ppg = butter_bandpass_filter(dl.load_signal(patients[0], 'Pleth'), lowcut, highcut, 256, order)\n",
    "ecg = dl.load_signal(patients[0], 'EKG')\n",
    "\n",
    "ecg_peaks = dl.load_annotation(patients[0], 'EKG', 'epltd0', 'Peaks').astype(int)\n",
    "valid_ecg_peaks = dl.load_annotation(patients[0], 'EKG', 'rpoint', 'Peaks').astype(int)\n",
    "\n",
    "# valid_ecg_peaks = dl.load_annotation(patients[0], 'EKG', 'rpoint', 'Peaks').astype(int)\n",
    "# ecg_peaks = ecg_peaks[ecg_peaks < valid_ecg_peaks[-1]]\n",
    "ecg_peaks = ecg_peaks[ecg_peaks<valid_ecg_peaks[-1]]\n",
    "ecg_quality = dl.load_quality(patients[0], 'EKG')\n",
    "\n",
    "#Load the peaks\n",
    "Aboy_ppg_peaks = dl.load_annotation(patients[0], 'Pleth', 'Aboy', 'Peaks')\n",
    "Bishop_ppg_peaks = dl.load_annotation(patients[0], 'Pleth', 'Bishop', 'Peaks')\n",
    "IMS_peaks = dl.load_annotation(patients[0], 'Pleth', 'IMS', 'Peaks')\n",
    "AMPD_peaks = dl.load_annotation(patients[0], 'Pleth', 'AMPD', 'Peaks')\n",
    "pulses_peaks = dl.load_annotation(patients[0], 'Pleth', 'pulses', 'Peaks')\n",
    "# qppg_onsets = dl.load_annotation(patients[0], 'Pleth', 'qppg', 'Onsets')\n",
    "co_ppg_peaks = dl.load_annotation(patients[0], 'Pleth', 'co_ppg', 'Peaks')\n",
    "heartpy_peaks = dl.load_annotation(patients[0], 'Pleth', 'heartpy', 'Peaks')\n",
    "\n",
    "\n",
    "#Limit them to the reference ECG\n",
    "Aboy_ppg_peaks = Aboy_ppg_peaks[Aboy_ppg_peaks<ecg_peaks[-1]]\n",
    "Bishop_ppg_peaks = Bishop_ppg_peaks[Bishop_ppg_peaks<ecg_peaks[-1]]\n",
    "IMS_peaks = IMS_peaks[IMS_peaks<ecg_peaks[-1]]\n",
    "AMPD_peaks = AMPD_peaks[AMPD_peaks<ecg_peaks[-1]]\n",
    "pulses_peaks = pulses_peaks[pulses_peaks<ecg_peaks[-1]]\n",
    "co_ppg_peaks = co_ppg_peaks[co_ppg_peaks<ecg_peaks[-1]]\n",
    "heartpy_peaks = heartpy_peaks[heartpy_peaks<ecg_peaks[-1]]\n",
    "\n",
    "\n",
    "# benchmark = ppg_window_quality(ppg_peaks, ecg_peaks, len(ppg), max_HR_detla=20)"
   ]
  },
  {
   "cell_type": "code",
   "execution_count": null,
   "metadata": {},
   "outputs": [],
   "source": []
  },
  {
   "cell_type": "code",
   "execution_count": 134,
   "metadata": {},
   "outputs": [],
   "source": [
    "from scipy import signal\n",
    "\n",
    "def nan_helper(y):\n",
    "    return np.isnan(y), lambda z: z.nonzero()[0]\n",
    "\n",
    "def calculate_ptt(ppg_peaks, ecg_peaks, fs=256, max_ptt=0.54, min_ptt=0.25, smoothing_length=600):\n",
    "    midpoint=(max_ptt*fs+min_ptt*fs)/2\n",
    "    ptt = np.zeros_like(ecg_peaks).astype(np.float32)\n",
    "    ptt[:] = midpoint\n",
    "\n",
    "    for i in range(len(ecg_peaks)-1):\n",
    "        try:\n",
    "            times = ppg_peaks[(ppg_peaks >= ecg_peaks[i])&(ppg_peaks<ecg_peaks[i+1])]\n",
    "            if len(times) > 0:\n",
    "                ptt[i] = times[0] - ecg_peaks[i]\n",
    "            else:\n",
    "                ptt[i] = np.nan\n",
    "        except:\n",
    "            print(\"failed\")\n",
    "            if i > 0:\n",
    "                ptt[i] =  np.nan\n",
    "    \n",
    "    nans, x= nan_helper(ptt)\n",
    "    ptt[nans]= np.interp(x(nans), x(~nans), ptt[~nans])\n",
    "        \n",
    "    ptt[(ptt>max_ptt*fs)|(ptt<min_ptt*fs)] = np.mean(ptt[(ptt<max_ptt*fs)&(ptt>min_ptt*fs)])\n",
    "    ptt = signal.filtfilt(np.ones(smoothing_length) / smoothing_length, 1, ptt, padlen=smoothing_length)\n",
    "    ptt = np.array(ptt[0:len(ecg_peaks)]).astype(int)\n",
    "\n",
    "    return ptt\n",
    "\n",
    "def calculate_delayed_ecg(ppg_peaks, ecg_peaks):\n",
    "    return ecg_peaks + calculate_ptt(ppg_peaks, ecg_peaks)\n",
    "\n",
    "def calculate_windowed_delayed_ppg_ecg_bsqi(ppg_peaks, ecg_peaks, len_ppg, fs=256, window=30, agw=0.15):\n",
    "\n",
    "    #Limit the peaks to the ECG reference\n",
    "    ppg_peaks = ppg_peaks[ppg_peaks < ecg_peaks[-1]]\n",
    "    ppg_peaks = ppg_peaks[ppg_peaks > ecg_peaks[0]]\n",
    "\n",
    "    #Delay the PPG signal using the PTT\n",
    "    delayed_ecg_peaks = calculate_delayed_ecg(ppg_peaks, ecg_peaks)\n",
    "\n",
    "    window_fs = fs * window\n",
    "    windows = np.arange(0, len_ppg, window_fs)\n",
    "    window_stats = pd.DataFrame()\n",
    "\n",
    "    for i in (range(windows.shape[0] - 1)):\n",
    "        window_ppg_peaks = ppg_peaks[(ppg_peaks >= window_fs*i)*(ppg_peaks < window_fs*(i+1))]\n",
    "        window_delayed_ecg_peaks = delayed_ecg_peaks[(delayed_ecg_peaks >= window_fs*i)*(delayed_ecg_peaks < window_fs*(i+1))]\n",
    "        window_stats = window_stats.append({'Epoch': i, **bsqi(window_delayed_ecg_peaks, window_ppg_peaks, fs=fs, agw=agw, return_dict=True)}, ignore_index=True)\n",
    "    return window_stats\n"
   ]
  },
  {
   "cell_type": "code",
   "execution_count": 135,
   "metadata": {},
   "outputs": [],
   "source": [
    "ptt = calculate_ptt(pulses_peaks, ecg_peaks)"
   ]
  },
  {
   "cell_type": "code",
   "execution_count": 136,
   "metadata": {},
   "outputs": [
    {
     "data": {
      "application/vnd.jupyter.widget-view+json": {
       "model_id": "3acf51ae5dc44f0f94b4e30294fa7b55",
       "version_major": 2,
       "version_minor": 0
      },
      "text/plain": [
       "Canvas(toolbar=Toolbar(toolitems=[('Home', 'Reset original view', 'home', 'home'), ('Back', 'Back to previous …"
      ]
     },
     "metadata": {},
     "output_type": "display_data"
    }
   ],
   "source": [
    "plt.close(\"all\")\n",
    "cm = 1/2.54  # centimeters in inches\n",
    "plt.figure(figsize=(7.9*cm, 5*cm))\n",
    "ax1 = plt.subplot(1,1,1)\n",
    "ax1.plot(ecg_peaks/(256*60*60), ptt/256)\n",
    "plt.xlabel(\"Time (Hours)\")\n",
    "plt.ylabel(\"PTT (Seconds)\")\n",
    "ax1.spines['right'].set_visible(False)\n",
    "ax1.spines['top'].set_visible(False)\n",
    "plt.tight_layout()\n",
    "plt.show()"
   ]
  },
  {
   "cell_type": "code",
   "execution_count": null,
   "metadata": {},
   "outputs": [],
   "source": []
  },
  {
   "cell_type": "code",
   "execution_count": 119,
   "metadata": {},
   "outputs": [
    {
     "data": {
      "text/plain": [
       "0.8278653193693548"
      ]
     },
     "execution_count": 119,
     "metadata": {},
     "output_type": "execute_result"
    }
   ],
   "source": [
    "data = calculate_windowed_delayed_ppg_ecg_bsqi(pulses_peaks, ecg_peaks, len_ppg=pulses_peaks[-1], window=30, agw=0.10)\n",
    "data.F1.mean()"
   ]
  },
  {
   "cell_type": "code",
   "execution_count": 120,
   "metadata": {},
   "outputs": [
    {
     "data": {
      "text/plain": [
       "0.9566222138566595"
      ]
     },
     "execution_count": 120,
     "metadata": {},
     "output_type": "execute_result"
    }
   ],
   "source": [
    "L = min(len(data), len(ecg_quality))\n",
    "data.loc[0:L, 'ECG_Q'] = ecg_quality[0:L]\n",
    "data = data[data.ECG_Q > 0.8]\n",
    "data.F1.mean()"
   ]
  },
  {
   "cell_type": "code",
   "execution_count": 118,
   "metadata": {},
   "outputs": [
    {
     "data": {
      "application/vnd.jupyter.widget-view+json": {
       "model_id": "5c4dc3be11084ee2b8897202b37fb1d1",
       "version_major": 2,
       "version_minor": 0
      },
      "text/plain": [
       "Canvas(toolbar=Toolbar(toolitems=[('Home', 'Reset original view', 'home', 'home'), ('Back', 'Back to previous …"
      ]
     },
     "metadata": {},
     "output_type": "display_data"
    }
   ],
   "source": [
    "ptt = calculate_ptt(pulses_peaks, ecg_peaks)\n",
    "delayed_ecg = ecg_peaks+ptt\n",
    "plt.close(\"all\")\n",
    "ax1 = plt.subplot(2,1,1)\n",
    "plt.plot(ecg_peaks, ptt)\n",
    "plt.subplot(2,1,2, sharex=ax1)\n",
    "plt.plot(ppg)\n",
    "plt.plot(pulses_peaks, ppg[pulses_peaks], 'x')\n",
    "plt.plot(ecg_peaks, ppg[ecg_peaks], \"*\")\n",
    "plt.plot(delayed_ecg, ppg[delayed_ecg], 'o')\n",
    "plt.xlabel(\"Peak [i]\")\n",
    "plt.ylabel(\"Pulse Transit Time (samples)\")\n",
    "plt.show()\n",
    "\n",
    "# print(f\"Searching for peaks that are within {window} samples of the ECG Peak shifted by {pulse_transit_time} samples\")"
   ]
  },
  {
   "cell_type": "code",
   "execution_count": 39,
   "metadata": {},
   "outputs": [
    {
     "data": {
      "application/vnd.jupyter.widget-view+json": {
       "model_id": "3bd111ff8cea47a3976ed5ffa9777983",
       "version_major": 2,
       "version_minor": 0
      },
      "text/plain": [
       "Canvas(toolbar=Toolbar(toolitems=[('Home', 'Reset original view', 'home', 'home'), ('Back', 'Back to previous …"
      ]
     },
     "metadata": {},
     "output_type": "display_data"
    },
    {
     "name": "stdout",
     "output_type": "stream",
     "text": [
      "['Aboy', 'Bishop', 'IMS', 'AMPD', 'Co_PPG', 'Pulses', 'Heartpy', 'ECG Forecast']\n"
     ]
    }
   ],
   "source": [
    "delayed_ecg_peaks = calculate_delayed_ecg(Bishop_ppg_peaks, ecg_peaks)\n",
    "plt.close('all')\n",
    "f, (ax2, ax1) = plt.subplots(2,1, figsize=(14,9), sharex=True, gridspec_kw={'height_ratios': [1, 2]})\n",
    "ax1.plot(ppg)\n",
    "\n",
    "ax2.plot(Aboy_ppg_peaks, np.ones(len(Aboy_ppg_peaks))*0.01, 'o', color='orange', label='Aboy')\n",
    "ax2.plot(Bishop_ppg_peaks, np.ones(len(Bishop_ppg_peaks))*0.02, 'o', color='green', label='Bishop')\n",
    "ax2.plot(IMS_peaks, np.ones(len(IMS_peaks))*0.03, 'o', color='red', label='IMS')\n",
    "ax2.plot(AMPD_peaks, np.ones(len(AMPD_peaks))*0.04, 'o', color='pink', label='AMPD')\n",
    "ax2.plot(co_ppg_peaks, np.ones(len(co_ppg_peaks))*0.05, 'o', color='purple', label='Co_PPG')\n",
    "ax2.plot(pulses_peaks, np.ones(len(pulses_peaks))*0.06, 'o', color='gold', label='Pulses')\n",
    "ax2.plot(heartpy_peaks, np.ones(len(heartpy_peaks))*0.07, 'o', color='grey', label='Heartpy')\n",
    "ax2.plot(delayed_ecg_peaks, np.ones(len(delayed_ecg_peaks))*0, 'x', color='black', label='ECG Forecast')\n",
    "handles, labels = ax2.get_legend_handles_labels()\n",
    "# ax2.legend(handles[::-1], labels[::-1], loc='upper right', framealpha=1)\n",
    "print(labels)\n",
    "labels_ = [\"None\"]*len(labels)\n",
    "labels_[:] = [L for L in labels]\n",
    "ax2.set_yticks(np.arange(len(labels_))*0.01)\n",
    "ax2.set_yticklabels(labels_[::-1])\n",
    "ax2.tick_params(axis='both', which='major', labelsize=14)\n",
    "# ax1.plot(qppg_peaks, ppg[qppg_peaks]+0.06, 'o', color='violet', label='QPPG')\n",
    "\n",
    "# ax1.plot(Aboy_ppg_peaks, ppg[Aboy_ppg_peaks]+0.01, 'o', color='orange', label='Aboy')\n",
    "# ax1.plot(Bishop_ppg_peaks, ppg[Bishop_ppg_peaks]+0.02, 'o', color='green', label='Bishop')\n",
    "# ax1.plot(IMS_peaks, ppg[IMS_peaks]+0.03, 'o', color='red', label='IMS')\n",
    "# ax1.plot(AMPD_peaks, ppg[AMPD_peaks]+0.04, 'o', color='pink', label='AMPD')\n",
    "# ax1.plot(co_ppg_peaks, ppg[co_ppg_peaks]+0.05, 'o', color='purple', label='Co_PPG')\n",
    "# ax1.plot(pulses_peaks, ppg[pulses_peaks]+0.06, 'o', color='gold', label='Pulses')\n",
    "# # ax1.plot(qppg_peaks, ppg[qppg_peaks]+0.06, 'o', color='violet', label='QPPG')\n",
    "# ax1.plot(delayed_ecg_peaks, ppg[delayed_ecg_peaks], 'x', color='black', label='ECG Peak Forecast')\n",
    "ax1.set_ylabel('Normalized PPG [N/A]', fontsize=14)\n",
    "plt.tight_layout()"
   ]
  },
  {
   "cell_type": "code",
   "execution_count": 8,
   "metadata": {},
   "outputs": [],
   "source": [
    "def classify_peaks_and_ecg(ppg_peaks, ecg_delayed, window=60, double_peak_window=50):\n",
    "    validity = np.zeros_like(Aboy_ppg_peaks)\n",
    "    for i, peak in enumerate(Aboy_ppg_peaks):\n",
    "        if np.min(np.abs(ecg_delayed - peak)) < window:\n",
    "            validity[i] = 1\n",
    "\n",
    "    detected_ecg = np.zeros_like(ecg_delayed)\n",
    "    for i, ecg_peak in enumerate(ecg_delayed):\n",
    "        if np.min(np.abs(ecg_peak-Aboy_ppg_peaks)) < window:\n",
    "            detected_ecg[i] = 1\n",
    "\n",
    "    double_peaks = np.zeros_like(Aboy_ppg_peaks)\n",
    "    double_peaks[1:][np.diff(Aboy_ppg_peaks) < double_peak_window] = 1\n",
    "    \n",
    "    valid = ppg_peaks[validity==1]\n",
    "    invalid = ppg_peaks[(validity==0)+(double_peaks==1)] \n",
    "    doubles = ppg_peaks[double_peaks==1]\n",
    "    missed_ecg = ecg_delayed[detected_ecg==0]\n",
    "\n",
    "    return valid, invalid, doubles, missed_ecg\n",
    "\n"
   ]
  },
  {
   "cell_type": "code",
   "execution_count": 9,
   "metadata": {},
   "outputs": [
    {
     "data": {
      "application/vnd.jupyter.widget-view+json": {
       "model_id": "691b1f8e8fff48d883d5af6c4979afcd",
       "version_major": 2,
       "version_minor": 0
      },
      "text/plain": [
       "Canvas(toolbar=Toolbar(toolitems=[('Home', 'Reset original view', 'home', 'home'), ('Back', 'Back to previous …"
      ]
     },
     "metadata": {},
     "output_type": "display_data"
    },
    {
     "data": {
      "text/plain": [
       "<matplotlib.legend.Legend at 0x7f8b7021deb0>"
      ]
     },
     "execution_count": 9,
     "metadata": {},
     "output_type": "execute_result"
    }
   ],
   "source": [
    "valid, invalid, doubles, missed_ecg = classify_peaks_and_ecg(Aboy_ppg_peaks, delayed_ecg_peaks)\n",
    "\n",
    "plt.close(\"all\")\n",
    "plt.figure(figsize=(10,5))\n",
    "plt.plot(ppg)\n",
    "plt.plot(valid, ppg[valid], 'o', color='green', label='True Peaks')\n",
    "plt.plot(invalid, ppg[invalid], 'o', color='red', label=\"False Peaks\")\n",
    "plt.plot(missed_ecg, ppg[missed_ecg], 'o', color='orange', label=\"Missed ECG Peaks\")\n",
    "plt.plot(doubles, ppg[doubles], 'x', color='black', label=\"Double Peaks\")\n",
    "plt.plot(delayed_ecg_peaks, ppg[delayed_ecg_peaks], 'x', label='ECG Forecast')\n",
    "plt.ylabel('PPG Amplitude',fontsize=14)\n",
    "plt.xlabel(\"Time (Samples)\", fontsize=14)\n",
    "plt.legend(loc='upper right')"
   ]
  },
  {
   "cell_type": "code",
   "execution_count": null,
   "metadata": {},
   "outputs": [],
   "source": [
    "def f1_from_metrics(validity, ecg_peaks):\n",
    "    TP = validity.sum()\n",
    "    FP = len(validity) - TP\n",
    "    FN = len(ecg_peaks) - TP\n",
    "    return (TP)/(TP+0.5*(FP+FN))\n",
    "\n",
    "print(\"F1 Score: \", f1_from_metrics(valid, ecg_peaks))"
   ]
  },
  {
   "cell_type": "code",
   "execution_count": null,
   "metadata": {},
   "outputs": [],
   "source": [
    "from src.parsing.armand.feature_comp import bsqi\n",
    "\n",
    "delayed_ecg_peaks = calculate_delayed_ecg(Bishop_ppg_peaks, ecg_peaks)\n",
    "print(bsqi(delayed_ecg_peaks, Bishop_ppg_peaks, agw=0.1,fs=256))"
   ]
  },
  {
   "cell_type": "code",
   "execution_count": null,
   "metadata": {},
   "outputs": [],
   "source": []
  },
  {
   "cell_type": "code",
   "execution_count": null,
   "metadata": {},
   "outputs": [],
   "source": [
    "print(ppg_window_quality_summary(patients[0], benchmark, ecg_quality, 'Aboy', 'Peaks'))\n",
    "print(benchmark[benchmark.ecg_quality > 0.85].quality.mean())\n",
    "\n",
    "print(benchmark[(benchmark.quality > 0.97) & (benchmark.quality < 0.99)].head())"
   ]
  },
  {
   "cell_type": "code",
   "execution_count": null,
   "metadata": {},
   "outputs": [],
   "source": [
    "%load_ext autoreload\n",
    "%autoreload 2\n",
    "%matplotlib widget\n",
    "import matplotlib.pyplot as plt\n",
    "import numpy as np\n",
    "import os \n",
    "os.chdir('/home/kkotzen/research/PPG_sleepstaging/')\n",
    "from pathlib import Path\n",
    "from scipy.interpolate import interp1d\n",
    "\n",
    "from src.parsing.utils.comp_ppg_signal_quality import comp_ppg_signal_quality, ppg_window_quality, \\\n",
    "    ppg_window_quality_summary, limit_to_high_quality_peaks_range\n",
    "\n",
    "from src.parsing.MESAParser import MESAParser\n",
    "dl = MESAParser()\n",
    "patients = dl.database_all_patient_IDs[60:70]\n",
    "\n",
    "def moving_average(x, w):\n",
    "    return np.convolve(x, np.ones(w), 'valid') / w\n",
    "\n",
    "ecg = dl.load_signal(patients[0], 'EKG')\n",
    "\n",
    "ecg_peaks_epltd = dl.load_annotation(patients[0], 'EKG', 'epltd0', 'Peaks').astype(int)\n",
    "ecg_peaks_rpoint = dl.load_annotation(patients[0], 'EKG', 'rpoint', 'Peaks').astype(int)\n",
    "ecg_peaks_xqrs = dl.load_annotation(patients[0], 'EKG', 'xqrs', 'Peaks').astype(int)\n",
    "\n",
    "\n",
    "ecg_quality = dl.load_quality(patients[0], 'EKG')\n",
    "\n",
    "ecg_peaks_epltd = limit_to_high_quality_peaks_range(ecg_peaks_epltd, ecg_quality)\n",
    "ecg_peaks_rpoint = limit_to_high_quality_peaks_range(ecg_peaks_rpoint, ecg_quality)\n",
    "ecg_peaks_xqrs = limit_to_high_quality_peaks_range(ecg_peaks_xqrs, ecg_quality)\n",
    "\n",
    "\n",
    "plt.close('all')\n",
    "f, ax = plt.subplots(1,1, figsize=(10,5))\n",
    "ax.plot(ecg)\n",
    "ax.plot(ecg_peaks_rpoint, ecg[ecg_peaks_rpoint], 'x')\n",
    "# ax.plot(ecg_peaks_epltd, ecg[ecg_peaks_epltd], 'o')\n",
    "ax.plot(ecg_peaks_xqrs, ecg[ecg_peaks_xqrs], '*')\n",
    "\n",
    "ax.plot(np.arange(0, len(ecg_quality)*30*256, 30*256), ecg_quality)\n",
    "\n",
    "ax.legend()\n",
    "\n"
   ]
  },
  {
   "cell_type": "code",
   "execution_count": null,
   "metadata": {},
   "outputs": [],
   "source": [
    "# def nan_helper(y):\n",
    "#     return np.isnan(y), lambda z: z.nonzero()[0]\n",
    "\n",
    "\n",
    "# def moving_average_filter(rr, win_samples, percent):\n",
    "#     b_fir = 1 / (2 * win_samples) * np.append(np.ones(win_samples/2), np.append(0, np.ones(win_samples/2)))\n",
    "#     print(b_fir)\n",
    "#     rr_moving_average = signal.filtfilt(b_fir, 1, rr)\n",
    "#     rr_filtered = rr.copy()\n",
    "#     rr_filtered[\n",
    "#         ~((rr < (1 + percent / 100) * rr_moving_average) & (rr > (1 - percent / 100) * rr_moving_average))] = np.nan\n",
    "#     nans, x = nan_helper(rr_filtered)\n",
    "#     rr_filtered[nans] = np.interp(x(nans), x(~nans), rr_filtered[~nans])\n",
    "#     return rr_filtered"
   ]
  },
  {
   "cell_type": "code",
   "execution_count": null,
   "metadata": {},
   "outputs": [],
   "source": [
    "s = np.ones(100)\n",
    "s[20] = 1.5\n",
    "z = moving_average_filter(s, 10, 20)\n",
    "\n",
    "print(s)\n",
    "print(z)\n"
   ]
  },
  {
   "cell_type": "code",
   "execution_count": null,
   "metadata": {},
   "outputs": [],
   "source": []
  },
  {
   "cell_type": "code",
   "execution_count": null,
   "metadata": {},
   "outputs": [],
   "source": []
  },
  {
   "cell_type": "code",
   "execution_count": null,
   "metadata": {},
   "outputs": [],
   "source": []
  },
  {
   "cell_type": "code",
   "execution_count": null,
   "metadata": {},
   "outputs": [],
   "source": [
    "import pyedflib\n",
    "import numpy as np\n",
    "from pathlib import Path\n",
    "import os\n",
    "import tqdm\n",
    "from joblib import Parallel, delayed\n",
    "\n",
    "# # file_name = \"/home/kkotzen/databases/mesa/polysomnography/edfs/mesa-sleep-0028.edf\"\n",
    "# # f = pyedflib.EdfReader(file_name)\n",
    "# n = f.signals_in_file\n",
    "# signal_labels = f.getSignalLabels()\n",
    "# print([e for e in enumerate(signal_labels)])\n",
    "# x = f.readSignal(22)\n",
    "# # sigbufs = np.zeros((n, f.getNSamples()[0]))\n",
    "# # for i in np.arange(n):\n",
    "# #         sigbufs[i, :] = f.readSignal(i)\n",
    "\n",
    "source = Path(\"/home/kkotzen/databases/mesa/polysomnography/npys/Pleth/\")\n",
    "dest = Path(\"/home/kkotzen/databases/mesa/polysomnography/csvs/Pleth\")\n",
    "\n",
    "def process(f):\n",
    "    x = np.load(source / f)\n",
    "    filepath = dest / f\"{f[:-3]}csv\"\n",
    "    np.savetxt(filepath, x, delimiter=\",\")\n",
    "\n",
    "patients = ['0028']#, '0050','0054','0081','0388','0445','0485','0536','0548','0554','0648','0702','0823','0854','0873','1090','1474','1569','1570','1595','1619','1655','1732','1781','1842','1876','2129','2163','2183','2251','2264','2504','2780','2811','2846','2906','3112','3158','3510','3529','3612','3630','3761','3897','4000','4014','4032','4152','4168','4186','4461','4477','4488','4861','5118','5151','5169','5203','5231','5443','5555','5788','5939','5955','6005','6280','6314','6376','6430','6583','6723','6726']\n",
    "print(os.listdir(source)[0][11:15])\n",
    "files = [f for f in os.listdir(source) if f[11:15] in patients]\n",
    "Parallel(n_jobs=8)(delayed(process)(f) for f in tqdm.tqdm(files))\n",
    "\n",
    "# for f in tqdm.tqdm(os.listdir(source)):\n",
    "#     process(f)\n"
   ]
  },
  {
   "cell_type": "code",
   "execution_count": null,
   "metadata": {},
   "outputs": [],
   "source": [
    "# 3495\n",
    "co_ppg = \"/home/kkotzen/databases/mesa/polysomnography/annotations/Pleth/co_ppg/Peaks/mesa-sleep-0050-annotations.npy\"\n",
    "aboy = \"/home/kkotzen/databases/mesa/polysomnography/annotations/Pleth/Aboy/Peaks/mesa-sleep-0050-annotations.csv\"\n",
    "\n",
    "co_ppg_peaks = np.load(co_ppg)\n",
    "aboy_peaks = np.loadtxt(aboy).astype(int)\n",
    "\n",
    "signal = np.load(\"/home/kkotzen/databases/mesa/polysomnography/npys/Pleth/mesa-sleep-0050-Pleth.npy\")"
   ]
  },
  {
   "cell_type": "code",
   "execution_count": null,
   "metadata": {},
   "outputs": [],
   "source": [
    "plt.close('all')\n",
    "plt.plot(signal)\n",
    "plt.plot(co_ppg_peaks, signal[co_ppg_peaks], 'x')\n",
    "plt.plot(aboy_peaks, signal[aboy_peaks], 'o')\n"
   ]
  },
  {
   "cell_type": "code",
   "execution_count": 3,
   "metadata": {},
   "outputs": [
    {
     "data": {
      "text/plain": [
       "[<matplotlib.lines.Line2D at 0x7f611e9841f0>]"
      ]
     },
     "execution_count": 3,
     "metadata": {},
     "output_type": "execute_result"
    },
    {
     "data": {
      "image/png": "[encoded data removed]",
      "text/plain": [
       "<Figure size 432x288 with 1 Axes>"
      ]
     },
     "metadata": {
      "needs_background": "light"
     },
     "output_type": "display_data"
    }
   ],
   "source": [
    "import numpy as np\n",
    "import matplotlib.pyplot as plt\n",
    "\n",
    "def duplicate(x):\n",
    "    return np.array([[x_]*2 for x_ in x]).flatten()\n",
    "\n",
    "def hold_line(t, x):\n",
    "    t = [i for i in t]\n",
    "    x = [i for i in x]\n",
    "    \n",
    "    if len(t) - len(x) == 0:\n",
    "            t.append(t[-1]+t[-1]-t[-2])\n",
    "    if len(t)-len(x) != 1:\n",
    "            raise ValueError()\n",
    "            \n",
    "    t_ = duplicate(t)[1:-1]\n",
    "    x_ = duplicate(x)\n",
    "    return t_, x_\n",
    "\n",
    "X = np.array([0.25, 0.5, 0.25, 0.75, 0.25, 1])\n",
    "T = np.array([0,30,60,90,120, 150])\n",
    "\n",
    "t, x = hold_line(T, X)\n",
    "plt.close('all')\n",
    "plt.plot(t, x)"
   ]
  },
  {
   "cell_type": "code",
   "execution_count": null,
   "metadata": {},
   "outputs": [],
   "source": []
  }
 ],
 "metadata": {
  "kernelspec": {
   "display_name": "Python 3 (ipykernel)",
   "language": "python",
   "name": "python3"
  },
  "language_info": {
   "codemirror_mode": {
    "name": "ipython",
    "version": 3
   },
   "file_extension": ".py",
   "mimetype": "text/x-python",
   "name": "python",
   "nbconvert_exporter": "python",
   "pygments_lexer": "ipython3",
   "version": "3.9.5"
  }
 },
 "nbformat": 4,
 "nbformat_minor": 4
}
