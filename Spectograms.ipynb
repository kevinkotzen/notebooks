{
 "cells": [
  {
   "cell_type": "code",
   "execution_count": 1,
   "metadata": {},
   "outputs": [],
   "source": [
    "%load_ext autoreload\n",
    "%autoreload 2\n",
    "%matplotlib widget\n",
    "import matplotlib.pyplot as plt\n",
    "import numpy as np\n",
    "import os \n",
    "os.chdir('/home/kkotzen/research/PPG_sleepstaging_orion2 /')\n",
    "from pathlib import Path\n",
    "from src.parsing.MESAParser import MESAParser\n",
    "\n",
    "from scipy import signal, stats\n",
    "from scipy.signal import butter, resample, sosfiltfilt\n",
    "\n",
    "fs = 256\n",
    "resample_fs = 32\n",
    "F = fs/resample_fs\n",
    "highcut = 10\n",
    "lowcut = 0.1\n",
    "order=8\n",
    "sos = butter(order, [lowcut / (fs / 2), highcut / (fs / 2)], 'bandpass', output='sos')\n"
   ]
  },
  {
   "cell_type": "code",
   "execution_count": 2,
   "metadata": {},
   "outputs": [],
   "source": [
    "import time \n",
    "\n",
    "dl = MESAParser()\n",
    "patients = ['0050'] #dl.database_all_patient_IDs\n",
    "x = dl.load_signal(patients[0], 'Pleth')\n",
    "x_256 = sosfiltfilt(sos, x, axis=0)\n",
    "x_32 = resample(x_256, int(len(x)/F))\n",
    "fs = 32"
   ]
  },
  {
   "cell_type": "code",
   "execution_count": 3,
   "metadata": {},
   "outputs": [
    {
     "data": {
      "application/vnd.jupyter.widget-view+json": {
       "model_id": "3786d60f083240f9b118cc1ceded19d2",
       "version_major": 2,
       "version_minor": 0
      },
      "text/plain": [
       "Canvas(toolbar=Toolbar(toolitems=[('Home', 'Reset original view', 'home', 'home'), ('Back', 'Back to previous …"
      ]
     },
     "metadata": {},
     "output_type": "display_data"
    }
   ],
   "source": [
    "plt.close('all')\n",
    "plt.figure(figsize=(7,2))\n",
    "t_32 = np.arange(0, len(x_32)/32, 1/32)\n",
    "plt.plot(t_32, x_32)\n",
    "plt.tight_layout()"
   ]
  },
  {
   "cell_type": "code",
   "execution_count": 4,
   "metadata": {},
   "outputs": [
    {
     "data": {
      "application/vnd.jupyter.widget-view+json": {
       "model_id": "b655efa177b443dca62967d5df64e061",
       "version_major": 2,
       "version_minor": 0
      },
      "text/plain": [
       "Canvas(toolbar=Toolbar(toolitems=[('Home', 'Reset original view', 'home', 'home'), ('Back', 'Back to previous …"
      ]
     },
     "metadata": {},
     "output_type": "display_data"
    }
   ],
   "source": [
    "plt.close('all')\n",
    "win=8\n",
    "hop=4\n",
    "f, t, Sxx = signal.spectrogram(x_32[0:32*30*800], fs, nperseg = fs*win, noverlap=fs*hop, window='tukey')\n",
    "if Sxx.shape[1] > 1:\n",
    "    plt.pcolormesh(t, f, np.log(Sxx))\n",
    "    plt.ylabel('Frequency [Hz]')\n",
    "    plt.xlabel('Time [sec]')"
   ]
  },
  {
   "cell_type": "code",
   "execution_count": 7,
   "metadata": {},
   "outputs": [
    {
     "name": "stdout",
     "output_type": "stream",
     "text": [
      "(1199, 960)\n"
     ]
    }
   ],
   "source": [
    "def _time_series_subsequences(ts, window, hop=1):\n",
    "    assert len(ts.shape) == 1\n",
    "    shape = (int(int(ts.size - window) / hop + 1), window)\n",
    "    strides = ts.strides[0] * hop, ts.strides[0]\n",
    "    return np.lib.stride_tricks.as_strided(ts, shape=shape, strides=strides)\n",
    "\n",
    "X = _time_series_subsequences(x_32, 32*30, 32*30)\n",
    "print(X.shape)"
   ]
  },
  {
   "cell_type": "code",
   "execution_count": 8,
   "metadata": {},
   "outputs": [
    {
     "data": {
      "application/vnd.jupyter.widget-view+json": {
       "model_id": "f0cae0efdfcf4ece84a92d6a87223d7e",
       "version_major": 2,
       "version_minor": 0
      },
      "text/plain": [
       "Canvas(toolbar=Toolbar(toolitems=[('Home', 'Reset original view', 'home', 'home'), ('Back', 'Back to previous …"
      ]
     },
     "metadata": {},
     "output_type": "display_data"
    },
    {
     "data": {
      "text/plain": [
       "[<matplotlib.lines.Line2D at 0x7fb3bdffbac0>]"
      ]
     },
     "execution_count": 8,
     "metadata": {},
     "output_type": "execute_result"
    }
   ],
   "source": [
    "plt.close('all')\n",
    "plt.plot(X[100])"
   ]
  },
  {
   "cell_type": "code",
   "execution_count": 11,
   "metadata": {},
   "outputs": [
    {
     "data": {
      "application/vnd.jupyter.widget-view+json": {
       "model_id": "be7a79527d1f4709a34f3ef66784ee9b",
       "version_major": 2,
       "version_minor": 0
      },
      "text/plain": [
       "Canvas(toolbar=Toolbar(toolitems=[('Home', 'Reset original view', 'home', 'home'), ('Back', 'Back to previous …"
      ]
     },
     "metadata": {},
     "output_type": "display_data"
    },
    {
     "data": {
      "application/vnd.jupyter.widget-view+json": {
       "model_id": "e4cb3ed621224aef8340dcfd6f1fd950",
       "version_major": 2,
       "version_minor": 0
      },
      "text/plain": [
       "Canvas(toolbar=Toolbar(toolitems=[('Home', 'Reset original view', 'home', 'home'), ('Back', 'Back to previous …"
      ]
     },
     "metadata": {},
     "output_type": "display_data"
    },
    {
     "data": {
      "application/vnd.jupyter.widget-view+json": {
       "model_id": "17ee5e4b78c8431d9b16f82bd970a9f0",
       "version_major": 2,
       "version_minor": 0
      },
      "text/plain": [
       "Canvas(toolbar=Toolbar(toolitems=[('Home', 'Reset original view', 'home', 'home'), ('Back', 'Back to previous …"
      ]
     },
     "metadata": {},
     "output_type": "display_data"
    },
    {
     "data": {
      "application/vnd.jupyter.widget-view+json": {
       "model_id": "1a413841135a44bf9e60af9716ec85c9",
       "version_major": 2,
       "version_minor": 0
      },
      "text/plain": [
       "Canvas(toolbar=Toolbar(toolitems=[('Home', 'Reset original view', 'home', 'home'), ('Back', 'Back to previous …"
      ]
     },
     "metadata": {},
     "output_type": "display_data"
    },
    {
     "data": {
      "application/vnd.jupyter.widget-view+json": {
       "model_id": "88acc82895d64750853db957ebc40ee4",
       "version_major": 2,
       "version_minor": 0
      },
      "text/plain": [
       "Canvas(toolbar=Toolbar(toolitems=[('Home', 'Reset original view', 'home', 'home'), ('Back', 'Back to previous …"
      ]
     },
     "metadata": {},
     "output_type": "display_data"
    },
    {
     "data": {
      "application/vnd.jupyter.widget-view+json": {
       "model_id": "d9869b76bcc64eb8a8b290a772288e33",
       "version_major": 2,
       "version_minor": 0
      },
      "text/plain": [
       "Canvas(toolbar=Toolbar(toolitems=[('Home', 'Reset original view', 'home', 'home'), ('Back', 'Back to previous …"
      ]
     },
     "metadata": {},
     "output_type": "display_data"
    }
   ],
   "source": [
    "plt.close('all')\n",
    "plt.plot(X[100])\n",
    "for i in [2,4,8,16,30]:\n",
    "    win, hop = i, i/2\n",
    "    f, t, Sxx = signal.spectrogram(X[100], fs, nperseg = fs*win, noverlap=fs*hop, window='tukey')\n",
    "    plt.figure(figsize=(4,4))\n",
    "    plt.title(f\"{win}s window with {hop}s overlap. {Sxx.shape}\")\n",
    "    if Sxx.shape[1] > 1:\n",
    "        plt.pcolormesh(t, f, np.log(Sxx))\n",
    "        plt.ylabel('Frequency [Hz]')\n",
    "        plt.xlabel('Time [sec]')\n",
    "    else:\n",
    "        plt.plot(f, (np.mean(Sxx, axis=1)*100))\n",
    "        plt.ylabel('Amplitude')\n",
    "        plt.xlabel('Frequency [Hz]')\n",
    "#     plt.show()\n"
   ]
  },
  {
   "cell_type": "code",
   "execution_count": 5,
   "metadata": {},
   "outputs": [
    {
     "data": {
      "application/vnd.jupyter.widget-view+json": {
       "model_id": "2a40fb43539b424da61abdcf22f8e559",
       "version_major": 2,
       "version_minor": 0
      },
      "text/plain": [
       "Canvas(toolbar=Toolbar(toolitems=[('Home', 'Reset original view', 'home', 'home'), ('Back', 'Back to previous …"
      ]
     },
     "metadata": {},
     "output_type": "display_data"
    },
    {
     "data": {
      "text/plain": [
       "<matplotlib.image.AxesImage at 0x7fb3be00a1f0>"
      ]
     },
     "execution_count": 5,
     "metadata": {},
     "output_type": "execute_result"
    }
   ],
   "source": [
    "plt.close('all')\n",
    "widths = np.arange(1, 31)\n",
    "cwtmatr = signal.cwt(x_32, signal.ricker, widths)\n",
    "# X_ = X[0:10]\n",
    "# cwtmatr = np.zeros((30, X_.shape[0]*X_.shape[1]))\n",
    "# print(cwtmatr.shape)\n",
    "# for i, x in enumerate(X_):\n",
    "#     cwt = signal.cwt(x, signal.ricker, widths)\n",
    "#     cwtmatr[:, i*x.shape[0]:(i+1)*x.shape[0]] =(cwt-np.mean(cwt))/np.std(cwt) \n",
    "\n",
    "# for i in range(cwtmatr.shape[0]):\n",
    "#     cwt = cwtmatr[i,:]\n",
    "#     cwtmatr[i,:] = (cwt-np.mean(cwt))/np.std(cwt) \n",
    "# plt.imshow((cwtmatr), cmap='PRGn', aspect='auto',\n",
    "#            vmax=abs((cwtmatr)).max(), vmin=-abs((cwtmatr)).max(), origin='lower')\n",
    "\n",
    "# print(cwtmatr.shape)\n",
    "# plt.imshow(, cmap='PRGn', aspect='auto',\n",
    "#            vmax=abs(cwtmatr).max(), vmin=-abs(cwtmatr).max(), origin='lower')\n",
    "# plt.subplot(4,1,3, sharex=ax1)\n",
    "# plt.plot(cwtmatr[5,:])\n",
    "# plt.subplot(4,1,4, sharex=ax1)\n",
    "# plt.plot(cwtmatr[25,:])\n",
    "\n",
    "# plt.show()\n",
    "plt.figure()\n",
    "plt.imshow((cwtmatr[:,3200:3520]), cmap='PRGn', aspect='auto',\n",
    "           vmax=abs((cwtmatr[:,3200:3520])).max(), vmin=-abs((cwtmatr[:,3200:3520])).max(), origin='lower')"
   ]
  },
  {
   "cell_type": "code",
   "execution_count": null,
   "metadata": {},
   "outputs": [],
   "source": [
    "win, hop = 16, 8\n",
    "Sxx = np.empty((X.shape[0], 257, 2))\n",
    "for i in range(X.shape[0]):\n",
    "    f, t, Sxx_i = signal.spectrogram(X[i], fs, nperseg = fs*win, noverlap=fs*hop, window='hamming')\n",
    "    Sxx[i] = Sxx_i"
   ]
  },
  {
   "cell_type": "code",
   "execution_count": null,
   "metadata": {},
   "outputs": [],
   "source": [
    "Sxx_mean = np.mean(Sxx[0:900, :, :], axis=2)\n",
    "plt.close('all')\n",
    "plt.figure(figsize=(8,4))\n",
    "plt.pcolormesh(np.arange(900), f[0:60], (Sxx_mean.T)[0:60,:])"
   ]
  },
  {
   "cell_type": "code",
   "execution_count": null,
   "metadata": {},
   "outputs": [],
   "source": [
    "import numpy as np\n",
    "from numpy.lib.stride_tricks import as_strided\n",
    "\n",
    "def pool1d(ts, window, hop, padding, pool_mode='max'):\n",
    "    assert len(ts.shape) == 1\n",
    "    shape = (int(int(ts.size - window) / hop + 1), window)\n",
    "    strides = ts.strides[0] * hop, ts.strides[0]\n",
    "    strided = np.lib.stride_tricks.as_strided(ts, shape=shape, strides=strides)\n",
    "    if pool_mode=='max':\n",
    "        return np.max(strided, axis=1).reshape(-1)\n",
    "    else:\n",
    "        return np.mean(strided, axis=1).reshape(-1)\n"
   ]
  },
  {
   "cell_type": "code",
   "execution_count": null,
   "metadata": {},
   "outputs": [],
   "source": [
    "import copy\n",
    "x_32 = copy.deepcopy(X[100])"
   ]
  },
  {
   "cell_type": "code",
   "execution_count": null,
   "metadata": {},
   "outputs": [],
   "source": [
    "x_16_max = pool1d(x_32, 2, 2,0, 'max')\n",
    "x_16_ave = pool1d(x_32, 2, 2,0, 'ave')\n",
    "x_8_max = pool1d(x_16_max, 2, 2,0, 'max')\n",
    "x_8_ave = pool1d(x_16_ave, 2, 2,0, 'ave')\n",
    "x_4_max = pool1d(x_8_max, 2, 2,0, 'max')\n",
    "x_4_ave = pool1d(x_8_ave, 2, 2,0, 'ave')\n",
    "x_2_max = pool1d(x_4_max, 2, 2,0, 'max')\n",
    "x_2_ave = pool1d(x_4_ave, 2, 2,0, 'ave')\n",
    "x_1_max = pool1d(x_2_max, 2, 2,0, 'max')\n",
    "x_1_ave = pool1d(x_2_ave, 2, 2,0, 'ave')"
   ]
  },
  {
   "cell_type": "code",
   "execution_count": null,
   "metadata": {},
   "outputs": [],
   "source": [
    "plt.close('all')\n",
    "t_32 = np.arange(0, len(x_32)/32, 1/32)\n",
    "t_16 = np.arange(0, len(x_16_max)/16, 1/16)\n",
    "t_8 = np.arange(0, len(x_8_max)/8, 1/8)\n",
    "t_4 = np.arange(0, len(x_4_max)/4, 1/4)\n",
    "t_2 = np.arange(0, len(x_2_max)/2, 1/2)\n",
    "t_1 = np.arange(0, len(x_1_max)/1, 1/1)\n",
    "\n",
    "plt.plot(t_32, x_32, label='x32')\n",
    "plt.plot(t_16, x_16_max, label='x16max')\n",
    "# plt.plot(t_16, x_16_ave, label='x16ave')\n",
    "plt.plot(t_8, x_8_max, label='x8max')\n",
    "# plt.plot(t_8, x_8_ave, label='x8ave')\n",
    "plt.plot(t_4, x_4_max, label='x4max')\n",
    "# plt.plot(t_4, x_4_ave, label='x4ave')\n",
    "plt.plot(t_2, x_2_max, label='x2max')\n",
    "# plt.plot(t_2, x_2_ave, label='x2ave')\n",
    "plt.plot(t_1, x_1_max, label='x1max')\n",
    "# plt.plot(t_1, x_1_ave, label='x1ave')\n",
    "plt.legend(loc='right')\n"
   ]
  },
  {
   "cell_type": "code",
   "execution_count": null,
   "metadata": {},
   "outputs": [],
   "source": [
    "plt.close('all')\n",
    "t_32 = np.arange(0, len(x_32)/32, 1/32)\n",
    "t_16 = np.arange(0, len(x_16_max)/16, 1/16)\n",
    "t_8 = np.arange(0, len(x_8_max)/8, 1/8)\n",
    "t_4 = np.arange(0, len(x_4_max)/4, 1/4)\n",
    "t_2 = np.arange(0, len(x_2_max)/2, 1/2)\n",
    "t_1 = np.arange(0, len(x_1_max)/1, 1/1)\n",
    "\n",
    "plt.plot(t_32, x_32, label='x32')\n",
    "plt.plot(t_16, x_16_ave, label='x16ave')\n",
    "plt.plot(t_8, x_8_ave, label='x8ave')\n",
    "plt.plot(t_4, x_4_ave, label='x4ave')\n",
    "plt.plot(t_2, x_2_ave, label='x2ave')\n",
    "plt.plot(t_1, x_1_ave, label='x1ave')\n",
    "plt.legend(loc='right')\n"
   ]
  },
  {
   "cell_type": "code",
   "execution_count": null,
   "metadata": {},
   "outputs": [],
   "source": []
  }
 ],
 "metadata": {
  "kernelspec": {
   "display_name": "Python 3 (ipykernel)",
   "language": "python",
   "name": "python3"
  },
  "language_info": {
   "codemirror_mode": {
    "name": "ipython",
    "version": 3
   },
   "file_extension": ".py",
   "mimetype": "text/x-python",
   "name": "python",
   "nbconvert_exporter": "python",
   "pygments_lexer": "ipython3",
   "version": "3.9.5"
  }
 },
 "nbformat": 4,
 "nbformat_minor": 4
}
