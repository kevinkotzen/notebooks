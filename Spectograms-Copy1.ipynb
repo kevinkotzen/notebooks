{
 "cells": [
  {
   "cell_type": "code",
   "execution_count": 1,
   "metadata": {},
   "outputs": [],
   "source": [
    "%load_ext autoreload\n",
    "%autoreload 2\n",
    "%matplotlib widget\n",
    "import matplotlib.pyplot as plt\n",
    "import numpy as np\n",
    "import os \n",
    "os.chdir('/home/kkotzen/research/PPG_sleepstaging_orion2 /')\n",
    "from pathlib import Path\n",
    "from src.parsing.MESAParser import MESAParser\n",
    "\n",
    "from scipy import signal, stats\n",
    "from scipy.signal import butter, resample, sosfiltfilt\n",
    "\n",
    "fs = 256\n",
    "resample_fs = 32\n",
    "F = fs/resample_fs\n",
    "highcut = 10\n",
    "lowcut = 0.00001\n",
    "order=8\n",
    "\n",
    "sos = butter(order, [lowcut / (fs / 2), highcut / (fs / 2)], 'bandpass', output='sos')\n"
   ]
  },
  {
   "cell_type": "code",
   "execution_count": 2,
   "metadata": {},
   "outputs": [],
   "source": [
    "import time \n",
    "\n",
    "dl = MESAParser()\n",
    "patients = ['0050'] #dl.database_all_patient_IDs\n",
    "x = dl.load_signal(patients[0], 'Pleth')\n",
    "x = sosfiltfilt(sos, x, axis=0)\n",
    "x = resample(x, int(len(x)/F))\n",
    "fs = 32"
   ]
  },
  {
   "cell_type": "code",
   "execution_count": 3,
   "metadata": {},
   "outputs": [],
   "source": [
    "r = [0.0001, 0.01, 0.1, 0.15, 0.5, 2, 4]\n",
    "x_filt = np.empty((len(r), len(x)))\n",
    "for i in range(len(r)-1):\n",
    "    sos = butter(order, [r[i] / (fs / 2), r[i+1] / (fs / 2)], 'bandpass', output='sos')\n",
    "    x_filt[i] = sosfiltfilt(sos, x, axis=0)\n"
   ]
  },
  {
   "cell_type": "code",
   "execution_count": 4,
   "metadata": {},
   "outputs": [
    {
     "data": {
      "application/vnd.jupyter.widget-view+json": {
       "model_id": "7920272cfbb64f04babb13bdbb78474c",
       "version_major": 2,
       "version_minor": 0
      },
      "text/plain": [
       "Canvas(toolbar=Toolbar(toolitems=[('Home', 'Reset original view', 'home', 'home'), ('Back', 'Back to previous …"
      ]
     },
     "metadata": {},
     "output_type": "display_data"
    }
   ],
   "source": [
    "plt.close('all')\n",
    "fig, ax = plt.subplots(2,3, sharex=True)\n",
    "ax[0,0].plot(x)\n",
    "for i in range(0,2,1):\n",
    "    ax[0,i+1].plot(x_filt[i])\n",
    "    ax[0,i+1].set_ylabel(f\"{r[i]} to {r[i+1]}\")\n",
    "for i in range(0,3,1):\n",
    "    ax[1,i].plot(x_filt[i+2])\n",
    "    ax[1,i].set_ylabel(f\"{r[i+2]} to {r[i+3]}\")\n",
    "    \n",
    "plt.tight_layout()"
   ]
  },
  {
   "cell_type": "code",
   "execution_count": 6,
   "metadata": {},
   "outputs": [
    {
     "ename": "NameError",
     "evalue": "name 'x_32' is not defined",
     "output_type": "error",
     "traceback": [
      "\u001b[0;31m---------------------------------------------------------------------------\u001b[0m",
      "\u001b[0;31mNameError\u001b[0m                                 Traceback (most recent call last)",
      "\u001b[0;32m/tmp/ipykernel_317342/143884821.py\u001b[0m in \u001b[0;36m<module>\u001b[0;34m\u001b[0m\n\u001b[1;32m      5\u001b[0m     \u001b[0;32mreturn\u001b[0m \u001b[0mnp\u001b[0m\u001b[0;34m.\u001b[0m\u001b[0mlib\u001b[0m\u001b[0;34m.\u001b[0m\u001b[0mstride_tricks\u001b[0m\u001b[0;34m.\u001b[0m\u001b[0mas_strided\u001b[0m\u001b[0;34m(\u001b[0m\u001b[0mts\u001b[0m\u001b[0;34m,\u001b[0m \u001b[0mshape\u001b[0m\u001b[0;34m=\u001b[0m\u001b[0mshape\u001b[0m\u001b[0;34m,\u001b[0m \u001b[0mstrides\u001b[0m\u001b[0;34m=\u001b[0m\u001b[0mstrides\u001b[0m\u001b[0;34m)\u001b[0m\u001b[0;34m\u001b[0m\u001b[0;34m\u001b[0m\u001b[0m\n\u001b[1;32m      6\u001b[0m \u001b[0;34m\u001b[0m\u001b[0m\n\u001b[0;32m----> 7\u001b[0;31m \u001b[0mX\u001b[0m \u001b[0;34m=\u001b[0m \u001b[0m_time_series_subsequences\u001b[0m\u001b[0;34m(\u001b[0m\u001b[0mx_32\u001b[0m\u001b[0;34m,\u001b[0m \u001b[0;36m32\u001b[0m\u001b[0;34m*\u001b[0m\u001b[0;36m30\u001b[0m\u001b[0;34m,\u001b[0m \u001b[0;36m32\u001b[0m\u001b[0;34m*\u001b[0m\u001b[0;36m30\u001b[0m\u001b[0;34m)\u001b[0m\u001b[0;34m\u001b[0m\u001b[0;34m\u001b[0m\u001b[0m\n\u001b[0m\u001b[1;32m      8\u001b[0m \u001b[0mprint\u001b[0m\u001b[0;34m(\u001b[0m\u001b[0mX\u001b[0m\u001b[0;34m.\u001b[0m\u001b[0mshape\u001b[0m\u001b[0;34m)\u001b[0m\u001b[0;34m\u001b[0m\u001b[0;34m\u001b[0m\u001b[0m\n",
      "\u001b[0;31mNameError\u001b[0m: name 'x_32' is not defined"
     ]
    }
   ],
   "source": [
    "def _time_series_subsequences(ts, window, hop=1):\n",
    "    assert len(ts.shape) == 1\n",
    "    shape = (int(int(ts.size - window) / hop + 1), window)\n",
    "    strides = ts.strides[0] * hop, ts.strides[0]\n",
    "    return np.lib.stride_tricks.as_strided(ts, shape=shape, strides=strides)\n",
    "\n",
    "X = _time_series_subsequences(x_32, 32*30, 32*30)\n",
    "print(X.shape)"
   ]
  },
  {
   "cell_type": "code",
   "execution_count": null,
   "metadata": {},
   "outputs": [],
   "source": [
    "plt.close('all')\n",
    "plt.plot(X[100])"
   ]
  },
  {
   "cell_type": "code",
   "execution_count": 5,
   "metadata": {},
   "outputs": [
    {
     "ename": "NameError",
     "evalue": "name 'X' is not defined",
     "output_type": "error",
     "traceback": [
      "\u001b[0;31m---------------------------------------------------------------------------\u001b[0m",
      "\u001b[0;31mNameError\u001b[0m                                 Traceback (most recent call last)",
      "\u001b[0;32m/tmp/ipykernel_317342/612316625.py\u001b[0m in \u001b[0;36m<module>\u001b[0;34m\u001b[0m\n\u001b[1;32m      1\u001b[0m \u001b[0mplt\u001b[0m\u001b[0;34m.\u001b[0m\u001b[0mclose\u001b[0m\u001b[0;34m(\u001b[0m\u001b[0;34m'all'\u001b[0m\u001b[0;34m)\u001b[0m\u001b[0;34m\u001b[0m\u001b[0;34m\u001b[0m\u001b[0m\n\u001b[0;32m----> 2\u001b[0;31m \u001b[0mplt\u001b[0m\u001b[0;34m.\u001b[0m\u001b[0mplot\u001b[0m\u001b[0;34m(\u001b[0m\u001b[0mX\u001b[0m\u001b[0;34m[\u001b[0m\u001b[0;36m100\u001b[0m\u001b[0;34m]\u001b[0m\u001b[0;34m)\u001b[0m\u001b[0;34m\u001b[0m\u001b[0;34m\u001b[0m\u001b[0m\n\u001b[0m\u001b[1;32m      3\u001b[0m \u001b[0;32mfor\u001b[0m \u001b[0mi\u001b[0m \u001b[0;32min\u001b[0m \u001b[0;34m[\u001b[0m\u001b[0;36m2\u001b[0m\u001b[0;34m,\u001b[0m\u001b[0;36m4\u001b[0m\u001b[0;34m,\u001b[0m\u001b[0;36m8\u001b[0m\u001b[0;34m,\u001b[0m\u001b[0;36m16\u001b[0m\u001b[0;34m,\u001b[0m\u001b[0;36m30\u001b[0m\u001b[0;34m]\u001b[0m\u001b[0;34m:\u001b[0m\u001b[0;34m\u001b[0m\u001b[0;34m\u001b[0m\u001b[0m\n\u001b[1;32m      4\u001b[0m     \u001b[0mwin\u001b[0m\u001b[0;34m,\u001b[0m \u001b[0mhop\u001b[0m \u001b[0;34m=\u001b[0m \u001b[0mi\u001b[0m\u001b[0;34m,\u001b[0m \u001b[0mi\u001b[0m\u001b[0;34m/\u001b[0m\u001b[0;36m2\u001b[0m\u001b[0;34m\u001b[0m\u001b[0;34m\u001b[0m\u001b[0m\n\u001b[1;32m      5\u001b[0m     \u001b[0mf\u001b[0m\u001b[0;34m,\u001b[0m \u001b[0mt\u001b[0m\u001b[0;34m,\u001b[0m \u001b[0mSxx\u001b[0m \u001b[0;34m=\u001b[0m \u001b[0msignal\u001b[0m\u001b[0;34m.\u001b[0m\u001b[0mspectrogram\u001b[0m\u001b[0;34m(\u001b[0m\u001b[0mX\u001b[0m\u001b[0;34m[\u001b[0m\u001b[0;36m100\u001b[0m\u001b[0;34m]\u001b[0m\u001b[0;34m,\u001b[0m \u001b[0mfs\u001b[0m\u001b[0;34m,\u001b[0m \u001b[0mnperseg\u001b[0m \u001b[0;34m=\u001b[0m \u001b[0mfs\u001b[0m\u001b[0;34m*\u001b[0m\u001b[0mwin\u001b[0m\u001b[0;34m,\u001b[0m \u001b[0mnoverlap\u001b[0m\u001b[0;34m=\u001b[0m\u001b[0mfs\u001b[0m\u001b[0;34m*\u001b[0m\u001b[0mhop\u001b[0m\u001b[0;34m,\u001b[0m \u001b[0mwindow\u001b[0m\u001b[0;34m=\u001b[0m\u001b[0;34m'tukey'\u001b[0m\u001b[0;34m)\u001b[0m\u001b[0;34m\u001b[0m\u001b[0;34m\u001b[0m\u001b[0m\n",
      "\u001b[0;31mNameError\u001b[0m: name 'X' is not defined"
     ]
    }
   ],
   "source": [
    "plt.close('all')\n",
    "plt.plot(X[100])\n",
    "for i in [2,4,8,16,30]:\n",
    "    win, hop = i, i/2\n",
    "    f, t, Sxx = signal.spectrogram(X[100], fs, nperseg = fs*win, noverlap=fs*hop, window='tukey')\n",
    "    plt.figure(figsize=(4,4))\n",
    "    plt.title(f\"{win}s window with {hop}s overlap. {Sxx.shape}\")\n",
    "    if Sxx.shape[1] > 1:\n",
    "        plt.pcolormesh(t, f, np.log(Sxx))\n",
    "        plt.ylabel('Frequency [Hz]')\n",
    "        plt.xlabel('Time [sec]')\n",
    "    else:\n",
    "        plt.plot(f, (np.mean(Sxx, axis=1)*100))\n",
    "        plt.ylabel('Amplitude')\n",
    "        plt.xlabel('Frequency [Hz]')\n",
    "#     plt.show()\n"
   ]
  },
  {
   "cell_type": "code",
   "execution_count": 9,
   "metadata": {},
   "outputs": [
    {
     "data": {
      "application/vnd.jupyter.widget-view+json": {
       "model_id": "3a523e9e5a5d4f699d02f968022a6a38",
       "version_major": 2,
       "version_minor": 0
      },
      "text/plain": [
       "Canvas(toolbar=Toolbar(toolitems=[('Home', 'Reset original view', 'home', 'home'), ('Back', 'Back to previous …"
      ]
     },
     "metadata": {},
     "output_type": "display_data"
    },
    {
     "data": {
      "text/plain": [
       "<matplotlib.image.AxesImage at 0x7f975b179df0>"
      ]
     },
     "execution_count": 9,
     "metadata": {},
     "output_type": "execute_result"
    }
   ],
   "source": [
    "plt.close('all')\n",
    "widths = np.arange(1, 31)\n",
    "cwtmatr = signal.cwt(x_32, signal.ricker, widths)\n",
    "# X_ = X[0:10]\n",
    "# cwtmatr = np.zeros((30, X_.shape[0]*X_.shape[1]))\n",
    "# print(cwtmatr.shape)\n",
    "# for i, x in enumerate(X_):\n",
    "#     cwt = signal.cwt(x, signal.ricker, widths)\n",
    "#     cwtmatr[:, i*x.shape[0]:(i+1)*x.shape[0]] =(cwt-np.mean(cwt))/np.std(cwt) \n",
    "\n",
    "# for i in range(cwtmatr.shape[0]):\n",
    "#     cwt = cwtmatr[i,:]\n",
    "#     cwtmatr[i,:] = (cwt-np.mean(cwt))/np.std(cwt) \n",
    "# plt.imshow((cwtmatr), cmap='PRGn', aspect='auto',\n",
    "#            vmax=abs((cwtmatr)).max(), vmin=-abs((cwtmatr)).max(), origin='lower')\n",
    "\n",
    "# print(cwtmatr.shape)\n",
    "# plt.imshow(, cmap='PRGn', aspect='auto',\n",
    "#            vmax=abs(cwtmatr).max(), vmin=-abs(cwtmatr).max(), origin='lower')\n",
    "# plt.subplot(4,1,3, sharex=ax1)\n",
    "# plt.plot(cwtmatr[5,:])\n",
    "# plt.subplot(4,1,4, sharex=ax1)\n",
    "# plt.plot(cwtmatr[25,:])\n",
    "\n",
    "# plt.show()\n",
    "plt.figure()\n",
    "plt.imshow((cwtmatr[:,3200:3520]), cmap='PRGn', aspect='auto',\n",
    "           vmax=abs((cwtmatr[:,3200:3520])).max(), vmin=-abs((cwtmatr[:,3200:3520])).max(), origin='lower')"
   ]
  },
  {
   "cell_type": "code",
   "execution_count": null,
   "metadata": {},
   "outputs": [],
   "source": [
    "win, hop = 16, 8\n",
    "Sxx = np.empty((X.shape[0], 257, 2))\n",
    "for i in range(X.shape[0]):\n",
    "    f, t, Sxx_i = signal.spectrogram(X[i], fs, nperseg = fs*win, noverlap=fs*hop, window='hamming')\n",
    "    Sxx[i] = Sxx_i"
   ]
  },
  {
   "cell_type": "code",
   "execution_count": null,
   "metadata": {},
   "outputs": [],
   "source": [
    "Sxx_mean = np.mean(Sxx[0:900, :, :], axis=2)\n",
    "plt.close('all')\n",
    "plt.figure(figsize=(8,4))\n",
    "plt.pcolormesh(np.arange(900), f[0:60], (Sxx_mean.T)[0:60,:])"
   ]
  },
  {
   "cell_type": "code",
   "execution_count": null,
   "metadata": {},
   "outputs": [],
   "source": [
    "import numpy as np\n",
    "from numpy.lib.stride_tricks import as_strided\n",
    "\n",
    "def pool1d(ts, window, hop, padding, pool_mode='max'):\n",
    "    assert len(ts.shape) == 1\n",
    "    shape = (int(int(ts.size - window) / hop + 1), window)\n",
    "    strides = ts.strides[0] * hop, ts.strides[0]\n",
    "    strided = np.lib.stride_tricks.as_strided(ts, shape=shape, strides=strides)\n",
    "    if pool_mode=='max':\n",
    "        return np.max(strided, axis=1).reshape(-1)\n",
    "    else:\n",
    "        return np.mean(strided, axis=1).reshape(-1)\n"
   ]
  },
  {
   "cell_type": "code",
   "execution_count": null,
   "metadata": {},
   "outputs": [],
   "source": [
    "import copy\n",
    "x_32 = copy.deepcopy(X[100])"
   ]
  },
  {
   "cell_type": "code",
   "execution_count": null,
   "metadata": {},
   "outputs": [],
   "source": [
    "x_16_max = pool1d(x_32, 2, 2,0, 'max')\n",
    "x_16_ave = pool1d(x_32, 2, 2,0, 'ave')\n",
    "x_8_max = pool1d(x_16_max, 2, 2,0, 'max')\n",
    "x_8_ave = pool1d(x_16_ave, 2, 2,0, 'ave')\n",
    "x_4_max = pool1d(x_8_max, 2, 2,0, 'max')\n",
    "x_4_ave = pool1d(x_8_ave, 2, 2,0, 'ave')\n",
    "x_2_max = pool1d(x_4_max, 2, 2,0, 'max')\n",
    "x_2_ave = pool1d(x_4_ave, 2, 2,0, 'ave')\n",
    "x_1_max = pool1d(x_2_max, 2, 2,0, 'max')\n",
    "x_1_ave = pool1d(x_2_ave, 2, 2,0, 'ave')"
   ]
  },
  {
   "cell_type": "code",
   "execution_count": null,
   "metadata": {},
   "outputs": [],
   "source": [
    "plt.close('all')\n",
    "t_32 = np.arange(0, len(x_32)/32, 1/32)\n",
    "t_16 = np.arange(0, len(x_16_max)/16, 1/16)\n",
    "t_8 = np.arange(0, len(x_8_max)/8, 1/8)\n",
    "t_4 = np.arange(0, len(x_4_max)/4, 1/4)\n",
    "t_2 = np.arange(0, len(x_2_max)/2, 1/2)\n",
    "t_1 = np.arange(0, len(x_1_max)/1, 1/1)\n",
    "\n",
    "plt.plot(t_32, x_32, label='x32')\n",
    "plt.plot(t_16, x_16_max, label='x16max')\n",
    "# plt.plot(t_16, x_16_ave, label='x16ave')\n",
    "plt.plot(t_8, x_8_max, label='x8max')\n",
    "# plt.plot(t_8, x_8_ave, label='x8ave')\n",
    "plt.plot(t_4, x_4_max, label='x4max')\n",
    "# plt.plot(t_4, x_4_ave, label='x4ave')\n",
    "plt.plot(t_2, x_2_max, label='x2max')\n",
    "# plt.plot(t_2, x_2_ave, label='x2ave')\n",
    "plt.plot(t_1, x_1_max, label='x1max')\n",
    "# plt.plot(t_1, x_1_ave, label='x1ave')\n",
    "plt.legend(loc='right')\n"
   ]
  },
  {
   "cell_type": "code",
   "execution_count": null,
   "metadata": {},
   "outputs": [],
   "source": [
    "plt.close('all')\n",
    "t_32 = np.arange(0, len(x_32)/32, 1/32)\n",
    "t_16 = np.arange(0, len(x_16_max)/16, 1/16)\n",
    "t_8 = np.arange(0, len(x_8_max)/8, 1/8)\n",
    "t_4 = np.arange(0, len(x_4_max)/4, 1/4)\n",
    "t_2 = np.arange(0, len(x_2_max)/2, 1/2)\n",
    "t_1 = np.arange(0, len(x_1_max)/1, 1/1)\n",
    "\n",
    "plt.plot(t_32, x_32, label='x32')\n",
    "plt.plot(t_16, x_16_ave, label='x16ave')\n",
    "plt.plot(t_8, x_8_ave, label='x8ave')\n",
    "plt.plot(t_4, x_4_ave, label='x4ave')\n",
    "plt.plot(t_2, x_2_ave, label='x2ave')\n",
    "plt.plot(t_1, x_1_ave, label='x1ave')\n",
    "plt.legend(loc='right')\n"
   ]
  },
  {
   "cell_type": "code",
   "execution_count": null,
   "metadata": {},
   "outputs": [],
   "source": []
  }
 ],
 "metadata": {
  "kernelspec": {
   "display_name": "Python 3 (ipykernel)",
   "language": "python",
   "name": "python3"
  },
  "language_info": {
   "codemirror_mode": {
    "name": "ipython",
    "version": 3
   },
   "file_extension": ".py",
   "mimetype": "text/x-python",
   "name": "python",
   "nbconvert_exporter": "python",
   "pygments_lexer": "ipython3",
   "version": "3.9.5"
  }
 },
 "nbformat": 4,
 "nbformat_minor": 4
}
