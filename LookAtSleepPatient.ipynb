{
 "cells": [
  {
   "cell_type": "code",
   "execution_count": 72,
   "id": "f320c5e8",
   "metadata": {},
   "outputs": [
    {
     "data": {
      "application/vnd.jupyter.widget-view+json": {
       "model_id": "2a417e73f74f41dc8283df40d09beb50",
       "version_major": 2,
       "version_minor": 0
      },
      "text/plain": [
       "Canvas(toolbar=Toolbar(toolitems=[('Home', 'Reset original view', 'home', 'home'), ('Back', 'Back to previous …"
      ]
     },
     "metadata": {},
     "output_type": "display_data"
    },
    {
     "data": {
      "text/plain": [
       "[<matplotlib.lines.Line2D at 0x7f4d239ad310>]"
      ]
     },
     "execution_count": 72,
     "metadata": {},
     "output_type": "execute_result"
    }
   ],
   "source": [
    "pth = \"/home_local/kkotzen/databases/mesa/polysomnography/sleep/mesa-sleep-6566-nsrr.xml\"\n",
    "\n",
    "plt.close('all')\n",
    "sleep = sleep_extract_30s_epochs(pth)\n",
    "sleep[sleep==5]=4\n",
    "sleep[sleep==2]=1\n",
    "sleep[sleep==3]=2\n",
    "sleep[sleep==4]=3\n",
    "sleep = clean_sleep_2(sleep)\n",
    "t = np.arange(len(sleep))\n",
    "t_, s_ = hold_line(t, sleep)\n",
    "\n",
    "plt.plot(t_,s_)"
   ]
  },
  {
   "cell_type": "code",
   "execution_count": 70,
   "id": "c3917536",
   "metadata": {},
   "outputs": [
    {
     "name": "stdout",
     "output_type": "stream",
     "text": [
      "The autoreload extension is already loaded. To reload it, use:\n",
      "  %reload_ext autoreload\n"
     ]
    }
   ],
   "source": [
    "%load_ext autoreload\n",
    "%autoreload 2\n",
    "%matplotlib widget\n",
    "import matplotlib.pyplot as plt\n",
    "import numpy as np\n",
    "import scipy\n",
    "from scipy import signal, interpolate\n",
    "import copy\n",
    "import os \n",
    "import pandas as pd\n",
    "from tqdm import tqdm\n",
    "\n",
    "from numpy.core._multiarray_umath import ndarray\n",
    "import xml.etree.ElementTree as ET\n",
    "\n",
    "\n",
    "\n",
    "    \n",
    "def sleep_extract_30s_epochs(path):\n",
    "    try:\n",
    "        root = ET.parse(path).getroot()\n",
    "        events = [x for x in list(root.iter()) if x.tag == \"ScoredEvent\"]\n",
    "        events_decomposed = list([list(event.iter()) for event in events])\n",
    "        stage_events = [x for x in events_decomposed if x[1].text == \"Stages|Stages\"]\n",
    "        starts = np.array([float(x[3].text) for x in stage_events])/30\n",
    "        durations = np.array([float(x[4].text) for x in stage_events])/30\n",
    "        stages = np.array([int(x[2].text[-1]) for x in stage_events])\n",
    "        sleep_timeline: ndarray = np.zeros(int(starts[-1] + durations[-1]))\n",
    "        for i in range(len(stages)):\n",
    "            sleep_timeline[int(starts[i]): int(starts[i] + durations[i])] = stages[i]\n",
    "        return sleep_timeline\n",
    "    except:\n",
    "        print(f\"Could not extract sleep from: {path}\")\n",
    "        return 0\n",
    "\n",
    "def duplicate(x):\n",
    "    return np.array([[x_] * 2 for x_ in x]).flatten()\n",
    "\n",
    "def hold_line(t, x):\n",
    "    t = [i for i in t]\n",
    "    x = [i for i in x]\n",
    "\n",
    "    if len(t) - len(x) == 0:\n",
    "        t.append(t[-1] + t[-1] - t[-2])\n",
    "    if len(t) - len(x) != 1:\n",
    "        raise ValueError()\n",
    "\n",
    "    t_ = duplicate(t)[1:-1]\n",
    "    x_ = duplicate(x)\n",
    "    return t_, x_\n",
    "\n",
    "def clean_sleep_2(sleep):\n",
    "    for i in range(1, len(sleep)-1):\n",
    "        if sleep[i] != sleep[i-1]:\n",
    "            if sleep[i-1] == sleep[i+1]:\n",
    "                sleep[i] = sleep[i-1]\n",
    "    \n",
    "    return sleep\n",
    "\n",
    "def clean_sleep(sleep):\n",
    "    new_sleep = copy.deepcopy(sleep)\n",
    "    transitions = np.where(sleep[:-1] != sleep[1:])[0]\n",
    "    print(transitions)\n",
    "    for transition in transitions: \n",
    "        if sleep[transition-1]==sleep[transition+1]:\n",
    "            new_sleep[transition] = sleep[transition-1]\n",
    "    return new_sleep"
   ]
  },
  {
   "cell_type": "code",
   "execution_count": 76,
   "id": "9470911d",
   "metadata": {},
   "outputs": [
    {
     "data": {
      "application/vnd.jupyter.widget-view+json": {
       "model_id": "329a6057cc274895a55b6d3d15a4d7fa",
       "version_major": 2,
       "version_minor": 0
      },
      "text/plain": [
       "Canvas(toolbar=Toolbar(toolitems=[('Home', 'Reset original view', 'home', 'home'), ('Back', 'Back to previous …"
      ]
     },
     "metadata": {},
     "output_type": "display_data"
    },
    {
     "data": {
      "text/plain": [
       "[<matplotlib.lines.Line2D at 0x7f4de149b8b0>]"
      ]
     },
     "execution_count": 76,
     "metadata": {},
     "output_type": "execute_result"
    }
   ],
   "source": [
    "os.chdir('/home/kkotzen/research/PPG_sleepstaging_orion3/')\n",
    "from pathlib import Path\n",
    "from src.parsing.MESAParser import MESAParser\n",
    "\n",
    "plt.close('all')\n",
    "dl = MESAParser()\n",
    "plt.plot(dl.load_signal(4408, \"PPG\"))"
   ]
  },
  {
   "cell_type": "code",
   "execution_count": null,
   "id": "b997af9d",
   "metadata": {},
   "outputs": [],
   "source": []
  },
  {
   "cell_type": "code",
   "execution_count": 2,
   "id": "782400eb-5e8b-4748-8ae6-3b6cea69fdc2",
   "metadata": {},
   "outputs": [],
   "source": [
    "from scipy.signal import butter, resample, sosfiltfilt, cheby1\n",
    "\n",
    "def _filter_signal(signal):\n",
    "    sos = cheby1(8, 0.001, 8 / (256 / 2), 'lowpass', output='sos')\n",
    "    return sosfiltfilt(sos, signal, axis=0)"
   ]
  },
  {
   "cell_type": "code",
   "execution_count": 3,
   "id": "0c02e3be-eae6-4121-95ae-d8ccf0b79321",
   "metadata": {},
   "outputs": [],
   "source": [
    "def _resample_with_filter(signal):\n",
    "    signal = _filter_signal(signal)\n",
    "    signal = resample(signal, int(len(signal) / (256/32))).astype(np.float32)\n",
    "    return signal"
   ]
  },
  {
   "cell_type": "code",
   "execution_count": 4,
   "id": "298f32b3-0b95-41cf-848d-acc7c9dcb788",
   "metadata": {},
   "outputs": [],
   "source": [
    "from multiprocessing import Pool\n",
    "\n",
    "import tqdm\n",
    "\n",
    "def check_valid(patient):\n",
    "    signal = dl.load_signal(patient, 'Pleth')\n",
    "    signal = _resample_with_filter(signal)\n",
    "\n",
    "    if signal.std() == np.inf:\n",
    "        print(patient, flush=True)\n",
    "\n",
    "# with Pool(32) as p:\n",
    "#     p.map(check_valid, dl.database_patient_IDs)\n",
    "# Parallel(n_jobs=8)(delayed(check_valid)(patient) for patient in tqdm.tqdm(dl.database_patient_IDs))"
   ]
  },
  {
   "cell_type": "code",
   "execution_count": null,
   "id": "2f80bb3d-885a-4171-a7c5-063ad7ef7895",
   "metadata": {},
   "outputs": [],
   "source": []
  },
  {
   "cell_type": "code",
   "execution_count": 5,
   "id": "29ae6579-9fa9-40b0-8dc3-4faf7052c352",
   "metadata": {},
   "outputs": [
    {
     "data": {
      "application/vnd.jupyter.widget-view+json": {
       "model_id": "24fe36607d1d48c99c47aae13bb2abb2",
       "version_major": 2,
       "version_minor": 0
      },
      "text/plain": [
       "Canvas(toolbar=Toolbar(toolitems=[('Home', 'Reset original view', 'home', 'home'), ('Back', 'Back to previous …"
      ]
     },
     "metadata": {},
     "output_type": "display_data"
    },
    {
     "data": {
      "text/plain": [
       "[<matplotlib.lines.Line2D at 0x7f82b8d64df0>]"
      ]
     },
     "execution_count": 5,
     "metadata": {},
     "output_type": "execute_result"
    }
   ],
   "source": [
    "dl = MESAParser()\n",
    "\n",
    "patient = '6217'\n",
    "\n",
    "signal = dl.load_signal(patient, 'Pleth')\n",
    "ecg = dl.load_signal(patient, 'EKG')\n",
    "signal = _resample_with_filter(signal)\n",
    "sleep = dl.load_sleep(patient)\n",
    "\n",
    "t_signal = np.arange(0, len(signal)/32, 1/32)\n",
    "t_sleep = np.arange(0, len(sleep)*30, 30)\n",
    "t_ecg = np.arange(0, len(ecg)/256, 1/256)\n",
    "\n",
    "# plt.close('all')\n",
    "plt.figure(figsize=(15,5))\n",
    "ax1 = plt.subplot(313)\n",
    "ax1.plot(t_signal, signal)\n",
    "ax3 = plt.subplot(312, sharex=ax1)\n",
    "ax3.plot(t_ecg, ecg)\n",
    "ax2 = plt.subplot(311, sharex=ax1)\n",
    "ax2.plot(t_sleep, sleep)"
   ]
  },
  {
   "cell_type": "code",
   "execution_count": null,
   "id": "d2c23fd1-358a-4446-be55-14d9baf58679",
   "metadata": {},
   "outputs": [],
   "source": []
  },
  {
   "cell_type": "code",
   "execution_count": null,
   "id": "ba4d44b1-d0e1-4187-81e4-6f8a21246758",
   "metadata": {},
   "outputs": [],
   "source": [
    "\n"
   ]
  },
  {
   "cell_type": "code",
   "execution_count": null,
   "id": "f1f48557-497b-4111-99c5-34e16eb6f265",
   "metadata": {},
   "outputs": [],
   "source": [
    "\n"
   ]
  },
  {
   "cell_type": "code",
   "execution_count": null,
   "id": "fc44b286-4924-436b-9514-d894324d7fd7",
   "metadata": {},
   "outputs": [],
   "source": []
  },
  {
   "cell_type": "code",
   "execution_count": null,
   "id": "f4297ca6-94e8-4bad-963c-6acc3fc29484",
   "metadata": {},
   "outputs": [],
   "source": [
    "plt.close('all')\n",
    "spect, freqs, t, im = plt.specgram(ihr, Fs=2, NFFT=128, noverlap=60)"
   ]
  },
  {
   "cell_type": "code",
   "execution_count": null,
   "id": "a6bf63c7-2ee9-4f83-88e7-3e31d71bb568",
   "metadata": {},
   "outputs": [],
   "source": [
    "plt.close('all')\n",
    "plt.figure(figsize=(14,8))\n",
    "plt.imshow(np.log(spect), origin='lower', interpolation='nearest', aspect='auto')\n",
    "plt.plot(sleep*10)"
   ]
  },
  {
   "cell_type": "code",
   "execution_count": null,
   "id": "06796fb4-408c-46e7-a328-ff1e4cab7cba",
   "metadata": {},
   "outputs": [],
   "source": [
    "import numpy as np\n",
    "\n",
    "epoch_windows = 30\n",
    "epoch_stride = 20\n",
    "\n",
    "\n",
    "X = np.arange(10000)\n",
    "X = X.reshape(10,100,10)\n",
    "\n",
    "shape = (X.shape[0], int(int(X.shape[1] - epoch_windows)/epoch_stride+1), epoch_windows, X.shape[2])\n",
    "strides = (X.strides[0], X.strides[1]*epoch_stride, X.strides[1], X.strides[2])\n",
    "y = np.lib.stride_tricks.as_strided(X, shape=shape, strides=strides)\n",
    "print(y.strides)\n",
    "y = y.reshape(y.shape[0]*y.shape[1], y.shape[2], y.shape[3])\n",
    "s = y.shape\n",
    "print(y.strides)\n",
    "z = y.flatten().reshape(s)\n",
    "print(z.strides)"
   ]
  },
  {
   "cell_type": "code",
   "execution_count": null,
   "id": "337f8dfb-df4e-481f-819c-02b0894e272d",
   "metadata": {},
   "outputs": [],
   "source": [
    "import numpy as np\n",
    "epoch_windows = 3\n",
    "epoch_stride = 2\n",
    "\n",
    "X = np.asarray(range(1,81), np.int64).reshape(2,8,5)\n",
    "print('Shape: ', X.shape, 'Strides: ', X.strides)\n",
    "print(X)\n",
    "shape = (X.shape[0], int(int(X.shape[1] - epoch_windows)/epoch_stride+1), epoch_windows, X.shape[2])\n",
    "strides = (X.strides[0], X.strides[1]*epoch_stride, X.strides[1], X.strides[2])\n",
    "y = np.lib.stride_tricks.as_strided(X, shape=shape, strides=strides)\n",
    "print(y.shape)\n",
    "y[y>82] = -1\n",
    "y[y<-1] = -1\n",
    "print(y)"
   ]
  },
  {
   "cell_type": "code",
   "execution_count": null,
   "id": "02bd4898-fe10-470b-9a31-cefa6b4895e2",
   "metadata": {},
   "outputs": [],
   "source": [
    "x = np.asarray(range(1,21), np.int64).reshape(4,5)\n",
    "print(x)\n",
    "print(x.strides)\n",
    "np.lib.stride_tricks.as_strided(x, shape=(3,1,5), strides=(40,40,8))\n"
   ]
  },
  {
   "cell_type": "code",
   "execution_count": 3,
   "id": "c5b81fc7-b0ca-4263-8dcf-a54ce2ba7d33",
   "metadata": {},
   "outputs": [
    {
     "name": "stdout",
     "output_type": "stream",
     "text": [
      "The autoreload extension is already loaded. To reload it, use:\n",
      "  %reload_ext autoreload\n"
     ]
    }
   ],
   "source": [
    "%load_ext autoreload\n",
    "%autoreload 2\n",
    "%matplotlib widget\n",
    "import matplotlib.pyplot as plt\n",
    "import numpy as np\n",
    "import scipy\n",
    "from scipy import signal, interpolate\n",
    "import copy\n",
    "import os \n",
    "import pandas as pd\n",
    "from tqdm import tqdm\n",
    "from bishop_peaks_onsets import *\n",
    "os.chdir('/home/kkotzen/research/PPG_sleepstaging_orion3/')\n",
    "from pathlib import Path\n",
    "from src.parsing.MESAParser import MESAParser"
   ]
  },
  {
   "cell_type": "code",
   "execution_count": 11,
   "id": "f6bd6159",
   "metadata": {},
   "outputs": [],
   "source": [
    "dl = MESAParser()\n",
    "patients = dl.database_all_patient_IDs\n",
    "patient = patients[100]\n",
    "signal = dl.load_signal(patient, 'PPG')\n",
    "qppg = dl.load_annotation(patient, \"PPG\",'qppg')\n",
    "bishop = dl.load_annotation(patient, \"PPG\",'Bishop')\n"
   ]
  },
  {
   "cell_type": "code",
   "execution_count": 13,
   "id": "7708db75",
   "metadata": {},
   "outputs": [
    {
     "data": {
      "application/vnd.jupyter.widget-view+json": {
       "model_id": "16df9690838240b18ea0daa887f772d9",
       "version_major": 2,
       "version_minor": 0
      },
      "text/plain": [
       "Canvas(toolbar=Toolbar(toolitems=[('Home', 'Reset original view', 'home', 'home'), ('Back', 'Back to previous …"
      ]
     },
     "metadata": {},
     "output_type": "display_data"
    },
    {
     "data": {
      "text/plain": [
       "[<matplotlib.lines.Line2D at 0x7fd66922fdf0>]"
      ]
     },
     "execution_count": 13,
     "metadata": {},
     "output_type": "execute_result"
    }
   ],
   "source": [
    "plt.close('all')\n",
    "plt.plot(signal)\n",
    "plt.plot(qppg, signal[qppg], 'x')\n",
    "plt.plot(bishop, signal[bishop], 'o')"
   ]
  },
  {
   "cell_type": "code",
   "execution_count": null,
   "id": "3b2b5a2f",
   "metadata": {},
   "outputs": [],
   "source": []
  }
 ],
 "metadata": {
  "kernelspec": {
   "display_name": "Python 3 (ipykernel)",
   "language": "python",
   "name": "python3"
  },
  "language_info": {
   "codemirror_mode": {
    "name": "ipython",
    "version": 3
   },
   "file_extension": ".py",
   "mimetype": "text/x-python",
   "name": "python",
   "nbconvert_exporter": "python",
   "pygments_lexer": "ipython3",
   "version": "3.9.5"
  }
 },
 "nbformat": 4,
 "nbformat_minor": 5
}
