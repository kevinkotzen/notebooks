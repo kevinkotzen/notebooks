{
 "cells": [
  {
   "cell_type": "code",
   "execution_count": 1,
   "metadata": {},
   "outputs": [],
   "source": [
    "%load_ext autoreload\n",
    "%autoreload 2\n",
    "%matplotlib widget\n",
    "import matplotlib.pyplot as plt\n",
    "import numpy as np\n",
    "from scipy import signal, interpolate\n",
    "import copy\n",
    "import os \n",
    "import pandas as pd\n",
    "os.chdir('/home/kkotzen/research/PPG_sleepstaging/')\n",
    "from pathlib import Path\n",
    "from src.parsing.MESAParser import MESAParser\n",
    "from src.parsing.utils.comp_ppg_signal_quality import ppg_window_quality, ppg_window_quality_summary, moving_average_filter\n",
    "from src.parsing.armand.feature_comp import bsqi\n",
    "from tqdm import tqdm\n",
    "def duplicate(x):\n",
    "    return np.array([[x_]*2 for x_ in x]).flatten()\n",
    "\n",
    "def hold_line(t, x):\n",
    "    print(t.shape, x.shape)\n",
    "    t_ = duplicate(t)[1:-1]\n",
    "    x_ = duplicate(x)\n",
    "    return t_, x_\n",
    "\n",
    "def calculate_ptt(ppg_peaks, ecg_peaks, fs=256, max_ptt=0.65, min_ptt=0.15, smoothing_length=1000):\n",
    "    ptt = np.zeros_like(ecg_peaks)\n",
    "    ptt[:] = 100\n",
    "\n",
    "    for i, ecg_peak in enumerate(ecg_peaks):\n",
    "        try:\n",
    "            times = ppg_peaks - ecg_peak\n",
    "            times = times[times > 0][0]\n",
    "            if (times < max_ptt*fs and times > min_ptt*fs):\n",
    "                ptt[i] = times\n",
    "        except:\n",
    "            if i > 0:\n",
    "                ptt[i] = ptt[i - 1]\n",
    "\n",
    "    ptt = signal.filtfilt(np.ones(smoothing_length) / smoothing_length, 1, ptt, padlen=smoothing_length)\n",
    "    ptt = np.array(ptt[0:len(ecg_peaks)]).astype(int)\n",
    "    return ptt\n",
    "\n",
    "def calculate_delayed_ecg(ppg_peaks, ecg_peaks):\n",
    "    return ecg_peaks + calculate_ptt(ppg_peaks, ecg_peaks)"
   ]
  },
  {
   "cell_type": "code",
   "execution_count": 2,
   "metadata": {},
   "outputs": [],
   "source": [
    "dl = MESAParser()\n",
    "patients = ['0001'] #dl.database_all_patient_IDs\n",
    "\n",
    "ppg = dl.load_signal(patients[0], 'Pleth')\n",
    "len_sig = len(ppg)\n",
    "ecg_peaks =  dl.load_annotation(patients[0], 'EKG', 'epltd0', 'Peaks')\n",
    "ppg_peaks_ref = dl.load_annotation(patients[0], 'Pleth', 'Aboy', 'Peaks').astype(int)\n",
    "ppg_peaks_comp = dl.load_annotation(patients[0], 'Pleth', 'Bishop', 'Peaks').astype(int)\n",
    "ecg_peaks = calculate_delayed_ecg(ppg_peaks_ref, ecg_peaks).astype(int)"
   ]
  },
  {
   "cell_type": "code",
   "execution_count": 3,
   "metadata": {},
   "outputs": [
    {
     "data": {
      "application/vnd.jupyter.widget-view+json": {
       "model_id": "1eb905369dd64435b8607803bd9a6d0c",
       "version_major": 2,
       "version_minor": 0
      },
      "text/plain": [
       "Canvas(toolbar=Toolbar(toolitems=[('Home', 'Reset original view', 'home', 'home'), ('Back', 'Back to previous …"
      ]
     },
     "metadata": {},
     "output_type": "display_data"
    }
   ],
   "source": [
    "plt.close(\"all\")\n",
    "plt.plot(ppg)\n",
    "plt.plot(ppg_peaks_ref, ppg[ppg_peaks_ref], 'x')\n",
    "plt.plot(ppg_peaks_comp, ppg[ppg_peaks_comp], 'o')\n",
    "plt.plot(ecg_peaks, ppg[ecg_peaks], '*')\n",
    "plt.show()"
   ]
  },
  {
   "cell_type": "code",
   "execution_count": 5,
   "metadata": {},
   "outputs": [
    {
     "name": "stderr",
     "output_type": "stream",
     "text": [
      "100%|██████████| 1439/1439 [00:02<00:00, 665.34it/s]\n"
     ]
    }
   ],
   "source": [
    "window = 30\n",
    "fs = 256\n",
    "window_fs = window * fs\n",
    "epochs = np.arange(0, int(len_sig / window_fs), 1)\n",
    "feats = pd.DataFrame()\n",
    "for epoch in tqdm(epochs):\n",
    "    this_peaks_ref = ppg_peaks_ref[(ppg_peaks_ref >= (epoch)* window_fs) * \n",
    "                                   (ppg_peaks_ref < (epoch+1) * window_fs)]\n",
    "    this_peaks_comp = ppg_peaks_comp[(ppg_peaks_comp >= (epoch)* window_fs) * \n",
    "                                     (ppg_peaks_comp < (epoch+1) * window_fs)]\n",
    "    this_ecg_ref = ecg_peaks[(ecg_peaks >= (epoch)* window_fs) * \n",
    "                                     (ecg_peaks < (epoch+1) * window_fs)]\n",
    "    feats = feats.append({'epoch': epoch, 'F1_ppg': bsqi(this_peaks_ref, this_peaks_comp, fs=fs, agw=0.1),\n",
    "                          'F1_ecg': bsqi(this_ecg_ref, this_peaks_ref, fs=fs, agw=0.1)}, ignore_index=True)"
   ]
  },
  {
   "cell_type": "code",
   "execution_count": 15,
   "metadata": {},
   "outputs": [
    {
     "data": {
      "application/vnd.jupyter.widget-view+json": {
       "model_id": "00f5d437015149b1a0eff54ae09eddd9",
       "version_major": 2,
       "version_minor": 0
      },
      "text/plain": [
       "Canvas(toolbar=Toolbar(toolitems=[('Home', 'Reset original view', 'home', 'home'), ('Back', 'Back to previous …"
      ]
     },
     "metadata": {},
     "output_type": "display_data"
    }
   ],
   "source": [
    "from matplotlib import gridspec\n",
    "\n",
    "ppg_quality = feats.F1_ppg.values\n",
    "plt.close(\"all\")\n",
    "fig = plt.figure(figsize=(5, 5)) \n",
    "gs = gridspec.GridSpec(2, 1, height_ratios=[1,1.5]) \n",
    "ax1 = plt.subplot(gs[0])\n",
    "t = np.arange(0, len(ppg_quality)*30*256, 30*256)\n",
    "ax1.plot(t, feats['F1_ppg']*100)\n",
    "# plt.plot(t, feats['F1_ecg'], '--')\n",
    "ax1.spines['right'].set_visible(False)\n",
    "ax1.spines['top'].set_visible(False)\n",
    "ax1.set_xticks([])\n",
    "ax1.set_ylabel('SQI')\n",
    "ax2 = plt.subplot(gs[1], sharex=ax1)\n",
    "ax2.plot(ppg)\n",
    "ax2.plot(ppg_peaks_ref, ppg[ppg_peaks_ref], 'x')\n",
    "ax2.spines['right'].set_visible(False)\n",
    "ax2.spines['top'].set_visible(False)\n",
    "ax2.set_xlabel('Time (Seconds)')\n",
    "ax2.set_ylabel('PPG Amplitude')\n",
    "\n",
    "# plt.plot(ppg_peaks_comp, ppg[ppg_peaks_comp], 'o')\n",
    "# plt.plot(ecg_peaks, ppg[ecg_peaks], '*')\n",
    "plt.show()"
   ]
  },
  {
   "cell_type": "code",
   "execution_count": 75,
   "metadata": {},
   "outputs": [
    {
     "data": {
      "application/vnd.jupyter.widget-view+json": {
       "model_id": "bf8f6882a8134aeaa7c5c6cd63ccce0b",
       "version_major": 2,
       "version_minor": 0
      },
      "text/plain": [
       "Canvas(toolbar=Toolbar(toolitems=[('Home', 'Reset original view', 'home', 'home'), ('Back', 'Back to previous …"
      ]
     },
     "metadata": {},
     "output_type": "display_data"
    }
   ],
   "source": [
    "t = np.arange(0, len(ppg)/256, 1/256)\n",
    "t_q_ppg = np.arange(0, len(ppg_quality)*30*256, 30*256)\n",
    "t_q_ecg = np.arange(0, len(ecg_quality)*30*256, 30*256)\n",
    "plt.close(\"all\")\n",
    "fig, ax = plt.subplots(2, 1, sharex=True)\n",
    "\n",
    "ax[0].plot(ecg)\n",
    "# ax[1].plot(ppg)\n",
    "ax[1].plot(ppg_peaks, ppg[ppg_peaks], 'x')\n",
    "ax[1].plot(t_q_ppg, ppg_quality)\n",
    "ax[1].plot(t_q_ecg, ecg_quality, \"--\")\n",
    "\n",
    "plt.show()"
   ]
  },
  {
   "cell_type": "code",
   "execution_count": null,
   "metadata": {},
   "outputs": [],
   "source": []
  }
 ],
 "metadata": {
  "kernelspec": {
   "display_name": "Python 3 (ipykernel)",
   "language": "python",
   "name": "python3"
  },
  "language_info": {
   "codemirror_mode": {
    "name": "ipython",
    "version": 3
   },
   "file_extension": ".py",
   "mimetype": "text/x-python",
   "name": "python",
   "nbconvert_exporter": "python",
   "pygments_lexer": "ipython3",
   "version": "3.9.5"
  }
 },
 "nbformat": 4,
 "nbformat_minor": 4
}
