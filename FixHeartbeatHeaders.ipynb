{
 "cells": [
  {
   "cell_type": "code",
   "execution_count": 7,
   "id": "07d257bd-ae5b-42d2-9810-aa91920de277",
   "metadata": {},
   "outputs": [],
   "source": [
    "def fix_header(filepath):\n",
    "    with open(filepath, 'rb') as f:\n",
    "        content = f.read().hex()\n",
    "    content = content.replace(\"b020202020202020\",\"2520202020202020\", 3)\n",
    "    with open(filepath, 'wb') as f:\n",
    "        f.write(bytes.fromhex(content))"
   ]
  },
  {
   "cell_type": "code",
   "execution_count": 16,
   "id": "9da96350-d9b0-4706-93c8-dd5499ac31e5",
   "metadata": {},
   "outputs": [
    {
     "name": "stderr",
     "output_type": "stream",
     "text": [
      "  0%|                                                                    | 0/6 [00:00<?, ?it/s]"
     ]
    },
    {
     "name": "stdout",
     "output_type": "stream",
     "text": [
      "['heartbeat-baseline-700005.edf', 'heartbeat-baseline-700053.edf', 'heartbeat-baseline-700128.edf', 'heartbeat-baseline-700164.edf', 'heartbeat-baseline-700112.edf', 'heartbeat-baseline-700174.edf']\n"
     ]
    },
    {
     "name": "stderr",
     "output_type": "stream",
     "text": [
      "100%|████████████████████████████████████████████████████████████| 6/6 [00:02<00:00,  2.09it/s]\n"
     ]
    }
   ],
   "source": [
    "import os\n",
    "import tqdm\n",
    "\n",
    "directory = \"/home/kkotzen/databases/heartbeat/polysomnography/edfs/baseline\"\n",
    "files = os.listdir(directory)\n",
    "files = [f for f in files if f[19:-4] in ['700005','700053','700112','700128', '700164', '700174']]\n",
    "print(files)\n",
    "for file in tqdm.tqdm(files):\n",
    "    fix_header(f\"{directory}/{file}\")"
   ]
  },
  {
   "cell_type": "code",
   "execution_count": null,
   "id": "c8831031-e8bd-4829-9491-3991def5a150",
   "metadata": {},
   "outputs": [],
   "source": [
    "import os\n",
    "import tqdm\n",
    "\n",
    "def fix_header(filepath):\n",
    "    with open(filepath, 'rb') as f:\n",
    "        content = f.read().hex()\n",
    "    content = content.replace(\"b020202020202020\",\"2520202020202020\", 3)\n",
    "    with open(filepath, 'wb') as f:\n",
    "        f.write(bytes.fromhex(content))\n",
    "        \n",
    "directory = \"PATH_TO_FILES\"\n",
    "files = os.listdir(directory)\n",
    "for file in tqdm.tqdm(files):\n",
    "    fix_header(f\"{directory}/{file}\")"
   ]
  }
 ],
 "metadata": {
  "kernelspec": {
   "display_name": "Python 3 (ipykernel)",
   "language": "python",
   "name": "python3"
  },
  "language_info": {
   "codemirror_mode": {
    "name": "ipython",
    "version": 3
   },
   "file_extension": ".py",
   "mimetype": "text/x-python",
   "name": "python",
   "nbconvert_exporter": "python",
   "pygments_lexer": "ipython3",
   "version": "3.9.5"
  }
 },
 "nbformat": 4,
 "nbformat_minor": 5
}
