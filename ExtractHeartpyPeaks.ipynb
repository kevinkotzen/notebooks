{
 "cells": [
  {
   "cell_type": "code",
   "execution_count": 1,
   "metadata": {},
   "outputs": [
    {
     "name": "stderr",
     "output_type": "stream",
     "text": [
      "Heartpy: 100%|██████████| 2052/2052 [14:02:16<00:00, 24.63s/it]  \n"
     ]
    }
   ],
   "source": [
    "import os\n",
    "import heartpy as hp\n",
    "import matplotlib.pyplot as plt\n",
    "import tqdm\n",
    "import numpy as np\n",
    "import traceback\n",
    "from joblib import Parallel, delayed\n",
    "\n",
    "os.chdir('/home/kkotzen/research/PPG_sleepstaging/')\n",
    "from src.parsing.MESAParser import MESAParser\n",
    "\n",
    "#run the analysis\n",
    "dl = MESAParser()\n",
    "database_all_patient_IDs = dl.database_all_patient_IDs\n",
    "\n",
    "def process(patientid):\n",
    "    try: \n",
    "        path = dl.path_ppg_annotation(patientid, 'heartpy', 'Peaks')\n",
    "        if os.path.isfile(path): \n",
    "            return\n",
    "       \n",
    "        signal = dl.load_signal(patientid, 'Pleth')\n",
    "        signal_ = hp.filter_signal(signal, cutoff = 8, sample_rate = 256.0, order = 3, filtertype='lowpass')\n",
    "\n",
    "        s = 100*256\n",
    "        h = 90*256\n",
    "\n",
    "        all_peaks = np.array([])\n",
    "        for i in (range(int(len(signal)/h) -1)):\n",
    "            try:\n",
    "                wd, m = hp.process(signal_[i*h:i*h+s], sample_rate=256)\n",
    "                peaks = np.array([w for w in wd['peaklist'] if w not in wd['removed_beats']])\n",
    "                all_peaks = np.append(all_peaks, peaks+int(i*h))\n",
    "            except:\n",
    "                pass\n",
    "        all_peaks_ = remove_duplicates(all_peaks)\n",
    "        np.save(path, all_peaks_)\n",
    "    except:\n",
    "        print(f\"Failed{patientid}\")\n",
    "    \n",
    "def remove_duplicates(peaks):\n",
    "    peaks = np.sort(peaks)\n",
    "    dpeaks = np.diff(peaks)\n",
    "    peaks = peaks[1:][dpeaks > 10]\n",
    "    return peaks\n",
    "\n",
    "\n",
    "# Parallel(n_jobs=32, prefer=\"threads\")(delayed(process)(patient) for patient in tqdm.tqdm(database_all_patient_IDs, desc='Heartpy'))\n",
    "\n",
    "for patient in tqdm.tqdm(database_all_patient_IDs, desc='Heartpy'): \n",
    "    process(patient)"
   ]
  },
  {
   "cell_type": "code",
   "execution_count": null,
   "metadata": {},
   "outputs": [],
   "source": []
  }
 ],
 "metadata": {
  "kernelspec": {
   "display_name": "Python 3",
   "language": "python",
   "name": "python3"
  },
  "language_info": {
   "codemirror_mode": {
    "name": "ipython",
    "version": 3
   },
   "file_extension": ".py",
   "mimetype": "text/x-python",
   "name": "python",
   "nbconvert_exporter": "python",
   "pygments_lexer": "ipython3",
   "version": "3.8.6"
  }
 },
 "nbformat": 4,
 "nbformat_minor": 4
}
