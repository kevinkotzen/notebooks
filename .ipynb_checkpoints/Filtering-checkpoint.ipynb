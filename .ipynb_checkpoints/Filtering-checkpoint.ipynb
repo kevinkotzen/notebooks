{
 "cells": [
  {
   "cell_type": "code",
   "execution_count": 5,
   "metadata": {},
   "outputs": [
    {
     "name": "stdout",
     "output_type": "stream",
     "text": [
      "The autoreload extension is already loaded. To reload it, use:\n",
      "  %reload_ext autoreload\n"
     ]
    },
    {
     "data": {
      "application/vnd.jupyter.widget-view+json": {
       "model_id": "92362c1f16624d639da57cbbad24d2ea",
       "version_major": 2,
       "version_minor": 0
      },
      "text/plain": [
       "Canvas(toolbar=Toolbar(toolitems=[('Home', 'Reset original view', 'home', 'home'), ('Back', 'Back to previous …"
      ]
     },
     "metadata": {},
     "output_type": "display_data"
    },
    {
     "data": {
      "text/plain": [
       "<matplotlib.legend.Legend at 0x7f80d57a5460>"
      ]
     },
     "execution_count": 5,
     "metadata": {},
     "output_type": "execute_result"
    }
   ],
   "source": [
    "%load_ext autoreload\n",
    "%autoreload 2\n",
    "%matplotlib widget\n",
    "import matplotlib.pyplot as plt\n",
    "import numpy as np\n",
    "import os \n",
    "os.chdir('/home/kkotzen/research/PPG_sleepstaging/')\n",
    "from pathlib import Path\n",
    "from src.parsing.MESAParser import MESAParser\n",
    "\n",
    "from scipy import signal, stats\n",
    "\n",
    "def butter_bandpass(lowcut, highcut, fs, order=4):\n",
    "    nyq = 0.5 * fs\n",
    "    low = lowcut / nyq\n",
    "    high = highcut / nyq\n",
    "    b, a = signal.butter(order, [low, high], btype='band')\n",
    "    return b, a\n",
    "\n",
    "def butter_bandpass_filter(data, lowcut, highcut, fs, order=4):\n",
    "    b, a = butter_bandpass(lowcut, highcut, fs, order=order)\n",
    "    y = signal.filtfilt(b, a, data)\n",
    "    return y\n",
    "\n",
    "def cheby2_bandpass(lowcut, highcut, fs, order=4):\n",
    "    nyq = 0.5 * fs\n",
    "    low = lowcut / nyq\n",
    "    high = highcut / nyq\n",
    "    b, a = signal.cheby2(order, 20, [low, high], btype='band')\n",
    "    return b, a\n",
    "\n",
    "def cheby2_bandpass_filter(data, lowcut, highcut, fs, order=4):\n",
    "    b, a = cheby2_bandpass(lowcut, highcut, fs, order=order)\n",
    "    y = signal.filtfilt(b, a, data)\n",
    "    return y\n",
    "\n",
    "def standardize_signal(data):\n",
    "    return stats.zscore(data.astype(np.float32)).astype(np.float16)\n",
    "\n",
    "fs = 256\n",
    "highcut = 8\n",
    "lowcut = 0.5\n",
    "order=4\n",
    "\n",
    "plt.close(\"all\")\n",
    "plt.figure(1, figsize=(10,5))\n",
    "plt.clf()\n",
    "order_words = {2: \"2nd\", 4: \"4th\"}\n",
    "for order in [2,4]:\n",
    "    b, a = cheby2_bandpass(lowcut, highcut, fs, order=order)\n",
    "    w, h = signal.freqz(b, a, worN=128)\n",
    "    plt.plot((fs * 0.5 / np.pi) * w, 20 * np.log10(abs(h)), label=f\"Cheby {order_words[order]} order\")\n",
    "\n",
    "for order in [2,4]:\n",
    "    b, a = butter_bandpass(lowcut, highcut, fs, order=order)\n",
    "    w, h = signal.freqz(b, a, worN=128)\n",
    "    plt.plot((fs * 0.5 / np.pi) * w, 20 * np.log10(abs(h)), '--', label=f\"Butter {order_words[order]} order\")\n",
    "    \n",
    "plt.xlabel('Frequency (Hz)')\n",
    "plt.ylabel('Gain (dB)')\n",
    "plt.grid(True)\n",
    "plt.legend(loc='best')\n",
    "# plt.xlim((0,20))\n",
    "# plt.ylim((-20, 2.5))"
   ]
  },
  {
   "cell_type": "code",
   "execution_count": 6,
   "metadata": {},
   "outputs": [
    {
     "data": {
      "application/vnd.jupyter.widget-view+json": {
       "model_id": "50f80ad39e0b4018b81da2f873678125",
       "version_major": 2,
       "version_minor": 0
      },
      "text/plain": [
       "Canvas(toolbar=Toolbar(toolitems=[('Home', 'Reset original view', 'home', 'home'), ('Back', 'Back to previous …"
      ]
     },
     "metadata": {},
     "output_type": "display_data"
    }
   ],
   "source": [
    "import time \n",
    "\n",
    "dl = MESAParser()\n",
    "patients = ['0050'] #dl.database_all_patient_IDs\n",
    "x = dl.load_signal(patients[0], 'Pleth')\n",
    "t = np.arange(0, len(x)/fs, 1/fs)\n",
    "\n",
    "y = cheby2_bandpass_filter(x, lowcut, highcut, fs, order=4)\n",
    "y2 = butter_bandpass_filter(x, lowcut, highcut, fs, order=4)\n",
    "\n",
    "x_ = np.diff(x)\n",
    "y_ = np.diff(y)\n",
    "y2_ = np.diff(y2)\n",
    "\n",
    "\n",
    "plt.close('all')\n",
    "fig, ax = plt.subplots(3,1, figsize=(10,5), sharex=True)\n",
    "ax[0].plot(t, x, label='Noisy signal')\n",
    "# ax[0].plot(t, y, label='Filtered signal Cheb')\n",
    "ax[0].plot(t, y2, label='Filtered signal Butterworth')\n",
    "\n",
    "ax[0].set_xlabel('time (seconds)')\n",
    "ax[0].set_ylabel('PPG (N/A)')\n",
    "ax[0].axis('tight')\n",
    "# ax[0].legend(loc='upper left')\n",
    "\n",
    "ax[1].plot(t[:-1], x_)\n",
    "# ax[1].plot(t[:-1], y_)\n",
    "ax[1].plot(t[:-1], y2_)\n",
    "ax[1].set_xlabel('time (seconds)')\n",
    "ax[1].set_ylabel('dPPG (N/A)')\n",
    "# ax[1].legend(loc='upper left')\n",
    "\n",
    "ax[2].plot(t[:-2], np.diff(x_))\n",
    "# ax[2].plot(t[:-2], np.diff(y_), label='Filtered signal Cheb')\n",
    "ax[2].plot(t[:-2], np.diff(y2_))\n",
    "ax[2].set_ylabel('ddPPG (N/A)')\n",
    "ax[2].set_xlabel('time (seconds)')\n",
    "\n",
    "\n",
    "# ax[2].legend(loc='upper left')\n",
    "fig.legend()\n",
    "plt.show()"
   ]
  },
  {
   "cell_type": "code",
   "execution_count": 3,
   "metadata": {},
   "outputs": [
    {
     "name": "stdout",
     "output_type": "stream",
     "text": [
      "-1.8004113e-07\n",
      "0.08847149\n"
     ]
    }
   ],
   "source": [
    "y2 = y2.astype(np.float32)\n",
    "print(np.mean(y2))\n",
    "print(np.std(y2))\n",
    "z = (y2 - np.mean(y2))/np.std(y2)"
   ]
  },
  {
   "cell_type": "code",
   "execution_count": 4,
   "metadata": {},
   "outputs": [
    {
     "data": {
      "application/vnd.jupyter.widget-view+json": {
       "model_id": "f48034978df04e53933494cc9bb3de24",
       "version_major": 2,
       "version_minor": 0
      },
      "text/plain": [
       "Canvas(toolbar=Toolbar(toolitems=[('Home', 'Reset original view', 'home', 'home'), ('Back', 'Back to previous …"
      ]
     },
     "metadata": {},
     "output_type": "display_data"
    },
    {
     "data": {
      "text/plain": [
       "<matplotlib.legend.Legend at 0x7f83a4b6e640>"
      ]
     },
     "execution_count": 4,
     "metadata": {},
     "output_type": "execute_result"
    }
   ],
   "source": [
    "plt.close(\"all\")\n",
    "plt.plot(z ,label='Standardized Signal')\n",
    "plt.plot(y2, label='Signal')\n",
    "plt.ylabel(\"Signal Amplitude\")\n",
    "plt.xlabel(\"Time (Samples)\")\n",
    "plt.legend()"
   ]
  },
  {
   "cell_type": "markdown",
   "metadata": {},
   "source": [
    "# Signal Quality"
   ]
  },
  {
   "cell_type": "code",
   "execution_count": 15,
   "metadata": {},
   "outputs": [
    {
     "name": "stdout",
     "output_type": "stream",
     "text": [
      "The autoreload extension is already loaded. To reload it, use:\n",
      "  %reload_ext autoreload\n"
     ]
    },
    {
     "data": {
      "application/vnd.jupyter.widget-view+json": {
       "model_id": "60c5c7dd38624e6e9f1954b9ad131631",
       "version_major": 2,
       "version_minor": 0
      },
      "text/plain": [
       "Canvas(toolbar=Toolbar(toolitems=[('Home', 'Reset original view', 'home', 'home'), ('Back', 'Back to previous …"
      ]
     },
     "metadata": {},
     "output_type": "display_data"
    },
    {
     "data": {
      "text/plain": [
       "[<matplotlib.lines.Line2D at 0x7fc7fedc78e0>]"
      ]
     },
     "execution_count": 15,
     "metadata": {},
     "output_type": "execute_result"
    }
   ],
   "source": [
    "%load_ext autoreload\n",
    "%autoreload 2\n",
    "%matplotlib widget\n",
    "from scipy import signal\n",
    "import matplotlib.pyplot as plt\n",
    "import numpy as np\n",
    "import os \n",
    "os.chdir('/home/kkotzen/research/PPG_sleepstaging/')\n",
    "from pathlib import Path\n",
    "\n",
    "from src.parsing.MESAParser import MESAParser\n",
    "dl = MESAParser()\n",
    "patients = ['0050'] #dl.database_all_patient_IDs\n",
    "\n",
    "ppg = dl.load_signal(patients[0], 'Pleth')\n",
    "quality = dl.load_quality(patients[0], 'Pleth')\n",
    "\n",
    "fs = 256\n",
    "f_quality = 2\n",
    "\n",
    "\n",
    "\n",
    "plt.close(\"all\")\n",
    "plt.plot(np.arange(0, len(ppg)/(fs*60), 1/(fs*60)), ppg)\n",
    "plt.plot(np.arange(0, len(quality)/f_quality, 1/f_quality), quality)"
   ]
  },
  {
   "cell_type": "markdown",
   "metadata": {},
   "source": [
    "# Peak-Peak Intervals"
   ]
  },
  {
   "cell_type": "code",
   "execution_count": 25,
   "metadata": {},
   "outputs": [
    {
     "name": "stdout",
     "output_type": "stream",
     "text": [
      "The autoreload extension is already loaded. To reload it, use:\n",
      "  %reload_ext autoreload\n"
     ]
    },
    {
     "data": {
      "application/vnd.jupyter.widget-view+json": {
       "model_id": "fbe738e36315419e962753591abdd63f",
       "version_major": 2,
       "version_minor": 0
      },
      "text/plain": [
       "Canvas(toolbar=Toolbar(toolitems=[('Home', 'Reset original view', 'home', 'home'), ('Back', 'Back to previous …"
      ]
     },
     "metadata": {},
     "output_type": "display_data"
    },
    {
     "data": {
      "text/plain": [
       "Text(0, 0.5, 'IHR')"
      ]
     },
     "execution_count": 25,
     "metadata": {},
     "output_type": "execute_result"
    }
   ],
   "source": [
    "%load_ext autoreload\n",
    "%autoreload 2\n",
    "%matplotlib widget\n",
    "from scipy import signal\n",
    "import matplotlib.pyplot as plt\n",
    "import numpy as np\n",
    "import os \n",
    "os.chdir('/home/kkotzen/research/PPG_sleepstaging/')\n",
    "from pathlib import Path\n",
    "\n",
    "from src.parsing.MESAParser import MESAParser\n",
    "dl = MESAParser()\n",
    "patients = ['0050'] #dl.database_all_patient_IDs\n",
    "\n",
    "ppg = dl.load_signal(patients[0], 'Pleth')\n",
    "peaks = dl.load_annotation(patients[0], 'Pleth', 'Aboy', 'Peaks')\n",
    "\n",
    "plt.close(\"all\")\n",
    "f, (ax1, ax2) = plt.subplots(2,1,sharex=True, figsize=(10,5))\n",
    "ax1.plot(ppg)\n",
    "ax1.plot(peaks, ppg[peaks], 'o')\n",
    "ax1.set_ylabel(\"PPG\")\n",
    "ax2.plot(peaks[1:], (np.diff(peaks)/256)*60)\n",
    "ax2.set_xlabel(\"Time\")\n",
    "ax2.set_ylabel(\"IHR\")"
   ]
  },
  {
   "cell_type": "code",
   "execution_count": 140,
   "metadata": {},
   "outputs": [
    {
     "data": {
      "application/vnd.jupyter.widget-view+json": {
       "model_id": "c4ab4dc7555247618d4da16c56f6c672",
       "version_major": 2,
       "version_minor": 0
      },
      "text/plain": [
       "Canvas(toolbar=Toolbar(toolitems=[('Home', 'Reset original view', 'home', 'home'), ('Back', 'Back to previous …"
      ]
     },
     "metadata": {},
     "output_type": "display_data"
    },
    {
     "data": {
      "text/plain": [
       "[<matplotlib.lines.Line2D at 0x7fed053cbf40>]"
      ]
     },
     "execution_count": 140,
     "metadata": {},
     "output_type": "execute_result"
    }
   ],
   "source": [
    "plt.close(\"all\")\n",
    "plt.plot(signal)\n",
    "plt.plot(all_peaks, signal[all_peaks.astype(int)], 'x')"
   ]
  },
  {
   "cell_type": "code",
   "execution_count": 81,
   "metadata": {},
   "outputs": [
    {
     "data": {
      "application/vnd.jupyter.widget-view+json": {
       "model_id": "8ed3a58b459e4857ab03837b862d2b92",
       "version_major": 2,
       "version_minor": 0
      },
      "text/plain": [
       "Canvas(toolbar=Toolbar(toolitems=[('Home', 'Reset original view', 'home', 'home'), ('Back', 'Back to previous …"
      ]
     },
     "metadata": {},
     "output_type": "display_data"
    },
    {
     "data": {
      "text/plain": [
       "[<matplotlib.lines.Line2D at 0x7fee721b0fa0>]"
      ]
     },
     "execution_count": 81,
     "metadata": {},
     "output_type": "execute_result"
    }
   ],
   "source": [
    "plt.close(\"all\")\n",
    "plt.plot(signal)\n",
    "plt.plot(all_peaks, signal[all_peaks], 'x')"
   ]
  },
  {
   "cell_type": "code",
   "execution_count": null,
   "metadata": {},
   "outputs": [],
   "source": []
  },
  {
   "cell_type": "code",
   "execution_count": null,
   "metadata": {},
   "outputs": [
    {
     "name": "stdout",
     "output_type": "stream",
     "text": [
      "2052\n"
     ]
    },
    {
     "name": "stderr",
     "output_type": "stream",
     "text": [
      " 80%|███████▉  | 381/478 [00:18<00:04, 20.05it/s]"
     ]
    }
   ],
   "source": [
    "import heartpy as hp\n",
    "import matplotlib.pyplot as plt\n",
    "import tqdm\n",
    "import numpy as np\n",
    "\n",
    "from src.parsing.MESAParser import MESAParser\n",
    "\n",
    "#run the analysis\n",
    "patients = dl.database_all_patient_IDs\n",
    "print(len(patients))\n",
    "dl = MESAParser()\n",
    "signal = dl.load_signal('0001', 'Pleth')\n",
    "signal_ = hp.filter_signal(signal, cutoff = 8, sample_rate = 256.0, order = 3, filtertype='lowpass')\n",
    "s = 100*256\n",
    "h = 90*256\n",
    "\n",
    "all_peaks = np.array([])\n",
    "for i in tqdm.tqdm (range(int(len(signal)/h) -1)):\n",
    "    try:\n",
    "        wd, m = hp.process(signal_[i*h:i*h+s], sample_rate=256)\n",
    "        peaks = np.array([w for w in wd['peaklist'] if w not in wd['removed_beats']])\n",
    "        all_peaks = np.append(all_peaks, peaks+int(i*h))\n",
    "    except:\n",
    "        pass\n",
    "    #print(\"Failed\")\n",
    "\n",
    "\n",
    "def remove_duplicates(peaks):\n",
    "    peaks = np.sort(peaks)\n",
    "    dpeaks = np.diff(peaks)\n",
    "    peaks = peaks[1:][dpeaks > 10]\n",
    "    return peaks\n",
    "\n",
    "all_peaks_ = remove_duplicates(all_peaks)\n"
   ]
  }
 ],
 "metadata": {
  "kernelspec": {
   "display_name": "Python 3",
   "language": "python",
   "name": "python3"
  },
  "language_info": {
   "codemirror_mode": {
    "name": "ipython",
    "version": 3
   },
   "file_extension": ".py",
   "mimetype": "text/x-python",
   "name": "python",
   "nbconvert_exporter": "python",
   "pygments_lexer": "ipython3",
   "version": "3.8.6"
  }
 },
 "nbformat": 4,
 "nbformat_minor": 4
}
