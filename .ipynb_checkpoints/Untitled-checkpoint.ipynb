{
 "cells": [
  {
   "cell_type": "code",
   "execution_count": 1,
   "metadata": {},
   "outputs": [
    {
     "ename": "ModuleNotFoundError",
     "evalue": "No module named 'tensorflow_addons'",
     "output_type": "error",
     "traceback": [
      "\u001b[0;31m---------------------------------------------------------------------------\u001b[0m",
      "\u001b[0;31mModuleNotFoundError\u001b[0m                       Traceback (most recent call last)",
      "\u001b[0;32m<ipython-input-1-98f43ad50098>\u001b[0m in \u001b[0;36m<module>\u001b[0;34m\u001b[0m\n\u001b[1;32m     10\u001b[0m \u001b[0mtf\u001b[0m\u001b[0;34m.\u001b[0m\u001b[0mconfig\u001b[0m\u001b[0;34m.\u001b[0m\u001b[0mexperimental\u001b[0m\u001b[0;34m.\u001b[0m\u001b[0mset_memory_growth\u001b[0m\u001b[0;34m(\u001b[0m\u001b[0mgpus\u001b[0m\u001b[0;34m[\u001b[0m\u001b[0;36m0\u001b[0m\u001b[0;34m]\u001b[0m\u001b[0;34m,\u001b[0m \u001b[0menable\u001b[0m\u001b[0;34m=\u001b[0m\u001b[0;32mTrue\u001b[0m\u001b[0;34m)\u001b[0m\u001b[0;34m\u001b[0m\u001b[0;34m\u001b[0m\u001b[0m\n\u001b[1;32m     11\u001b[0m \u001b[0;34m\u001b[0m\u001b[0m\n\u001b[0;32m---> 12\u001b[0;31m \u001b[0;32mimport\u001b[0m \u001b[0mtensorflow_addons\u001b[0m \u001b[0;32mas\u001b[0m \u001b[0mtfa\u001b[0m\u001b[0;34m\u001b[0m\u001b[0;34m\u001b[0m\u001b[0m\n\u001b[0m\u001b[1;32m     13\u001b[0m \u001b[0;32mfrom\u001b[0m \u001b[0mtensorflow\u001b[0m\u001b[0;34m.\u001b[0m\u001b[0mpython\u001b[0m\u001b[0;34m.\u001b[0m\u001b[0mkeras\u001b[0m \u001b[0;32mimport\u001b[0m \u001b[0mInput\u001b[0m\u001b[0;34m\u001b[0m\u001b[0;34m\u001b[0m\u001b[0m\n\u001b[1;32m     14\u001b[0m \u001b[0;32mfrom\u001b[0m \u001b[0mtensorflow\u001b[0m\u001b[0;34m.\u001b[0m\u001b[0mkeras\u001b[0m\u001b[0;34m.\u001b[0m\u001b[0mmodels\u001b[0m \u001b[0;32mimport\u001b[0m \u001b[0mSequential\u001b[0m\u001b[0;34m,\u001b[0m \u001b[0mModel\u001b[0m\u001b[0;34m\u001b[0m\u001b[0;34m\u001b[0m\u001b[0m\n",
      "\u001b[0;31mModuleNotFoundError\u001b[0m: No module named 'tensorflow_addons'"
     ]
    }
   ],
   "source": [
    "%matplotlib widget\n",
    "import sys\n",
    "import os\n",
    "import time\n",
    "import numpy as np\n",
    "os.environ['TF_CPP_MIN_LOG_LEVEL'] = '3'\n",
    "os.environ[\"CUDA_VISIBLE_DEVICES\"] = \"2\"  # Set the GPU you wish to use here\n",
    "import tensorflow as tf\n",
    "gpus = tf.config.experimental.list_physical_devices('GPU')\n",
    "tf.config.experimental.set_memory_growth(gpus[0], enable=True)\n",
    "\n",
    "import tensorflow_addons as tfa\n",
    "from tensorflow.python.keras import Input\n",
    "from tensorflow.keras.models import Sequential, Model\n",
    "from tensorflow.python.keras.layers import Conv1D, GlobalAveragePooling1D, AveragePooling1D, MaxPool1D, Flatten, Dense, \\\n",
    "    Reshape, Dropout, TimeDistributed, Add, LSTM, GRU, Bidirectional\n",
    "from tensorflow.python.keras.layers import LeakyReLU\n",
    "from tensorflow.keras.callbacks import EarlyStopping, ModelCheckpoint\n",
    "import tensorflow.python.keras as keras\n",
    "tf.keras.backend.clear_session()\n",
    "\n",
    "from sklearn.metrics import cohen_kappa_score\n",
    "\n",
    "        \n",
    "model = keras.Sequential(\n",
    "    [   Input(shape=(1200,1234,1)),\n",
    "        TimeDistributed(Conv1D(1,8,3,activation=\"relu\", name=\"layer1\")),\n",
    "        TimeDistributed(Conv1D(8,128, 3, activation=\"relu\", padding=\"same\", name=\"layer1\")),\n",
    "        TimeDistributed(Conv1D(128,32, 3, activation=\"relu\",padding=\"same\",  name=\"layer1\")),\n",
    "        TimeDistributed(Flatten()),\n",
    "        TimeDistributed(Dense(64, activation=\"relu\", name=\"layer2\")),\n",
    "        TimeDistributed(Dense(4, activation='softmax', name=\"layer3\")),\n",
    "    ]\n",
    ")\n",
    "\n",
    "model.compile(optimizer=tf.keras.optimizers.Adam(lr=0.001),\n",
    "                  loss=tf.keras.losses.SparseCategoricalCrossentropy(),\n",
    "                  metrics=['accuracy', tfa.metrics.CohenKappa(num_classes=4, sparse_labels=True)])\n",
    "model.summary()\n",
    "# Call model on a test input\n",
    "X = tf.random.uniform((100,1200,1234,1), minval=0, maxval=1, dtype=tf.dtypes.float32, seed=None, name=None)\n",
    "Y = tf.random.uniform((100,1200), minval=0, maxval=4, dtype=tf.dtypes.int32, seed=None, name=None)\n",
    "\n",
    "start=time.time()\n",
    "model.fit(X,Y, epochs=10, verbose=1)\n",
    "print(\"Elapsed: \", time.time()-start)"
   ]
  },
  {
   "cell_type": "code",
   "execution_count": null,
   "metadata": {},
   "outputs": [],
   "source": [
    "tf.keras.backend.clear_session()"
   ]
  },
  {
   "cell_type": "code",
   "execution_count": null,
   "metadata": {},
   "outputs": [],
   "source": [
    "\n",
    "def dilated_residual_convolution(X_in, kernel, dilations, dropout, name=\"\"):\n",
    "    X = X_in\n",
    "    for i, dilation in enumerate(dilations):\n",
    "        X = TimeDistributed(\n",
    "            Conv1D(128, kernel_size=kernel, activation='relu', dilation_rate=dilation, padding='same'),\n",
    "            name=f\"{name}_Conv{i}\")(X)\n",
    "    X = Add(name=f\"{name}_Addition\")([X, X_in])\n",
    "    if dropout > 0:\n",
    "        X = TimeDistributed(Dropout(dropout), name=f\"{name}_Dropout\")(X)\n",
    "    return X\n",
    "\n",
    "\n",
    "def residual_convolution(X_in, kernel, filt, n_convs, name):\n",
    "    X = X_in\n",
    "    # Residual needs 1x1 CNN\n",
    "    X_residual = TimeDistributed(MaxPool1D(2, strides=2), name=f\"{name}_residual_Maxpool\")(X)\n",
    "    X_residual = TimeDistributed(Conv1D(1, 1, activation='relu', padding='same'), name=f\"{name}_residual_1x1Conv\")(\n",
    "        X_residual)\n",
    "    # Convolutions and max pooling\n",
    "    for i in range(n_convs):\n",
    "        X = TimeDistributed(Conv1D(filt, kernel, activation='relu', padding='same'), name=f\"{name}_Conv{i}\")(X)\n",
    "    X = TimeDistributed(MaxPool1D(2, strides=2), name=f\"{name}_Maxpool\")(X)\n",
    "    # Bring in the residual\n",
    "    X = Add(name=f\"{name}_residual_Add\")([X, X_residual])\n",
    "    return X\n",
    "\n",
    "\n",
    "def convolution(X_in, kernel, filt, n_convs=1, name=None):\n",
    "    X = X_in\n",
    "    for i in range(n_convs):\n",
    "        X = TimeDistributed(Conv1D(filt, kernel, activation='relu', padding='same'), name=f\"{name}_Conv{i}\")(X)\n",
    "    X = TimeDistributed(MaxPool1D(2, strides=2), name=f\"{name}_maxpool\")(X)\n",
    "    return X\n",
    "\n",
    "\n",
    "def google_model(reg, shape, lr):\n",
    "    print(\"Building Model\", end=\"\")\n",
    "    inputs = Input(shape=(shape[1], shape[2], 1))\n",
    "    # Input Convolution\n",
    "    X = TimeDistributed(Conv1D(8, 1, activation='relu', padding='same'), name=\"InputConv\")(inputs)\n",
    "    X = convolution(X, kernel=3, filt=16, n_convs=2, name=\"ConvBlock1\")\n",
    "    X = convolution(X, kernel=3, filt=32, n_convs=2, name=\"ConvBlock2\")\n",
    "    X = convolution(X, kernel=3, filt=64, n_convs=2, name=\"ConvBlock3\")\n",
    "    X = TimeDistributed(Flatten(), name=f\"Flatten\")(X)\n",
    "    X = TimeDistributed(Dense(units=128, activation='relu'), name=f\"Dense\")(X)\n",
    "    X = Reshape(target_shape=(1, X.shape[1], X.shape[2]))(X)\n",
    "    X = dilated_residual_convolution(X, kernel=7, dilations=[2, 4, 8, 16, 32], dropout=0.25, name=\"Dilated1\")\n",
    "    X = dilated_residual_convolution(X, kernel=7, dilations=[2, 4, 8, 16, 32], dropout=0.25, name=\"Dilated2\")\n",
    "    out = TimeDistributed(Conv1D(4, 1, activation='softmax'))(X)\n",
    "\n",
    "    model = Model(inputs=inputs, outputs=out)\n",
    "\n",
    "    model.compile(optimizer=tf.keras.optimizers.Adam(lr=lr),\n",
    "                  loss=tf.keras.losses.SparseCategoricalCrossentropy(),\n",
    "                  metrics=['accuracy'],\n",
    "                  sample_weight_mode=\"temporal\")\n",
    "    print(\"\\nModel Compiled\")\n",
    "    return model\n",
    "\n",
    "model = google_model(reg=None, shape=(100,1200,256,1), lr=0.0001)"
   ]
  },
  {
   "cell_type": "code",
   "execution_count": null,
   "metadata": {},
   "outputs": [],
   "source": [
    "X = tf.random.uniform((10,1200,256,1), minval=0, maxval=1, dtype=tf.dtypes.float32, seed=None, name=None)\n",
    "Y = tf.random.uniform((10,1200), minval=0, maxval=4, dtype=tf.dtypes.int32, seed=None, name=None)\n"
   ]
  },
  {
   "cell_type": "code",
   "execution_count": null,
   "metadata": {},
   "outputs": [],
   "source": [
    "model.fit(X,Y, epochs=5, verbose=1)"
   ]
  },
  {
   "cell_type": "code",
   "execution_count": null,
   "metadata": {},
   "outputs": [],
   "source": []
  }
 ],
 "metadata": {
  "kernelspec": {
   "display_name": "Python 3",
   "language": "python",
   "name": "python3"
  },
  "language_info": {
   "codemirror_mode": {
    "name": "ipython",
    "version": 3
   },
   "file_extension": ".py",
   "mimetype": "text/x-python",
   "name": "python",
   "nbconvert_exporter": "python",
   "pygments_lexer": "ipython3",
   "version": "3.8.6"
  }
 },
 "nbformat": 4,
 "nbformat_minor": 4
}
