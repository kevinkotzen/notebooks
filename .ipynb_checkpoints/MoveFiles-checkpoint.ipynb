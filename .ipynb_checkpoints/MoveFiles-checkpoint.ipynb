{
 "cells": [
  {
   "cell_type": "code",
   "execution_count": 8,
   "metadata": {},
   "outputs": [],
   "source": [
    "import os\n",
    "from shutil import copyfile\n",
    "\n",
    "source = \"/data/kkotzen/home/sharonsalabi/PPG_features/\"\n",
    "destination = \"/data/kkotzen/databases/mesa/polysomnography/features/Pleth/\"\n",
    "files = os.listdir(source)\n",
    "for file in files:\n",
    "    patient_id = file[0:4]\n",
    "    source_file = source + file\n",
    "    dest_file = destination + f\"mesa-sleep-{patient_id}-Pleth-Morph.xlsx\"\n",
    "    copyfile(source_file, dest_file)"
   ]
  },
  {
   "cell_type": "code",
   "execution_count": null,
   "metadata": {},
   "outputs": [],
   "source": []
  }
 ],
 "metadata": {
  "kernelspec": {
   "display_name": "Python 3",
   "language": "python",
   "name": "python3"
  },
  "language_info": {
   "codemirror_mode": {
    "name": "ipython",
    "version": 3
   },
   "file_extension": ".py",
   "mimetype": "text/x-python",
   "name": "python",
   "nbconvert_exporter": "python",
   "pygments_lexer": "ipython3",
   "version": "3.8.6"
  }
 },
 "nbformat": 4,
 "nbformat_minor": 4
}
