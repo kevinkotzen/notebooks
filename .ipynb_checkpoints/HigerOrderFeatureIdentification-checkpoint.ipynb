{
 "cells": [
  {
   "cell_type": "code",
   "execution_count": 1,
   "metadata": {},
   "outputs": [],
   "source": [
    "%load_ext autoreload\n",
    "%autoreload 2\n",
    "%matplotlib widget\n",
    "import matplotlib.pyplot as plt\n",
    "import numpy as np\n",
    "import os \n",
    "from scipy import signal\n",
    "os.chdir('/home/kkotzen/research/PPG_sleepstaging/')\n",
    "from pathlib import Path\n",
    "from src.parsing.MESAParser import MESAParser\n",
    "\n",
    "from scipy import signal, stats\n",
    "\n",
    "def butter_bandpass(lowcut, highcut, fs, order=4):\n",
    "    nyq = 0.5 * fs\n",
    "    low = lowcut / nyq\n",
    "    high = highcut / nyq\n",
    "    b, a = signal.butter(order, [low, high], btype='band')\n",
    "    return b, a\n",
    "\n",
    "def butter_bandpass_filter(data, lowcut, highcut, fs, order=4):\n",
    "    b, a = butter_bandpass(lowcut, highcut, fs, order=order)\n",
    "    y = signal.filtfilt(b, a, data)\n",
    "    return y\n",
    "\n",
    "def standardize_signal(data):\n",
    "    return stats.zscore(data.astype(np.float32)).astype(np.float32)\n"
   ]
  },
  {
   "cell_type": "code",
   "execution_count": 2,
   "metadata": {},
   "outputs": [],
   "source": [
    "import time \n",
    "\n",
    "dl = MESAParser()\n",
    "patients = ['3013'] #dl.database_all_patient_IDs\n",
    "patient = patients[0]\n",
    "x = dl.load_signal(patient, 'Pleth')\n",
    "peaks = dl.load_annotation(patient, 'Pleth', 'Aboy', 'Peaks')\n",
    "onsets = dl.load_annotation(patient, 'Pleth', 'Aboy', 'Onsets')\n",
    "x = butter_bandpass_filter(x, 0.5, 8, 256, order=4)\n",
    "x = standardize_signal(x)"
   ]
  },
  {
   "cell_type": "code",
   "execution_count": 85,
   "metadata": {},
   "outputs": [],
   "source": [
    "# x_min = 256*1234\n",
    "# x_max = 256*2234\n",
    "# x = x[x_min:x_max]\n",
    "# peaks = peaks[(peaks < x_max)&(peaks > x_min)] - x_min\n",
    "# onsets = onsets[(onsets> x_min)&(onsets < x_max)] - x_min\n",
    "# print(len(x), len(peaks), len(onsets))"
   ]
  },
  {
   "cell_type": "code",
   "execution_count": 3,
   "metadata": {},
   "outputs": [
    {
     "data": {
      "application/vnd.jupyter.widget-view+json": {
       "model_id": "682ec1bfaa98495f996d67846d236ba8",
       "version_major": 2,
       "version_minor": 0
      },
      "text/plain": [
       "Canvas(toolbar=Toolbar(toolitems=[('Home', 'Reset original view', 'home', 'home'), ('Back', 'Back to previous …"
      ]
     },
     "metadata": {},
     "output_type": "display_data"
    },
    {
     "name": "stderr",
     "output_type": "stream",
     "text": [
      "No handles with labels found to put in legend.\n"
     ]
    }
   ],
   "source": [
    "\n",
    "dx = np.gradient(x)\n",
    "ddx = np.gradient(dx)\n",
    "\n",
    "dpeaks, _ = signal.find_peaks(dx)\n",
    "donsets, _ = signal.find_peaks(-dx)\n",
    "\n",
    "ddpeaks, _ = signal.find_peaks(ddx)\n",
    "ddonsets, _ = signal.find_peaks(-ddx)\n",
    "\n",
    "plt.close('all')\n",
    "fig, ax = plt.subplots(3,1, figsize=(10,5), sharex=True)\n",
    "ax[0].plot(x)\n",
    "ax[0].plot(peaks, x[peaks], 'x')\n",
    "ax[0].plot(onsets, x[onsets], 'o')\n",
    "ax[0].set_xlabel('time (seconds)')\n",
    "ax[0].set_ylabel('PPG (N/A)')\n",
    "ax[0].axis('tight')\n",
    "\n",
    "ax[1].plot(dx)\n",
    "ax[1].plot(donsets, dx[donsets], 'o')\n",
    "ax[1].plot(dpeaks, dx[dpeaks], 'x')\n",
    "ax[1].set_xlabel('time (seconds)')\n",
    "ax[1].set_ylabel('dPPG (N/A)')\n",
    "\n",
    "ax[2].plot(ddx)\n",
    "ax[2].plot(ddonsets, ddx[ddonsets], 'o')\n",
    "ax[2].plot(ddpeaks, ddx[ddpeaks], 'x')\n",
    "ax[2].set_ylabel('ddPPG (N/A)')\n",
    "ax[2].set_xlabel('time (seconds)')\n",
    "\n",
    "fig.legend()\n",
    "plt.show()"
   ]
  },
  {
   "cell_type": "code",
   "execution_count": 87,
   "metadata": {},
   "outputs": [],
   "source": [
    "def peaks_and_onsets(x):\n",
    "    \"\"\"Find the peaks and onsets of a short FILTERED segment of PPG\n",
    "    :return peaks\n",
    "    :return onsets\n",
    "    \"\"\"\n",
    "    peaks, _ = signal.find_peaks(x)\n",
    "    onsets, _ = signal.find_peaks(-x)\n",
    "    return peaks, onsets\n",
    "\n",
    "def first_derivitive_points(x):\n",
    "    \"\"\"Calculate first derivitive points Ta1 and Tb1 from a SINGLE Onset-Onset segment of PPG\n",
    "    :return Ta1: Time from PPG onset to peak of 1st derivitive \n",
    "    :return Tb1: Time from PPG onset to onset of 1st derivitive \n",
    "    \"\"\"\n",
    "    dx = np.gradient(x)\n",
    "    peaks, onsets = peaks_and_onsets(dx)\n",
    "    Ta1 = peaks[0]\n",
    "    Tb1 = onsets[0]\n",
    "    return Ta1, Tb1\n",
    "\n",
    "def second_derivitive_points(x):\n",
    "    \"\"\"Calculate second derivitive points Ta2 and Tb2 from a SINGLE Onset-Onset segment of PPG\n",
    "    :return Ta1: Time from PPG onset to peak of 2st derivitive \n",
    "    :return Tb1: Time from PPG onset to onset of 2st derivitive \n",
    "    \"\"\"\n",
    "    dx = np.gradient(x)\n",
    "    ddx = np.gradient(dx)\n",
    "    peaks, onsets = peaks_and_onsets(ddx)\n",
    "    Ta2 = peaks[0]\n",
    "    Tb2 = onsets[0]\n",
    "    return Ta2, Tb2, peaks[2]"
   ]
  },
  {
   "cell_type": "code",
   "execution_count": 92,
   "metadata": {},
   "outputs": [
    {
     "data": {
      "application/vnd.jupyter.widget-view+json": {
       "model_id": "abc98b825179468ab567529ec06eccc9",
       "version_major": 2,
       "version_minor": 0
      },
      "text/plain": [
       "Canvas(toolbar=Toolbar(toolitems=[('Home', 'Reset original view', 'home', 'home'), ('Back', 'Back to previous …"
      ]
     },
     "metadata": {},
     "output_type": "display_data"
    }
   ],
   "source": [
    "i = 666\n",
    "p = x[onsets[i]:onsets[i+1]]\n",
    "dp = np.gradient(p)\n",
    "ddp = np.gradient(dp)\n",
    "\n",
    "Ta1, Tb1 = first_derivitive_points(p)\n",
    "Ta2, Tb2, dicrotic = second_derivitive_points(p)\n",
    "\n",
    "plt.close('all')\n",
    "fig, ax = plt.subplots(3,1, figsize=(10,5), sharex=True)\n",
    "ax[0].plot(p)\n",
    "ax[0].plot(dicrotic, p[dicrotic], 'x')\n",
    "ax[0].set_xlabel('time (seconds)')\n",
    "ax[0].set_ylabel('PPG (N/A)')\n",
    "ax[0].axis('tight')\n",
    "\n",
    "ax[1].plot(dp)\n",
    "ax[1].plot(Ta1, dp[Ta1], 'o')\n",
    "ax[1].plot(Tb1, dp[Tb1], 'x')\n",
    "ax[1].set_xlabel('time (seconds)')\n",
    "ax[1].set_ylabel('dPPG (N/A)')\n",
    "\n",
    "ax[2].plot(ddp)\n",
    "ax[2].plot(Ta2, ddp[Ta2], 'o')\n",
    "ax[2].plot(Tb2, ddp[Tb2], 'x')\n",
    "ax[2].set_ylabel('ddPPG (N/A)')\n",
    "ax[2].set_xlabel('time (seconds)')\n",
    "\n",
    "plt.show()"
   ]
  },
  {
   "cell_type": "code",
   "execution_count": null,
   "metadata": {},
   "outputs": [],
   "source": []
  },
  {
   "cell_type": "code",
   "execution_count": null,
   "metadata": {},
   "outputs": [],
   "source": []
  }
 ],
 "metadata": {
  "kernelspec": {
   "display_name": "Python 3",
   "language": "python",
   "name": "python3"
  },
  "language_info": {
   "codemirror_mode": {
    "name": "ipython",
    "version": 3
   },
   "file_extension": ".py",
   "mimetype": "text/x-python",
   "name": "python",
   "nbconvert_exporter": "python",
   "pygments_lexer": "ipython3",
   "version": "3.8.6"
  }
 },
 "nbformat": 4,
 "nbformat_minor": 4
}
