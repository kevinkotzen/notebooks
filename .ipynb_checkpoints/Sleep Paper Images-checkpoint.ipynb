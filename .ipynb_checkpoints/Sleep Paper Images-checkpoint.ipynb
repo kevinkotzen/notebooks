{
 "cells": [
  {
   "cell_type": "code",
   "execution_count": null,
   "id": "2efb2fda",
   "metadata": {},
   "outputs": [],
   "source": [
    "%load_ext autoreload\n",
    "%autoreload 2\n",
    "%matplotlib widget\n",
    "import matplotlib.pyplot as plt\n",
    "import numpy as np\n",
    "import scipy\n",
    "from scipy import signal, interpolate\n",
    "import copy\n",
    "import os \n",
    "import pandas as pd\n",
    "from tqdm import tqdm\n",
    "\n",
    "from pyCompare._plotBlandAltman import blandAltman  \n",
    "from sklearn.metrics import cohen_kappa_score\n",
    "from bishop_peaks_onsets import *\n",
    "os.chdir('/home/kkotzen/research/PPG_sleepstaging_orion3/')\n",
    "from pathlib import Path\n",
    "from src.parsing.MESAParser import MESAParser\n",
    "from src.parsing.CFSParser import CFSParser\n",
    "from src.parsing.UHVParser import UHVParser\n",
    "from src.parsing.SHHSParser import SHHSParser\n",
    "\n",
    "\n",
    "from src.datasets.mesa_dataset import MESA_Dataset\n",
    "import pickle"
   ]
  },
  {
   "cell_type": "code",
   "execution_count": null,
   "id": "24f89331",
   "metadata": {},
   "outputs": [],
   "source": []
  },
  {
   "cell_type": "code",
   "execution_count": 4,
   "id": "3b0d1fdd",
   "metadata": {},
   "outputs": [],
   "source": [
    "dl = MESAParser()\n",
    "metadata = dl.metadata\n",
    "# patients = dl.database_all_patient_IDs\n",
    "# sleep = {patient:dl.load_sleep(patient) for patient in patients}"
   ]
  },
  {
   "cell_type": "code",
   "execution_count": 5,
   "id": "cb8e2c51",
   "metadata": {},
   "outputs": [
    {
     "data": {
      "text/plain": [
       "[]"
      ]
     },
     "execution_count": 5,
     "metadata": {},
     "output_type": "execute_result"
    }
   ],
   "source": [
    "[r for r in metadata.columns if 'smok' in r]"
   ]
  },
  {
   "cell_type": "code",
   "execution_count": 6,
   "id": "dd790664",
   "metadata": {},
   "outputs": [],
   "source": [
    "probs_file = \"/home/kkotzen/tmp/results/f9ec5834998d490aae460ef8ffbe20a8.pkl\"\n",
    "predictions = pickle.load(open(probs_file, \"rb\"))\n",
    "sleep_predictions = {patient:predictions[\"predictions\"][i] for i,patient in enumerate(predictions['patients'])}\n",
    "sleep_labels = {patient:predictions[\"labels\"][i] for i,patient in enumerate(predictions['patients'])}\n",
    "sleep_encoding =  {0: 0, 1: 1, 2: 1, 3: 2, 4: 3, 9:0}"
   ]
  },
  {
   "cell_type": "code",
   "execution_count": 7,
   "id": "288fa48f",
   "metadata": {},
   "outputs": [
    {
     "name": "stderr",
     "output_type": "stream",
     "text": [
      "100%|███████████████████████████████████████████████████████████████████████████████████████████████████████████████████████████████████████████████████████████████████████████████████████████████████████████████████████████████████████████████| 204/204 [00:02<00:00, 82.82it/s]\n"
     ]
    }
   ],
   "source": [
    "df = pd.DataFrame()\n",
    "for patient in tqdm.tqdm(sleep_predictions.keys()):\n",
    "\n",
    "    ss = sleep_labels[patient]\n",
    "    ss_pred = sleep_predictions[patient]\n",
    "    kappa = cohen_kappa_score(ss, ss_pred)\n",
    "    \n",
    "    arousals = np.sum([1 for i in range(len(ss)-1) if ss[i+1]<ss[i]])\n",
    "    arousals_pred = np.sum([1 for i in range(len(ss_pred)-1) if ss_pred[i+1]<ss_pred[i]])\n",
    "    \n",
    "#     waso = np.sum(ss[np.where(ss > 0)[0]:np.where(ss > 0)[-1]] > 0\n",
    "#     waso_pred = \n",
    "    \n",
    "    sex = metadata[metadata.id==patient].sex.values[0]\n",
    "    age = metadata[metadata.id==patient].age.values[0]\n",
    "\n",
    "    beta = max(metadata[metadata.id==patient].beta5c.values[0],metadata[metadata.id==patient].betad5c.values[0]) \n",
    "    anti_arr = metadata[metadata.id==patient].anara5c.values[0]\n",
    "\n",
    "    ahi = metadata[metadata.id==patient].ahi.values[0]\n",
    "    hypertension = metadata[metadata.id==patient].htn5c.values[0]\n",
    "    diabetic_cat = metadata[metadata.id==patient].dm035c.values[0]\n",
    "    bmi_cat =  metadata[metadata.id==patient].bmicat5c.values[0]\n",
    "    insomnia = metadata[metadata.id==patient].insmnia5.values[0]\n",
    "    apnea = metadata[metadata.id==patient].slpapnea5.values[0]\n",
    "    race = metadata[metadata.id==patient].race1c_x.values[0]\n",
    "    smoker = metadata[metadata.id==patient].smkstat5.values[0]\n",
    "    \n",
    "    df = df.append({'ID':patient, 'Kappa': kappa,'Gender':sex,\"Age\":age, 'Race':race, \"Smoker\": smoker,\n",
    "                    \"Beta Blockers\":beta, \"Anti Arrythmia\": anti_arr,\n",
    "                    'AHI':ahi, \"Hypertension\":hypertension, \n",
    "                    \"Diabetes Category\": diabetic_cat, \"BMI Category\": bmi_cat,\n",
    "                    \"Insomnia\": insomnia, 'Apnea':apnea,\n",
    "                    \"Wake\": len(ss[ss==0]),\"Light\": len(ss[ss==1]),\"Deep\":len(ss[ss==2]),\"REM\": len(ss[ss==3]), \n",
    "                    \"Wake_Pred\": len(ss_pred[ss_pred==0]),\"Light_Pred\": len(ss_pred[ss_pred==1]),\"Deep_Pred\":len(ss_pred[ss_pred==2]),\"REM_Pred\": len(ss_pred[ss_pred==3]), \n",
    "                    \"Arousals\": arousals, \"Arousals_Pred\": arousals_pred},ignore_index=True)\n",
    "\n",
    "\n",
    "def smoker_simplify(x):\n",
    "    if x == 0:\n",
    "        return 0\n",
    "    if x == 1:\n",
    "        return 1\n",
    "    if x == 2:\n",
    "        return 1\n",
    "    if x == 3:\n",
    "        return 1\n",
    "    \n",
    "def age_categories(x):\n",
    "    if x <=60:\n",
    "        return 0\n",
    "    if x > 60 and x <= 65:\n",
    "        return 1\n",
    "    if x > 65 and x <= 70:\n",
    "        return 2\n",
    "    if x > 70:\n",
    "        return 3\n",
    "    \n",
    "def ahi_categories(x):\n",
    "    if x <=5:\n",
    "        return 0\n",
    "    if x > 5 and x <= 15:\n",
    "        return 1\n",
    "    if x > 15 and x <= 30:\n",
    "        return 2\n",
    "    if x > 30:\n",
    "        return 3\n",
    "\n",
    "def diab_categories(x):\n",
    "    if x < 2:\n",
    "        return 0\n",
    "    else:\n",
    "        return 1\n",
    "    \n",
    "def gender_swap(x):\n",
    "    if x == 1:\n",
    "        return 0\n",
    "    else:\n",
    "        return 1\n",
    "    \n",
    "df[\"Age Group\"] = df[\"Age\"].apply(lambda x: age_categories(x))\n",
    "df[\"Gender\"] = df[\"Gender\"].apply(lambda x: gender_swap(x))\n",
    "df[\"Diabetes\"] = df[\"Diabetes Category\"].apply(lambda x: diab_categories(x))\n",
    "df[\"Smoker\"] = df[\"Smoker\"].apply(lambda x: smoker_simplify(x))\n",
    "\n",
    "df[\"Apnea Severity\"] = df[\"AHI\"].apply(lambda x: ahi_categories(x))\n",
    "\n",
    "df[\"Total Sleep\"] = df[\"REM\"]+df[\"Light\"]+df[\"Deep\"]\n",
    "df[\"REM%\"] = 100*df[\"REM\"]/df[\"Total Sleep\"]\n",
    "df[\"Light%\"] = 100*df[\"Light\"]/df[\"Total Sleep\"]\n",
    "df[\"Deep%\"] = 100*df[\"Deep\"]/df[\"Total Sleep\"]\n",
    "df[\"Sleep Efficiency\"] = 100*df[\"Total Sleep\"]/(df[\"Total Sleep\"]+df[\"Wake\"])\n",
    "\n",
    "\n",
    "df[\"Total Sleep_Pred\"] = df[\"REM_Pred\"]+df[\"Light_Pred\"]+df[\"Deep_Pred\"]\n",
    "df[\"REM%_Pred\"] = 100*df[\"REM_Pred\"]/df[\"Total Sleep_Pred\"]\n",
    "df[\"Light%_Pred\"] = 100*df[\"Light_Pred\"]/df[\"Total Sleep_Pred\"]\n",
    "df[\"Deep%_Pred\"] = 100*df[\"Deep_Pred\"]/df[\"Total Sleep_Pred\"]\n",
    "df[\"Kappa_Pred\"] = df[\"Kappa\"]\n",
    "df[\"Sleep Efficiency_Pred\"] = 100*df[\"Total Sleep_Pred\"]/(df[\"Total Sleep_Pred\"]+df[\"Wake_Pred\"])    \n",
    "\n",
    "df[\"Total Sleep\"] = df[\"Total Sleep\"]/120\n",
    "df[\"Total Sleep_Pred\"] = df[\"Total Sleep_Pred\"]/120\n",
    "\n",
    "\n",
    "df = df.rename(columns={\"Total Sleep\": \"Total Sleep (hours)\", \"Total Sleep_Pred\": \"Total Sleep (hours)_Pred\", \n",
    "                        \"Arousals\": \"Total Arousals\", \"Arousals_Pred\": \"Total Arousals_Pred\"})\n",
    "df = df.rename(columns={c:c.replace(\"%\", \" (%)\") for c in df.columns if \"%\" in c})"
   ]
  },
  {
   "cell_type": "code",
   "execution_count": 8,
   "id": "cee5f141",
   "metadata": {},
   "outputs": [
    {
     "data": {
      "text/plain": [
       "Index(['ID', 'Kappa', 'Gender', 'Age', 'Race', 'Smoker', 'Beta Blockers',\n",
       "       'Anti Arrythmia', 'AHI', 'Hypertension', 'Diabetes Category',\n",
       "       'BMI Category', 'Insomnia', 'Apnea', 'Wake', 'Light', 'Deep', 'REM',\n",
       "       'Wake_Pred', 'Light_Pred', 'Deep_Pred', 'REM_Pred', 'Total Arousals',\n",
       "       'Total Arousals_Pred', 'Age Group', 'Diabetes', 'Apnea Severity',\n",
       "       'Total Sleep (hours)', 'REM (%)', 'Light (%)', 'Deep (%)',\n",
       "       'Sleep Efficiency', 'Total Sleep (hours)_Pred', 'REM (%)_Pred',\n",
       "       'Light (%)_Pred', 'Deep (%)_Pred', 'Kappa_Pred',\n",
       "       'Sleep Efficiency_Pred'],\n",
       "      dtype='object')"
      ]
     },
     "execution_count": 8,
     "metadata": {},
     "output_type": "execute_result"
    }
   ],
   "source": [
    "df.columns"
   ]
  },
  {
   "cell_type": "markdown",
   "id": "ecedc50a",
   "metadata": {},
   "source": [
    "# Prediction vs actual sleep metric"
   ]
  },
  {
   "cell_type": "code",
   "execution_count": 42,
   "id": "fc84a554",
   "metadata": {},
   "outputs": [
    {
     "data": {
      "application/vnd.jupyter.widget-view+json": {
       "model_id": "4e92aaa8d11545909bdd48e3b188c536",
       "version_major": 2,
       "version_minor": 0
      },
      "text/plain": [
       "Canvas(toolbar=Toolbar(toolitems=[('Home', 'Reset original view', 'home', 'home'), ('Back', 'Back to previous …"
      ]
     },
     "metadata": {},
     "output_type": "display_data"
    }
   ],
   "source": [
    "import matplotlib.transforms as mtransforms\n",
    "\n",
    "plt.close(\"all\")\n",
    "Xs = [\"Total Sleep (hours)\", \"Light (%)\",\"Deep (%)\",\"REM (%)\", \"Sleep Efficiency\", 'Total Arousals']\n",
    "                           \n",
    "fig, axs = plt.subplots(3, 2, figsize=(4,6))\n",
    "for i, G in enumerate(Xs):\n",
    "    ax = axs[int(i/2)][i%2]\n",
    "    \n",
    "    trans = mtransforms.ScaledTranslation(-20/72, 7/72, fig.dpi_scale_trans)\n",
    "    ax.text(0.0, 1.0, f\"({chr(i+97)})\", transform=ax.transAxes + trans,\n",
    "            fontsize='medium', va='bottom', fontfamily='serif')\n",
    "    \n",
    "    m, b = np.polyfit(df[G], df[f\"{G}_Pred\"], 1)\n",
    "    ax.plot(df[G], m*df[G] + b, color='orange', alpha=1 )\n",
    "      \n",
    "    ax.scatter(df[G], df[f\"{G}_Pred\"], s = 5, alpha=0.5, c='#6495ED')\n",
    "    ax.set_title(f'{G}', size=10)\n",
    "    ax.set_xlabel(\"Ground Truth\", size=9)\n",
    "    ax.set_ylabel(\"Prediction\", size=9)\n",
    "    ax.spines['right'].set_visible(False)\n",
    "    ax.spines['top'].set_visible(False)\n",
    "    \n",
    "    mins = min(ax.get_xlim()[0], ax.get_ylim()[0])\n",
    "    maxs = max(ax.get_xlim()[1], ax.get_ylim()[1])\n",
    "    ax.set_xlim([mins, maxs])\n",
    "    ax.set_ylim([mins, maxs])\n",
    "    ax.tick_params(axis='both', which='major', labelsize=8)\n",
    "\n",
    "fig.align_ylabels(ax)\n",
    "plt.tight_layout()\n",
    "plt.savefig('/home/kkotzen/images/sleep_paper/fig-bland-altman-metrics.pdf')  "
   ]
  },
  {
   "cell_type": "code",
   "execution_count": 26,
   "id": "2831d435",
   "metadata": {},
   "outputs": [
    {
     "data": {
      "application/vnd.jupyter.widget-view+json": {
       "model_id": "69af413af47c4c76b41de29d733dbc57",
       "version_major": 2,
       "version_minor": 0
      },
      "text/plain": [
       "Canvas(toolbar=Toolbar(toolitems=[('Home', 'Reset original view', 'home', 'home'), ('Back', 'Back to previous …"
      ]
     },
     "metadata": {},
     "output_type": "display_data"
    }
   ],
   "source": [
    "Xs = [\"Total Sleep (hours)\", \"Light (%)\",\"Deep (%)\",\"REM (%)\", \"Sleep Efficiency\", 'Total Arousals']\n",
    "\n",
    "plt.close('all')\n",
    "for X in Xs:\n",
    "    df[f\"{X}_Error\"] =  df[f\"{X}_Pred\"] - df[X]\n",
    "\n",
    "err_cols = [c for c in df.columns if \"Error\" in c]\n",
    "err_ticks = [c.replace(\"_Error\", \"\") for c in err_cols]\n",
    "\n",
    "df_bp = df[err_cols].rename(columns={err_col:err_tick for err_col, err_tick in zip(err_cols, err_ticks)})\n",
    "fig, ax = plt.subplots(3, 2, figsize=(5,5))\n",
    "i = 0\n",
    "for X in Xs:\n",
    "    dff = df[[X, f\"{X}_Error\"]]\n",
    "    m, b = np.polyfit(df[X], df[f\"{X}_Error\"], 1)\n",
    "    ax[int(i/2)][i%2].plot(df[X], m*df[X] + b, color='orange', alpha=1 )\n",
    "    ax[int(i/2)][i%2].scatter(df[X], df[f\"{X}_Error\"], s = 5, alpha=0.5, c='#6495ED')\n",
    "    ax[int(i/2)][i%2].set_title(X, size=8)\n",
    "    ax[int(i/2)][i%2].set_xlabel(\"Ground Truth\", size=8)\n",
    "    ax[int(i/2)][i%2].set_ylabel(\"Prediction Error\", size=8)\n",
    "    ax[int(i/2)][i%2].spines['right'].set_visible(False)\n",
    "    ax[int(i/2)][i%2].spines['top'].set_visible(False)\n",
    "    i = i+1\n",
    "fig.align_ylabels(ax)\n",
    "plt.tight_layout()\n",
    "plt.savefig('/home/kkotzen/images/sleep_paper/fig-band-altman.pdf') "
   ]
  },
  {
   "cell_type": "code",
   "execution_count": 16,
   "id": "af934a2a",
   "metadata": {},
   "outputs": [
    {
     "data": {
      "application/vnd.jupyter.widget-view+json": {
       "model_id": "589f0db825ab4986a4e8b408cbc22492",
       "version_major": 2,
       "version_minor": 0
      },
      "text/plain": [
       "Canvas(toolbar=Toolbar(toolitems=[('Home', 'Reset original view', 'home', 'home'), ('Back', 'Back to previous …"
      ]
     },
     "metadata": {},
     "output_type": "display_data"
    }
   ],
   "source": [
    "from pyCompare._plotBlandAltman import blandAltman  \n",
    "\n",
    "Xs = [\"Total Sleep (hours)\", \"Light (%)\",\"Deep (%)\",\"REM (%)\", \"Sleep Efficiency\", 'Total Arousals']\n",
    "\n",
    "fig, ax = plt.subplots(3, 2, figsize=(8,8))\n",
    "i = 0\n",
    "for X in Xs:\n",
    "    blandAltman(df[f\"{X}_Pred\"],df[X],  \n",
    "                      title=X, ax=ax[int(i/2)][i%2])\n",
    "    i = i+1\n",
    "plt.tight_layout()\n",
    "plt.savefig('/home/kkotzen/fig-band-altman.pdf') \n",
    "\n"
   ]
  },
  {
   "cell_type": "code",
   "execution_count": null,
   "id": "f884021e",
   "metadata": {},
   "outputs": [],
   "source": [
    "Xs = [\"Total Sleep (hours)\", \"Light (%)\",\"Deep (%)\",\"REM (%)\", \"Sleep Efficiency\", 'Total Arousals']\n",
    "\n",
    "plt.close('all')\n",
    "for X in Xs:\n",
    "    df[f\"{X}_Error\"] =  df[f\"{X}_Pred\"] - df[X]\n",
    "\n",
    "err_cols = [c for c in df.columns if \"Error\" in c]\n",
    "err_ticks = [c.replace(\"_Error\", \"\") for c in err_cols]\n",
    "\n",
    "\n",
    "df_bp = df[err_cols].rename(columns={err_col:err_tick for err_col, err_tick in zip(err_cols, err_ticks)})\n",
    "fig, ax = plt.subplots(3, 2, figsize=(3,4))\n",
    "i = 0\n",
    "for err_col in df_bp.columns:\n",
    "    df_bp[err_col].plot.box(ax=ax[int(i/2)][i%2], showfliers=False)\n",
    "    ax[int(i/2)][i%2].get_xaxis().set_ticks([])\n",
    "    ax[int(i/2)][i%2].set_title(err_col, size=8)\n",
    "    i = i+1\n",
    "plt.tight_layout()\n",
    "plt.savefig('/home/kkotzen/fig-sleep-metrics-error-box.pdf')  "
   ]
  },
  {
   "cell_type": "code",
   "execution_count": null,
   "id": "ed2ff564",
   "metadata": {},
   "outputs": [],
   "source": []
  },
  {
   "cell_type": "code",
   "execution_count": null,
   "id": "45fef90c",
   "metadata": {},
   "outputs": [],
   "source": [
    "np.unique(df.Smoker.values, return_counts=True)"
   ]
  },
  {
   "cell_type": "markdown",
   "id": "87803114",
   "metadata": {},
   "source": [
    "# Sridhar et al images"
   ]
  },
  {
   "cell_type": "code",
   "execution_count": null,
   "id": "160a2131",
   "metadata": {},
   "outputs": [],
   "source": [
    "Gs={}\n",
    "Gs[\"Gender\"]={0:\"Male\", 1:\"Female\"}\n",
    "Gs[\"Age Group\"]={0:\"<55\", 1:\"55-60\",2:\"61-70\",3:\">70\"}\n",
    "Gs['Apnea Severity']={0:\"Healthy\", 1:\"Mild\", 2:\"Moderate\", 3:\"Severe\"} \n",
    "Gs[\"Hypertension\"]={0:\"Absence\", 1:\"Presence\"}\n",
    "Xs = [\"Light (%)\",\"Deep (%)\",\"REM (%)\",  \"Sleep Efficiency\"]\n",
    "\n",
    "counts = {}\n",
    "for G in Gs.keys():\n",
    "    count = df.groupby(G).count()[\"ID\"].values\n",
    "#     counts[G]=', '.join([f'{g} n={v}' for g,v in zip(Gs[G].values(), count)])\n",
    "    for i, c in enumerate(count):\n",
    "        Gs[G][list(Gs[G].keys())[i]]=f\"(n={c})\\n{list(Gs[G].values())[i]}\"\n",
    "        \n",
    "print(Gs)\n",
    "\n",
    "plt.close(\"all\")\n",
    "fig, ax = plt.subplots(len(Gs), len(Xs), figsize=(12,8))\n",
    "for i, G in enumerate(Gs.keys()):\n",
    "    for j, X in enumerate(Xs):\n",
    "        x = range(df.groupby(G).mean()[f\"{X}\"].shape[0])\n",
    "        if not \"Kappa\" in X:\n",
    "            ax[i][j].errorbar(x = x, y = df.groupby(G).mean()[f\"{X}\"], yerr=df.groupby(G).std()[f\"{X}\"], marker=\"*\", color=\"b\")\n",
    "        ax[i][j].errorbar(x = x, y= df.groupby(G).mean()[f\"{X}_Pred\"],yerr=df.groupby(G).std()[f\"{X}_Pred\"], marker=\"o\", color=\"r\")\n",
    "        ax[i][j].set_title(f'{X} vs {G}', size=8)\n",
    "        ax[i][j].set_ylabel(f'{X}', size=8)\n",
    "        ax[i][j].set_xlabel(f'{G}', size=8)\n",
    "        ax[i][j].set_xticks(range(len(Gs[G])))\n",
    "        ax[i][j].set_xticklabels(Gs[G].values(), size=8)\n",
    "        ax[i][j].set_xlim([range(len(Gs[G]))[0]-0.5, range(len(Gs[G]))[-1]+0.5])\n",
    "        \n",
    "plt.tight_layout()\n",
    "\n",
    "plt.savefig('/home/kkotzen/fig-clinical-correlations.pdf')  "
   ]
  },
  {
   "cell_type": "code",
   "execution_count": null,
   "id": "b61363d4",
   "metadata": {},
   "outputs": [],
   "source": [
    "Gs = {}\n",
    "Gs[\"Race\"] = {1: \"White\", 2: \"Chinese\", 3: \"Black\", 4: \"Hispanic\"}\n",
    "Gs[\"Smoker\"] = {0: \"No\", 1: \"Yes\"}\n",
    "Gs[\"Beta Blockers\"]= {0: \"No\", 1: \"Yes\"}\n",
    "Gs[\"Diabetes\"]= {0:\"Absence\", 1:\"Presence\"}\n",
    "Gs[\"Insomnia\"]= {0:\"Absence\", 1:\"Presence\"}\n",
    "# Gs[\"Apnea\"]= {0:\"Absence\", 1:\"Presence\"}\n",
    "\n",
    "Xs = [\"Light%\",\"Deep%\",\"REM%\",  \"Sleep Efficiency\"]\n",
    "\n",
    "counts = {}\n",
    "for G in Gs.keys():\n",
    "    count = df.groupby(G).count()[\"ID\"].values\n",
    "#     counts[G]=', '.join([f'{g} n={v}' for g,v in zip(Gs[G].values(), count)])\n",
    "    for i, c in enumerate(count):\n",
    "        Gs[G][list(Gs[G].keys())[i]]=f\"(n={c})\\n{list(Gs[G].values())[i]}\"\n",
    "        \n",
    "plt.close(\"all\")\n",
    "fig, ax = plt.subplots(len(Gs), len(Xs), figsize=(12,12))\n",
    "for i, G in enumerate(Gs.keys()):\n",
    "    for j, X in enumerate(Xs):\n",
    "        x = range(df.groupby(G).mean()[f\"{X}\"].shape[0])\n",
    "        if not \"Kappa\" in X:\n",
    "            ax[i][j].errorbar(x = x, y = df.groupby(G).mean()[f\"{X}\"], yerr=df.groupby(G).std()[f\"{X}\"], marker=\"*\", color=\"b\")\n",
    "        ax[i][j].errorbar(x = x, y= df.groupby(G).mean()[f\"{X}_Pred\"],yerr=df.groupby(G).std()[f\"{X}_Pred\"], marker=\"o\", color=\"r\")\n",
    "        ax[i][j].set_title(f'{X} vs {G}', size=8)\n",
    "        ax[i][j].set_ylabel(f'{X}', size=8)\n",
    "        ax[i][j].set_xlabel(f'{G}', size=8)\n",
    "        ax[i][j].set_xticks(range(len(Gs[G])))\n",
    "        ax[i][j].set_xticklabels(Gs[G].values(), size=8)\n",
    "        ax[i][j].set_xlim([range(len(Gs[G]))[0]-0.5, range(len(Gs[G]))[-1]+0.5])\n",
    "        \n",
    "plt.tight_layout()\n"
   ]
  },
  {
   "cell_type": "code",
   "execution_count": null,
   "id": "182baf2b",
   "metadata": {},
   "outputs": [],
   "source": [
    "Gs = {}\n",
    "Gs[\"Gender\"]={0:\"Male\", 1:\"Female\"}\n",
    "Gs[\"Age Group\"]={0:\"<55\", 1:\"55-60\",2:\"61-70\",3:\">70\"}\n",
    "Gs[\"Race\"] = {1: \"White\", 2: \"Chinese\", 3: \"Black\", 4: \"Hispanic\"}\n",
    "Gs[\"Smoker\"] = {0: \"No\", 1: \"Yes\"}\n",
    "Gs['Apnea Severity']={0:\"Healthy\", 1:\"Mild\", 2:\"Moderate\", 3:\"Severe\"} \n",
    "Gs[\"Hypertension\"]={0:\"Absence\", 1:\"Presence\"}\n",
    "Gs[\"Beta Blockers\"]= {0: \"No\", 1: \"Yes\"}\n",
    "Gs[\"Diabetes\"]= {0:\"Absence\", 1:\"Presence\"}\n",
    "Gs[\"Insomnia\"]= {0:\"Absence\", 1:\"Presence\"}\n",
    "Gs[\"Apnea\"]= {0:\"Absence\", 1:\"Presence\"}\n",
    "\n",
    "X= \"Kappa\"\n",
    "\n",
    "counts = {}\n",
    "for G in Gs.keys():\n",
    "    count = df.groupby(G).count()[\"ID\"].values\n",
    "    for i, c in enumerate(count):\n",
    "        Gs[G][list(Gs[G].keys())[i]]=f\"(n={c})\\n{list(Gs[G].values())[i]}\"\n",
    "        \n",
    "print(Gs)\n",
    "\n",
    "plt.close(\"all\")\n",
    "fig, ax = plt.subplots(3,4, figsize=(12,8))\n",
    "j = 0\n",
    "for i, G in enumerate(Gs.keys()):\n",
    "    if i == 4 or i ==8: \n",
    "        j = j + 1\n",
    "    i = i - j*4\n",
    "    x = range(df.groupby(G).mean()[f\"{X}\"].shape[0])\n",
    "    ax[j][i].errorbar(x = x, y= df.groupby(G).mean()[f\"{X}_Pred\"],yerr=df.groupby(G).std()[f\"{X}_Pred\"], marker=\"o\", color=\"r\")\n",
    "    ax[j][i].set_title(f'{X} vs {G}', size=10)\n",
    "    ax[j][i].set_ylabel(f'{X}', size=10)\n",
    "    ax[j][i].set_xlabel(f'{G}', size=10)\n",
    "    ax[j][i].set_xticks(range(len(Gs[G])))\n",
    "    ax[j][i].set_xticklabels(Gs[G].values(), size=10)\n",
    "    ax[j][i].set_xlim([range(len(Gs[G]))[0]-0.5, range(len(Gs[G]))[-1]+0.5])\n",
    "\n",
    "ax[2][2].axis('off')\n",
    "ax[2][3].axis('off')\n",
    "\n",
    "plt.tight_layout()\n"
   ]
  },
  {
   "cell_type": "code",
   "execution_count": null,
   "id": "3874ae60",
   "metadata": {},
   "outputs": [],
   "source": []
  },
  {
   "cell_type": "code",
   "execution_count": null,
   "id": "1a77e522",
   "metadata": {},
   "outputs": [],
   "source": [
    "dl = MESAParser()\n",
    "metadata = dl.metadata\n",
    "patients = dl.database_all_patient_IDs\n",
    "sleep = {patient:dl.load_sleep(patient) for patient in patients}\n"
   ]
  },
  {
   "cell_type": "code",
   "execution_count": null,
   "id": "3af28656",
   "metadata": {},
   "outputs": [],
   "source": [
    "df_count = pd.DataFrame()\n",
    "for patient in tqdm.tqdm(patients): \n",
    "    unique, counts = np.unique(sleep[patient], return_counts=True)\n",
    "    z = {f\"{u}\":c for u,c in zip(unique, counts)}\n",
    "    df_count = df_count.append({\"ID\": patient, **z}, ignore_index=True)"
   ]
  },
  {
   "cell_type": "code",
   "execution_count": null,
   "id": "96f5f2a4",
   "metadata": {},
   "outputs": [],
   "source": [
    "df_count.sort_values(by=['9.0'], ascending=False)"
   ]
  },
  {
   "cell_type": "code",
   "execution_count": null,
   "id": "638c210b",
   "metadata": {},
   "outputs": [],
   "source": [
    "%load_ext autoreload\n",
    "%autoreload 2\n",
    "%matplotlib widget\n",
    "import matplotlib.pyplot as plt\n",
    "import numpy as np\n",
    "import scipy\n",
    "from scipy import signal, interpolate\n",
    "import copy\n",
    "import os \n",
    "import pandas as pd\n",
    "from tqdm import tqdm\n",
    "from sklearn.metrics import cohen_kappa_score\n",
    "\n",
    "os.chdir('/home/kkotzen/research/PPG_Sleep_staging_Orion2_windows/')\n",
    "from pathlib import Path\n",
    "from src.parsing.MESAParser import MESAParser\n",
    "from src.parsing.CFSParser import CFSParser\n",
    "from src.parsing.UHVParser import *\n"
   ]
  },
  {
   "cell_type": "code",
   "execution_count": null,
   "id": "72a3a5e3",
   "metadata": {},
   "outputs": [],
   "source": [
    "sleep_stages = {0:\"Wake\", 1:\"Light\", 2:\"Light\", 3:\"Deep\", 4:\"REM\"}\n",
    "dl = MESAParser()\n",
    "metadata = dl.metadata\n",
    "patients = dl.database_all_patient_IDs\n",
    "df_mesa = pd.DataFrame()\n",
    "for patient in tqdm.tqdm(patients):\n",
    "    sleep = dl.load_sleep(patient)\n",
    "    sleep[sleep>4] = 0\n",
    "    sleep = np.array([sleep_stages[s] for s in sleep])\n",
    "    stage, count = np.unique(sleep, return_counts=True)\n",
    "    \n",
    "    age = metadata[metadata.id==patient].age.values[0]\n",
    "    ahi = metadata[metadata.id==patient].ahi.values[0]\n",
    "\n",
    "    df_mesa = df_mesa.append({\"Age\":age ,\"AHI\":ahi,**{s:int(c*100) for s,c in zip(stage,count/sum(count))}}, ignore_index=True)\n",
    "    \n",
    "display(df_mesa[[\"Age\", \"AHI\", \"Wake\", \"Light\", \"Deep\", \"REM\"]].describe().astype(int))\n",
    "display(df_mesa[['Wake', 'Light', 'Deep', 'REM']].sum()/(df_mesa[['Wake', 'Light', 'Deep', 'REM']].sum().sum()))"
   ]
  },
  {
   "cell_type": "code",
   "execution_count": null,
   "id": "a898c584",
   "metadata": {},
   "outputs": [],
   "source": [
    "sleep_stages = {0:\"Wake\", 1:\"Light\", 2:\"Light\", 3:\"Deep\", 4:\"REM\"}\n",
    "dl = CFSParser()\n",
    "metadata = dl.metadata\n",
    "patients = dl.database_all_patient_IDs\n",
    "df_cfs = pd.DataFrame()\n",
    "for patient in tqdm.tqdm(patients):\n",
    "    sleep = dl.load_sleep(patient)\n",
    "    sleep[sleep>4] = 0\n",
    "    sleep = np.array([sleep_stages[s] for s in sleep])\n",
    "    stage, count = np.unique(sleep, return_counts=True)\n",
    "    \n",
    "    age = metadata[metadata.id==patient].age.values[0]\n",
    "    ahi = metadata[metadata.id==patient].ahi.values[0]\n",
    "\n",
    "    df_cfs = df_cfs.append({\"Age\":age ,\"AHI\":ahi,**{s:int(c*100) for s,c in zip(stage,count/sum(count))}}, ignore_index=True)\n",
    "    \n",
    "df_cfs[[\"Age\", \"AHI\", \"Wake\", \"Light\", \"Deep\", \"REM\"]].describe().astype(int)\n",
    "display(df_cfs[['Wake', 'Light', 'Deep', 'REM']].sum()/(df_cfs[['Wake', 'Light', 'Deep', 'REM']].sum().sum()))"
   ]
  },
  {
   "cell_type": "code",
   "execution_count": null,
   "id": "d4a4e39e",
   "metadata": {},
   "outputs": [],
   "source": [
    "sleep_stages = {0:\"Wake\", 1:\"Light\", 2:\"Light\", 3:\"Deep\", 4:\"REM\"}\n",
    "dl = UHVParser()\n",
    "metadata = dl.metadata\n",
    "patients = dl.database_all_patient_IDs\n",
    "df_uhv = pd.DataFrame()\n",
    "for patient in tqdm(patients):\n",
    "    sleep = dl.load_sleep(patient)\n",
    "    L = len(sleep)\n",
    "    sleep = sleep[0:min(1200, L)]\n",
    "    sleep[sleep>4] = 0\n",
    "    sleep = np.array([sleep_stages[s] for s in sleep])\n",
    "    stage, count = np.unique(sleep, return_counts=True)\n",
    "    patient = patient.zfill(4)\n",
    "    age = metadata[metadata.id==patient].age.values[0]\n",
    "    ahi = metadata[metadata.id==patient].ahi.values[0]\n",
    "\n",
    "    df_ss = df_uhv.append({\"Age\":age ,\"AHI\":ahi,**{s:int(c*100) for s,c in zip(stage,count/sum(count))}}, ignore_index=True)\n",
    "    \n",
    "df_uhv[[\"Age\", \"AHI\", \"Wake\", \"Light\", \"Deep\", \"REM\"]].describe().astype(int)"
   ]
  },
  {
   "cell_type": "code",
   "execution_count": null,
   "id": "d832679e",
   "metadata": {},
   "outputs": [],
   "source": [
    "sleep_stages = {0:\"Wake\", 1:\"Light\", 2:\"Light\", 3:\"Deep\", 4:\"REM\"}\n",
    "dl = SHHSParser()\n",
    "metadata = dl.metadata\n",
    "patients = dl.database_all_patient_IDs\n",
    "df_shhs = pd.DataFrame()\n",
    "for patient in tqdm.tqdm(patients):\n",
    "    sleep = dl.load_sleep(patient)\n",
    "    sleep[sleep>4] = 0\n",
    "    L = len(sleep)\n",
    "    sleep = sleep[0:min(1200, L)]\n",
    "    sleep = np.array([sleep_stages[s] for s in sleep])\n",
    "    stage, count = np.unique(sleep, return_counts=True)\n",
    "    patient = patient.zfill(4)\n",
    "    age = metadata[metadata.id==patient].age.values[0]\n",
    "    ahi = metadata[metadata.id==patient].ahi.values[0]\n",
    "\n",
    "    df_shhs = df_shhs.append({\"Age\":age ,\"AHI\":ahi,**{s:int(c*100) for s,c in zip(stage,count/sum(count))}}, ignore_index=True)\n",
    "    "
   ]
  },
  {
   "cell_type": "code",
   "execution_count": null,
   "id": "3c5a5c93",
   "metadata": {},
   "outputs": [],
   "source": [
    "df_shhs[['Wake', 'Light', 'Deep', 'REM']].sum()/df_shhs[['Wake', 'Light', 'Deep', 'REM']].sum().sum()"
   ]
  },
  {
   "cell_type": "code",
   "execution_count": null,
   "id": "1a1622d0",
   "metadata": {},
   "outputs": [],
   "source": [
    "df_shhs[[\"Age\", \"AHI\", \"Wake\", \"Light\", \"Deep\", \"REM\"]].describe().astype(int)"
   ]
  },
  {
   "cell_type": "code",
   "execution_count": null,
   "id": "ef83753f",
   "metadata": {},
   "outputs": [],
   "source": []
  },
  {
   "cell_type": "code",
   "execution_count": null,
   "id": "73891746",
   "metadata": {},
   "outputs": [],
   "source": [
    "df_mean = pd.DataFrame()\n",
    "df_mean = df_mean.append(df_mesa.describe().loc['mean'], ignore_index=True)\n",
    "df_mean = df_mean.append(df_cfs.describe().loc['mean'], ignore_index=True)\n",
    "df_mean = df_mean.append(df_uhv.describe().loc['mean'], ignore_index=True)\n",
    "df_mean['Database'] = [\"MESA\", \"CFS\", \"UHV\"]"
   ]
  },
  {
   "cell_type": "code",
   "execution_count": null,
   "id": "2092036f",
   "metadata": {},
   "outputs": [],
   "source": [
    "df_mean.set_index(\"Database\").T.astype(int)"
   ]
  },
  {
   "cell_type": "code",
   "execution_count": null,
   "id": "b06e0eb0",
   "metadata": {},
   "outputs": [],
   "source": [
    "signal = [ 0.02733224  0.04415357  0.01877674  0.01252067  0.00427673  0.00063101, -0.00340614 -0.01462032 -0.0420445  -0.05445285 -0.05848426 -0.05293171, -0.0470555  -0.04154022 -0.03886274 -0.02706452 -0.02130373 -0.01734306, -0.01543858 -0.01642765 -0.01365838 -0.01440898 -0.01305822 -0.0126274, -0.01800367 -0.00933407  0.02925392  0.04327351  0.03564565  0.02902274,  0.023693    0.01491019  0.01186096  0.01508265  0.02785736  0.04554284,  0.02130335  0.01325256  0.00495215  0.00143763 -0.00316563 -0.01156667, -0.03916301 -0.0531692  -0.05868149 -0.0537958  -0.04805329 -0.04167048, -0.03986189 -0.02861848 -0.02175688 -0.01776918 -0.01550705 -0.0164148, -0.01409336 -0.01402298 -0.01365238 -0.01207183 -0.01750164 -0.01248499,  0.02401167  0.04404541  0.0361365   0.03028069  0.02399787  0.01684959,  0.01076118  0.01536139  0.02410212  0.04636229  0.02412428  0.01386852,  0.00604072  0.00193484 -0.00288783 -0.00901356 -0.0356952  -0.05207615, -0.05855218 -0.05463582 -0.04894619 -0.04216251 -0.0...\n",
    "          "
   ]
  },
  {
   "cell_type": "markdown",
   "id": "d51bcf3c",
   "metadata": {},
   "source": [
    "# Hypnograms for paper"
   ]
  },
  {
   "cell_type": "code",
   "execution_count": null,
   "id": "496b6001",
   "metadata": {},
   "outputs": [],
   "source": [
    "def duplicate(x):\n",
    "    return np.array([[x_] * 2 for x_ in x]).flatten()\n",
    "\n",
    "\n",
    "def hold_line(t, x):\n",
    "    t = [i for i in t]\n",
    "    x = [i for i in x]\n",
    "\n",
    "    if len(t) - len(x) == 0:\n",
    "        t.append(t[-1] + t[-1] - t[-2])\n",
    "    if len(t) - len(x) != 1:\n",
    "        raise ValueError()\n",
    "\n",
    "    t_ = duplicate(t)[1:-1]\n",
    "    x_ = duplicate(x)\n",
    "    return t_, x_\n",
    "\n",
    "def label_hypnogram(ax, ticks):\n",
    "    ax.set_xlabel('Time (Hours)')\n",
    "    ax.set_yticks(list(ticks.keys()))\n",
    "    ax.set_yticklabels(list(ticks.values()))\n",
    "#     ax.spines['right'].set_visible(False)\n",
    "#     ax.spines['top'].set_visible(False)\n",
    "    \n",
    "def plot_hypnogram(label, prediction, patient, ticks):\n",
    "    f, ax = plt.subplots(2, 1, figsize=(8, 5))\n",
    "    \n",
    "    ax[0].set_title(f\"Expert Scored Hypnogram for patient {patient}.\")\n",
    "    t_, label_ = hold_line(np.arange(label.shape[0]), label)\n",
    "    t_ = t_/120\n",
    "    ax[0].plot(t_, label_, color='black', label='Labels')\n",
    "    ax[0].legend(loc='upper left', bbox_to_anchor=(0, 1.1),\n",
    "          ncol=1, fancybox=True, shadow=True)\n",
    "    label_hypnogram(ax[0], ticks)\n",
    "    \n",
    "    ax[1].set_title(f\"Model Scored Hypnogram for patient {patient}.\")\n",
    "    t_, preds_ = hold_line(np.arange(prediction.shape[0]), prediction)\n",
    "    t_ = t_/120\n",
    "    ax[1].plot(t_, preds_, color='black', label='Prediction')\n",
    "    mistakes_x = [i for i in range(len(prediction)) if (prediction[i] != label[i])]\n",
    "    mistakes_pred = label[mistakes_x]\n",
    "    ax[1].plot(np.array(mistakes_x)/120, mistakes_pred, '.', color='red', alpha=0.6, label='Correction')\n",
    "    ax[1].legend(loc='upper left', bbox_to_anchor=(0, 1.2),\n",
    "          ncol=1, fancybox=True, shadow=True)\n",
    "    label_hypnogram(ax[1], ticks)\n",
    "\n",
    "    plt.tight_layout()\n"
   ]
  },
  {
   "cell_type": "code",
   "execution_count": null,
   "id": "1731277d",
   "metadata": {},
   "outputs": [],
   "source": [
    "probs_file = \"/home/kkotzen/tmp/results/f9ec5834998d490aae460ef8ffbe20a8.pkl\"\n",
    "predictions = pickle.load(open(probs_file, \"rb\"))\n",
    "sleep_predictions = {patient:predictions[\"predictions\"][i] for i,patient in enumerate(predictions['patients'])}\n",
    "sleep_labels = {patient:predictions[\"labels\"][i] for i,patient in enumerate(predictions['patients'])}\n",
    "sleep_encoding =  {0: 0, 1: 1, 2: 1, 3: 2, 4: 3, 9:0}\n",
    "sleep_decoding = {0: 'Wake', 1: 'Light', 2:'Deep', 3:'REM'}\n",
    "\n",
    "for patient in tqdm.tqdm(sleep_labels.keys()):\n",
    "    plt.close('all')\n",
    "    kappa = cohen_kappa_score(sleep_labels[patient], sleep_predictions[patient])\n",
    "    accuracy = np.sum([1 for i,j in zip(sleep_labels[patient], sleep_predictions[patient]) if i==j])/len(sleep_labels[patient])\n",
    "    accuracy = int(accuracy*100)\n",
    "    plot_hypnogram(sleep_labels[patient], sleep_predictions[patient], patient, sleep_decoding)\n",
    "    plt.savefig(f'/home/kkotzen/images/sleep_paper/hypnograms/fig-hypnogram--{kappa}-{accuracy}-{patient}.pdf') "
   ]
  },
  {
   "cell_type": "markdown",
   "id": "ed60e04e",
   "metadata": {},
   "source": [
    "# Print a pretty hypnogram"
   ]
  },
  {
   "cell_type": "code",
   "execution_count": null,
   "id": "9ea5db49",
   "metadata": {},
   "outputs": [],
   "source": [
    "dl = UHVParser()\n",
    "patients = dl.database_all_patient_IDs"
   ]
  },
  {
   "cell_type": "code",
   "execution_count": null,
   "id": "38aa1ac0",
   "metadata": {},
   "outputs": [],
   "source": [
    "def pretty_hypno(patient):\n",
    "    sleep = dl.load_sleep(patient)\n",
    "    sleep[sleep>4] = 0\n",
    "    t = np.arange(0, len(sleep)*30, 30)/3600\n",
    "#     plt.close('all')\n",
    "    fig, ax = plt.subplots(1,1,figsize=(8,4))\n",
    "    ax.plot(t, sleep)\n",
    "    ax.set_xticklabels(ax.get_xticks().astype(int), size=12)\n",
    "    ax.set_yticks([0,1,2,3,4])\n",
    "    ax.set_yticklabels(['Wake', \"N1\", \"N2\", \"N3\", \"REM\"],size=12)\n",
    "    ax.set_xlabel(\"Time Sleeping (Hours)\", size=12)\n",
    "    ax.set_ylabel(\"Sleep Stage (AASM)\", size=12)\n",
    "    ax.spines['right'].set_visible(False)\n",
    "    ax.spines['top'].set_visible(False)\n",
    "    plt.tight_layout()\n",
    "    plt.show()"
   ]
  },
  {
   "cell_type": "code",
   "execution_count": null,
   "id": "bd63a2d5",
   "metadata": {},
   "outputs": [],
   "source": []
  }
 ],
 "metadata": {
  "kernelspec": {
   "display_name": "Python 3 (ipykernel)",
   "language": "python",
   "name": "python3"
  },
  "language_info": {
   "codemirror_mode": {
    "name": "ipython",
    "version": 3
   },
   "file_extension": ".py",
   "mimetype": "text/x-python",
   "name": "python",
   "nbconvert_exporter": "python",
   "pygments_lexer": "ipython3",
   "version": "3.9.5"
  }
 },
 "nbformat": 4,
 "nbformat_minor": 5
}
