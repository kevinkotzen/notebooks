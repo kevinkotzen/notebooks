{
 "cells": [
  {
   "cell_type": "code",
   "execution_count": 15,
   "id": "2efb2fda",
   "metadata": {},
   "outputs": [
    {
     "name": "stdout",
     "output_type": "stream",
     "text": [
      "The autoreload extension is already loaded. To reload it, use:\n",
      "  %reload_ext autoreload\n"
     ]
    }
   ],
   "source": [
    "%load_ext autoreload\n",
    "%autoreload 2\n",
    "%matplotlib widget\n",
    "import matplotlib.pyplot as plt\n",
    "import numpy as np\n",
    "import scipy\n",
    "from scipy import signal, interpolate\n",
    "import copy\n",
    "import os \n",
    "import pandas as pd\n",
    "from tqdm import tqdm\n",
    "\n",
    "from pyCompare._plotBlandAltman import blandAltman  \n",
    "from sklearn.metrics import cohen_kappa_score\n",
    "from bishop_peaks_onsets import *\n",
    "os.chdir('/home/kkotzen/research/PPG_sleepstaging_orion3/')\n",
    "from pathlib import Path\n",
    "from src.parsing.MESAParser import MESAParser\n",
    "from src.parsing.CFSParser import CFSParser\n",
    "from src.parsing.UHVParser import UHVParser\n",
    "from src.parsing.SHHSParser import SHHSParser\n",
    "\n",
    "\n",
    "from src.datasets.mesa_dataset import MESA_Dataset\n",
    "import pickle"
   ]
  },
  {
   "cell_type": "markdown",
   "id": "1021326c",
   "metadata": {},
   "source": [
    "# Database Metrics"
   ]
  },
  {
   "cell_type": "code",
   "execution_count": null,
   "id": "62723274",
   "metadata": {},
   "outputs": [],
   "source": [
    "sleep_stages = {0:\"Wake\", 1:\"Light\", 2:\"Light\", 3:\"Deep\", 4:\"REM\"}\n",
    "def database_metrics(dl):\n",
    "    metadata = dl.metadata\n",
    "    patients = dl.database_all_patient_IDs\n",
    "    df_mesa = pd.DataFrame()\n",
    "    length = 0\n",
    "    for patient in tqdm.tqdm(patients):\n",
    "        sleep = dl.load_sleep(patient)\n",
    "        L = min(1200,len(sleep))\n",
    "        sleep = sleep[0:L]\n",
    "        length = length+len(sleep)/120\n",
    "        sleep[sleep>4] = 0\n",
    "        sleep = np.array([sleep_stages[s] for s in sleep])\n",
    "        stage, count = np.unique(sleep, return_counts=True)\n",
    "\n",
    "        age = metadata[metadata.id==patient].age.values[0]\n",
    "        ahi = metadata[metadata.id==patient].ahi.values[0]\n",
    "\n",
    "        df_mesa = df_mesa.append({\"Length\":len(sleep)/120, \"Age\":age ,\"AHI\":ahi,**{s:int(c*100) for s,c in zip(stage,count/sum(count))}}, ignore_index=True)\n",
    "    \n",
    "    print(f\"Patient Count: {len(patients)}\")\n",
    "    print(f\"Total Duration: {length}\")\n",
    "    print(f\"Average Duration: {length/len(patients)}\")\n",
    "    df_mesa[['Light Frac', 'Deep Frac', 'REM Frac']] =df_mesa[['Light', 'Deep', 'REM']].sum()/(df_mesa[['Light', 'Deep', 'REM']].sum().sum())\n",
    "    display(df_mesa[[\"Length\", \"Age\", \"AHI\", \"Wake\", \"Light Frac\", \"Deep Frac\", \"REM Frac\"]].describe().astype(int))\n",
    "    \n",
    "    describe =  df_mesa[[\"Length\", \"Age\", \"AHI\", \"Wake\", \"Light Frac\", \"Deep Frac\", \"REM Frac\"]].describe()\n",
    "    describe = describe.T\n",
    "    describe['IQR'] = describe[\"75%\"] - describe[\"25%\"]\n",
    "    return describe.T\n",
    "\n",
    "    \n",
    "print(\"-----------------SHHS-------------------\")\n",
    "shhs = database_metrics(SHHSParser())\n",
    "print(\"-----------------MESA-------------------\")\n",
    "mesa = database_metrics(MESAParser())\n",
    "print(\"-----------------CFS-------------------\")\n",
    "cfs = database_metrics(CFSParser())"
   ]
  },
  {
   "cell_type": "code",
   "execution_count": null,
   "id": "4b6eaaaa",
   "metadata": {},
   "outputs": [],
   "source": [
    "shhs_ = shhs.T\n",
    "mesa_ = mesa.T\n",
    "cfs_ = cfs.T\n",
    "\n",
    "for i in shhs_.index:\n",
    "    print(f\"{i} & \\\n",
    "          {shhs_['50%'][i]} [{shhs_['25%'][i]}-{shhs_['75%'][i]}] & \\\n",
    "          {mesa_['50%'][i]} [{mesa_['25%'][i]}-{mesa_['75%'][i]}] & \\\n",
    "          {cfs_['50%'][i]} [{cfs_['25%'][i]}-{cfs_['75%'][i]}]\\\\\\\\\")\n"
   ]
  },
  {
   "cell_type": "markdown",
   "id": "2490ccf3",
   "metadata": {},
   "source": [
    "# Plot FE, DTS, WAV waveforms"
   ]
  },
  {
   "cell_type": "code",
   "execution_count": null,
   "id": "dd82004c",
   "metadata": {},
   "outputs": [],
   "source": [
    "wav_path = f\"/home/kkotzen/tmp/PPG_WAV_CFS.pkl\"\n",
    "dts_path = f\"/home/kkotzen/tmp/IPR_CFS.pkl\"\n",
    "fe_path = f\"/home/kkotzen/tmp/PRV_CFS.pkl\"\n",
    "\n",
    "wav = pickle.load(open(wav_path, \"rb\"))\n",
    "dts = pickle.load(open(dts_path, \"rb\"))\n",
    "fe = pickle.load(open(fe_path, \"rb\"))"
   ]
  },
  {
   "cell_type": "code",
   "execution_count": null,
   "id": "b125329a",
   "metadata": {},
   "outputs": [],
   "source": [
    "plt.close('all')\n",
    "fig, ax = plt.subplots(1,1, figsize=(10,3))\n",
    "w = wav['800032'].signal[128]\n",
    "ax.plot(np.arange(0, len(w)/34, 1/34), w, linewidth=0.5)\n",
    "ax.spines['right'].set_visible(False)\n",
    "ax.spines['top'].set_visible(False)\n",
    "ax.set_xlabel(\"Time (seconds)\", size=18)\n",
    "ax.set_ylabel(\"PPG (N/A)\", size=18)\n",
    "plt.xticks(fontsize=16)\n",
    "plt.yticks(fontsize=16)\n",
    "plt.tight_layout()\n",
    "plt.savefig('/home/kkotzen/images/sleep_paper/ppg-waveform.pdf')  "
   ]
  },
  {
   "cell_type": "code",
   "execution_count": null,
   "id": "031874bc",
   "metadata": {},
   "outputs": [],
   "source": [
    "plt.close('all')\n",
    "fig, ax = plt.subplots(1,1, figsize=(10,3))\n",
    "w = dts['800032'].signal[128]\n",
    "ax.plot(np.arange(0, len(w)/(64/30), 1/(64/30)), w, linewidth=0.5)\n",
    "ax.spines['right'].set_visible(False)\n",
    "ax.spines['top'].set_visible(False)\n",
    "ax.set_xlabel(\"Time (seconds)\", size=18)\n",
    "ax.set_ylabel(\"IPR (N/A)\", size=18)\n",
    "plt.xticks(fontsize=16)\n",
    "plt.yticks(fontsize=16)\n",
    "plt.tight_layout()\n",
    "plt.savefig('/home/kkotzen/images/sleep_paper/ppg-dts.pdf')  "
   ]
  },
  {
   "cell_type": "code",
   "execution_count": null,
   "id": "c1bd04e2",
   "metadata": {},
   "outputs": [],
   "source": [
    "plt.close('all')\n",
    "# fig, ax = plt.subplots(1,1, figsize=(10,3))\n",
    "w = fe['800032'].drop(columns=['sleep', 'patient']).iloc[128]\n",
    "cols = fe['800032'].drop(columns=['sleep', 'patient', 'epoch']).columns\n",
    "for i, col in enumerate(cols):\n",
    "    print(cols[i], ',', w[i])\n",
    "# ax.plot(np.arange(0, len(w)/(64/30), 1/(64/30)), w)\n",
    "# ax.spines['right'].set_visible(False)\n",
    "# ax.spines['top'].set_visible(False)\n",
    "# ax.set_xlabel(\"Time (seconds)\", size=12)\n",
    "# ax.set_ylabel(\"Standardized IPR\", size=12)\n",
    "# plt.tight_layout()\n",
    "# plt.savefig('/home/kkotzen/images/sleep_paper/ppg-dts.pdf')  "
   ]
  },
  {
   "cell_type": "code",
   "execution_count": 2,
   "id": "3b0d1fdd",
   "metadata": {},
   "outputs": [],
   "source": [
    "dl = MESAParser()\n",
    "metadata = dl.metadata\n",
    "# patients = dl.database_all_patient_IDs\n",
    "# sleep = {patient:dl.load_sleep(patient) for patient in patients}"
   ]
  },
  {
   "cell_type": "code",
   "execution_count": 3,
   "id": "cb8e2c51",
   "metadata": {},
   "outputs": [
    {
     "data": {
      "text/plain": [
       "[]"
      ]
     },
     "execution_count": 3,
     "metadata": {},
     "output_type": "execute_result"
    }
   ],
   "source": [
    "[r for r in metadata.columns if 'smok' in r]"
   ]
  },
  {
   "cell_type": "code",
   "execution_count": 4,
   "id": "dd790664",
   "metadata": {},
   "outputs": [],
   "source": [
    "probs_file = \"/home/kkotzen/tmp/results/66c27d8a81ee4a1e87ee3a4f8b0a14b8.pkl\"\n",
    "predictions = pickle.load(open(probs_file, \"rb\"))\n",
    "sleep_predictions = {patient:predictions[\"predictions\"][i] for i,patient in enumerate(predictions['patients'])}\n",
    "sleep_labels = {patient:predictions[\"labels\"][i] for i,patient in enumerate(predictions['patients'])}\n",
    "sleep_encoding =  {0: 0, 1: 1, 2: 1, 3: 2, 4: 3, 9:0}"
   ]
  },
  {
   "cell_type": "code",
   "execution_count": null,
   "id": "a475a547",
   "metadata": {},
   "outputs": [],
   "source": []
  },
  {
   "cell_type": "code",
   "execution_count": 5,
   "id": "288fa48f",
   "metadata": {},
   "outputs": [
    {
     "name": "stderr",
     "output_type": "stream",
     "text": [
      "100%|█████████████████████████████████████████████████████████████████| 204/204 [00:03<00:00, 56.62it/s]\n"
     ]
    }
   ],
   "source": [
    "df = pd.DataFrame()\n",
    "for patient in tqdm.tqdm(sleep_predictions.keys()):\n",
    "\n",
    "    ss = sleep_labels[patient]\n",
    "    ss_pred = sleep_predictions[patient]\n",
    "    kappa = cohen_kappa_score(ss, ss_pred)\n",
    "    \n",
    "    arousals = np.sum([1 for i in range(len(ss)-1) if ss[i+1]<ss[i]])\n",
    "    arousals_pred = np.sum([1 for i in range(len(ss_pred)-1) if ss_pred[i+1]<ss_pred[i]])\n",
    "    \n",
    "#     waso = np.sum(ss[np.where(ss > 0)[0]:np.where(ss > 0)[-1]] > 0\n",
    "#     waso_pred = \n",
    "    \n",
    "    sex = metadata[metadata.id==patient].sex.values[0]\n",
    "    age = metadata[metadata.id==patient].age.values[0]\n",
    "\n",
    "    beta = max(metadata[metadata.id==patient].beta5c.values[0],metadata[metadata.id==patient].betad5c.values[0]) \n",
    "    anti_arr = metadata[metadata.id==patient].anara5c.values[0]\n",
    "\n",
    "    ahi = metadata[metadata.id==patient].ahi.values[0]\n",
    "    hypertension = metadata[metadata.id==patient].htn5c.values[0]\n",
    "    diabetic_cat = metadata[metadata.id==patient].dm035c.values[0]\n",
    "    bmi_cat =  metadata[metadata.id==patient].bmicat5c.values[0]\n",
    "    insomnia = metadata[metadata.id==patient].insmnia5.values[0]\n",
    "    apnea = metadata[metadata.id==patient].slpapnea5.values[0]\n",
    "    race = metadata[metadata.id==patient].race1c_x.values[0]\n",
    "    smoker = metadata[metadata.id==patient].smkstat5.values[0]\n",
    "    \n",
    "    df = df.append({'ID':patient, 'Kappa': kappa,'Gender':sex,\"Age\":age, 'Race':race, \"Smoker\": smoker,\n",
    "                    \"Beta Blockers\":beta, \"Anti Arrythmia\": anti_arr,\n",
    "                    'AHI':ahi, \"Hypertension\":hypertension, \n",
    "                    \"Diabetes Category\": diabetic_cat, \"BMI Category\": bmi_cat,\n",
    "                    \"Insomnia\": insomnia, 'Apnea':apnea,\n",
    "                    \"Wake\": len(ss[ss==0]),\"Light\": len(ss[ss==1]),\"Deep\":len(ss[ss==2]),\"REM\": len(ss[ss==3]), \n",
    "                    \"Wake_Pred\": len(ss_pred[ss_pred==0]),\"Light_Pred\": len(ss_pred[ss_pred==1]),\"Deep_Pred\":len(ss_pred[ss_pred==2]),\"REM_Pred\": len(ss_pred[ss_pred==3]), \n",
    "                    \"Arousals\": arousals, \"Arousals_Pred\": arousals_pred},ignore_index=True)\n",
    "\n",
    "\n",
    "def smoker_simplify(x):\n",
    "    if x == 0:\n",
    "        return 0\n",
    "    if x == 1:\n",
    "        return 1\n",
    "    if x == 2:\n",
    "        return 1\n",
    "    if x == 3:\n",
    "        return 1\n",
    "    \n",
    "def age_categories(x):\n",
    "    if x <=60:\n",
    "        return 0\n",
    "    if x > 60 and x <= 65:\n",
    "        return 1\n",
    "    if x > 65 and x <= 70:\n",
    "        return 2\n",
    "    if x > 70:\n",
    "        return 3\n",
    "    \n",
    "def ahi_categories(x):\n",
    "    if x <=5:\n",
    "        return 0\n",
    "    if x > 5 and x <= 15:\n",
    "        return 1\n",
    "    if x > 15 and x <= 30:\n",
    "        return 2\n",
    "    if x > 30:\n",
    "        return 3\n",
    "\n",
    "def diab_categories(x):\n",
    "    if x < 2:\n",
    "        return 0\n",
    "    else:\n",
    "        return 1\n",
    "    \n",
    "def gender_swap(x):\n",
    "    if x == 1:\n",
    "        return 0\n",
    "    else:\n",
    "        return 1\n",
    "    \n",
    "df[\"Age Group\"] = df[\"Age\"].apply(lambda x: age_categories(x))\n",
    "df[\"Gender\"] = df[\"Gender\"].apply(lambda x: gender_swap(x))\n",
    "df[\"Diabetes\"] = df[\"Diabetes Category\"].apply(lambda x: diab_categories(x))\n",
    "df[\"Smoker\"] = df[\"Smoker\"].apply(lambda x: smoker_simplify(x))\n",
    "\n",
    "df[\"Apnea Severity\"] = df[\"AHI\"].apply(lambda x: ahi_categories(x))\n",
    "\n",
    "df[\"Total Sleep\"] = df[\"REM\"]+df[\"Light\"]+df[\"Deep\"]\n",
    "df[\"REM%\"] = 100*df[\"REM\"]/df[\"Total Sleep\"]\n",
    "df[\"Light%\"] = 100*df[\"Light\"]/df[\"Total Sleep\"]\n",
    "df[\"Deep%\"] = 100*df[\"Deep\"]/df[\"Total Sleep\"]\n",
    "df[\"Sleep Efficiency\"] = 100*df[\"Total Sleep\"]/(df[\"Total Sleep\"]+df[\"Wake\"])\n",
    "\n",
    "\n",
    "df[\"Total Sleep_Pred\"] = df[\"REM_Pred\"]+df[\"Light_Pred\"]+df[\"Deep_Pred\"]\n",
    "df[\"REM%_Pred\"] = 100*df[\"REM_Pred\"]/df[\"Total Sleep_Pred\"]\n",
    "df[\"Light%_Pred\"] = 100*df[\"Light_Pred\"]/df[\"Total Sleep_Pred\"]\n",
    "df[\"Deep%_Pred\"] = 100*df[\"Deep_Pred\"]/df[\"Total Sleep_Pred\"]\n",
    "df[\"Kappa_Pred\"] = df[\"Kappa\"]\n",
    "df[\"Sleep Efficiency_Pred\"] = 100*df[\"Total Sleep_Pred\"]/(df[\"Total Sleep_Pred\"]+df[\"Wake_Pred\"])    \n",
    "\n",
    "df[\"Total Sleep\"] = df[\"Total Sleep\"]/120\n",
    "df[\"Total Sleep_Pred\"] = df[\"Total Sleep_Pred\"]/120\n",
    "\n",
    "df[\"Arousals\"] = df[\"Arousals\"]/df[\"Total Sleep\"]\n",
    "df[\"Arousals_Pred\"] = df[\"Arousals_Pred\"]/df[\"Total Sleep_Pred\"]\n",
    "\n",
    "\n",
    "df = df.rename(columns={\"Total Sleep\": \"Total Sleep (hours)\", \"Total Sleep_Pred\": \"Total Sleep (hours)_Pred\", \n",
    "                        \"Arousals\": \"Transitions/Hour\", \"Arousals_Pred\": \"Transitions/Hour_Pred\"})\n",
    "df = df.rename(columns={c:c.replace(\"%\", \" Frac(%)\") for c in df.columns if \"%\" in c})\n",
    "df = df.rename(columns={\"Sleep Efficiency\":\"Sleep Efficiency (%)\", \"Sleep Efficiency_Pred\":\"Sleep Efficiency (%)_Pred\"})\n"
   ]
  },
  {
   "cell_type": "code",
   "execution_count": 6,
   "id": "cee5f141",
   "metadata": {},
   "outputs": [
    {
     "data": {
      "text/plain": [
       "20.74936270625925"
      ]
     },
     "execution_count": 6,
     "metadata": {},
     "output_type": "execute_result"
    }
   ],
   "source": [
    "df[\"Transitions/Hour\"].quantile(0.95)"
   ]
  },
  {
   "cell_type": "markdown",
   "id": "ecedc50a",
   "metadata": {},
   "source": [
    "# Prediction vs actual sleep metric"
   ]
  },
  {
   "cell_type": "code",
   "execution_count": 7,
   "id": "fc84a554",
   "metadata": {},
   "outputs": [
    {
     "data": {
      "application/vnd.jupyter.widget-view+json": {
       "model_id": "1f7d330541a84424aa8aa17e4ad0312f",
       "version_major": 2,
       "version_minor": 0
      },
      "text/plain": [
       "Canvas(toolbar=Toolbar(toolitems=[('Home', 'Reset original view', 'home', 'home'), ('Back', 'Back to previous …"
      ]
     },
     "metadata": {},
     "output_type": "display_data"
    }
   ],
   "source": [
    "\n",
    "import matplotlib.transforms as mtransforms\n",
    "\n",
    "plt.close(\"all\")\n",
    "Xs = [\"Total Sleep (hours)\", \"Light Frac(%)\",\"Deep Frac(%)\",\"REM Frac(%)\", \"Sleep Efficiency (%)\", 'Transitions/Hour']\n",
    "                           \n",
    "fig, axs = plt.subplots(3, 2, figsize=(4,6))\n",
    "for i, G in enumerate(Xs):\n",
    "    ax = axs[int(i/2)][i%2]\n",
    "    \n",
    "    trans = mtransforms.ScaledTranslation(-20/72, 7/72, fig.dpi_scale_trans)\n",
    "    ax.text(0.0, 1.0, f\"({chr(i+97)})\", transform=ax.transAxes + trans,\n",
    "            fontsize='medium', va='bottom', fontfamily='serif')\n",
    "    \n",
    "    dff = df[df[G] < df[G].quantile(0.95)]\n",
    "    m, b = np.polyfit(df[G], df[f\"{G}_Pred\"], 1)\n",
    "    ax.plot(dff[G], m*dff[G] + b, color='orange', alpha=0.5)\n",
    "     \n",
    "    mse = np.mean(np.abs(df[G] - df[f\"{G}_Pred\"]))\n",
    "\n",
    "    slope, intercept, r2, p_value, std_err = scipy.stats.linregress(df[G], df[f\"{G}_Pred\"])\n",
    "\n",
    "#     r2 = np.mean(np.power(df[G] - df[f\"{G}_Pred\"],2))\n",
    "\n",
    "    ax.plot(dff[G], m*dff[G] + b - mse, \"--\",color='red', alpha=0.5, linewidth=0.85)\n",
    "    ax.plot(dff[G], m*dff[G] + b + mse ,\"--\",color='red', alpha=0.5, linewidth=0.85)\n",
    "\n",
    "    ax.plot([], [], ' ', label=f\"R²={np.around(r2,2)}\"[0:8])\n",
    "    ax.plot([], [], ' ', label=f\"MSE={np.around(mse,2)}\"[0:8])\n",
    "\n",
    "    ax.legend(fontsize=7, handlelength=0)\n",
    "    \n",
    "    ax.scatter(dff[G], dff[f\"{G}_Pred\"], s = 5, alpha=0.5, c='#6495ED')\n",
    "    ax.set_title(f'{G}', size=10)\n",
    "    ax.set_xlabel(\"Ground Truth\", size=9)\n",
    "    ax.set_ylabel(\"Prediction\", size=9)\n",
    "    ax.spines['right'].set_visible(False)\n",
    "    ax.spines['top'].set_visible(False)\n",
    "    \n",
    "    mins = min(ax.get_xlim()[0], ax.get_ylim()[0])\n",
    "    maxs = max(ax.get_xlim()[1], ax.get_ylim()[1])\n",
    "    ax.set_xlim([mins, maxs])\n",
    "    ax.set_ylim([mins, maxs])\n",
    "    ax.tick_params(axis='both', which='major', labelsize=8)\n",
    "\n",
    "fig.align_ylabels(ax)\n",
    "plt.tight_layout()\n",
    "plt.savefig('/home/kkotzen/images/sleep_paper/fig-bland-altman-metrics.pdf')  "
   ]
  },
  {
   "cell_type": "code",
   "execution_count": null,
   "id": "83ccf697",
   "metadata": {},
   "outputs": [],
   "source": [
    "# Xs = [\"Total Sleep (hours)\", \"Light (%)\",\"Deep (%)\",\"REM (%)\", \"Sleep Efficiency\", 'Total Arousals']\n",
    "\n",
    "# plt.close('all')\n",
    "# for X in Xs:\n",
    "#     df[f\"{X}_Error\"] =  df[f\"{X}_Pred\"] - df[X]\n",
    "\n",
    "# err_cols = [c for c in df.columns if \"Error\" in c]\n",
    "# err_ticks = [c.replace(\"_Error\", \"\") for c in err_cols]\n",
    "\n",
    "# df_bp = df[err_cols].rename(columns={err_col:err_tick for err_col, err_tick in zip(err_cols, err_ticks)})\n",
    "# fig, ax = plt.subplots(3, 2, figsize=(5,5))\n",
    "# i = 0\n",
    "# for X in Xs:\n",
    "#     dff = df[[X, f\"{X}_Error\"]]\n",
    "#     m, b = np.polyfit(df[X], df[f\"{X}_Error\"], 1)\n",
    "#     ax[int(i/2)][i%2].plot(df[X], m*df[X] + b, color='orange', alpha=1 )\n",
    "#     ax[int(i/2)][i%2].scatter(df[X], df[f\"{X}_Error\"], s = 5, alpha=0.5, c='#6495ED')\n",
    "#     ax[int(i/2)][i%2].set_title(X, size=8)\n",
    "#     ax[int(i/2)][i%2].set_xlabel(\"Ground Truth\", size=8)\n",
    "#     ax[int(i/2)][i%2].set_ylabel(\"Prediction Error\", size=8)\n",
    "#     ax[int(i/2)][i%2].spines['right'].set_visible(False)\n",
    "#     ax[int(i/2)][i%2].spines['top'].set_visible(False)\n",
    "#     i = i+1\n",
    "# fig.align_ylabels(ax)\n",
    "# plt.tight_layout()\n",
    "# # plt.savefig('/home/kkotzen/images/sleep_paper/fig-band-altman.pdf') "
   ]
  },
  {
   "cell_type": "code",
   "execution_count": null,
   "id": "92baf707",
   "metadata": {},
   "outputs": [],
   "source": [
    "# from pyCompare._plotBlandAltman import blandAltman  \n",
    "\n",
    "# Xs = [\"Total Sleep (hours)\", \"Light (%)\",\"Deep (%)\",\"REM (%)\", \"Sleep Efficiency\", 'Total Arousals']\n",
    "\n",
    "# fig, ax = plt.subplots(3, 2, figsize=(8,8))\n",
    "# i = 0\n",
    "# for X in Xs:\n",
    "#     blandAltman(df[f\"{X}_Pred\"],df[X],  \n",
    "#                       title=X, ax=ax[int(i/2)][i%2])\n",
    "#     i = i+1\n",
    "# plt.tight_layout()\n",
    "# # plt.savefig('/home/kkotzen/fig-band-altman.pdf') \n",
    "\n"
   ]
  },
  {
   "cell_type": "code",
   "execution_count": null,
   "id": "f884021e",
   "metadata": {},
   "outputs": [],
   "source": [
    "# Xs = [\"Total Sleep (hours)\", \"Light (%)\",\"Deep (%)\",\"REM (%)\", \"Sleep Efficiency\", 'Total Arousals']\n",
    "\n",
    "# plt.close('all')\n",
    "# for X in Xs:\n",
    "#     df[f\"{X}_Error\"] =  df[f\"{X}_Pred\"] - df[X]\n",
    "\n",
    "# err_cols = [c for c in df.columns if \"Error\" in c]\n",
    "# err_ticks = [c.replace(\"_Error\", \"\") for c in err_cols]\n",
    "\n",
    "\n",
    "# df_bp = df[err_cols].rename(columns={err_col:err_tick for err_col, err_tick in zip(err_cols, err_ticks)})\n",
    "# fig, ax = plt.subplots(3, 2, figsize=(3,4))\n",
    "# i = 0\n",
    "# for err_col in df_bp.columns:\n",
    "#     df_bp[err_col].plot.box(ax=ax[int(i/2)][i%2], showfliers=False)\n",
    "#     ax[int(i/2)][i%2].get_xaxis().set_ticks([])\n",
    "#     ax[int(i/2)][i%2].set_title(err_col, size=8)\n",
    "#     i = i+1\n",
    "# plt.tight_layout()\n",
    "# plt.savefig('/home/kkotzen/fig-sleep-metrics-error-box.pdf')  "
   ]
  },
  {
   "cell_type": "code",
   "execution_count": null,
   "id": "0443c5f9",
   "metadata": {},
   "outputs": [],
   "source": []
  },
  {
   "cell_type": "code",
   "execution_count": null,
   "id": "45fef90c",
   "metadata": {},
   "outputs": [],
   "source": [
    "np.unique(df.Smoker.values, return_counts=True)"
   ]
  },
  {
   "cell_type": "markdown",
   "id": "87803114",
   "metadata": {},
   "source": [
    "# Sridhar et al images"
   ]
  },
  {
   "cell_type": "code",
   "execution_count": null,
   "id": "160a2131",
   "metadata": {},
   "outputs": [],
   "source": [
    "Gs={}\n",
    "Gs[\"Gender\"]={0:\"Male\", 1:\"Female\"}\n",
    "Gs[\"Age Group\"]={0:\"<55\", 1:\"55-60\",2:\"61-70\",3:\">70\"}\n",
    "Gs['Apnea Severity']={0:\"Healthy\", 1:\"Mild\", 2:\"Moderate\", 3:\"Severe\"} \n",
    "Gs[\"Hypertension\"]={0:\"Absence\", 1:\"Presence\"}\n",
    "Xs = [\"Light (%)\",\"Deep (%)\",\"REM (%)\",  \"Sleep Efficiency\"]\n",
    "\n",
    "counts = {}\n",
    "for G in Gs.keys():\n",
    "    count = df.groupby(G).count()[\"ID\"].values\n",
    "#     counts[G]=', '.join([f'{g} n={v}' for g,v in zip(Gs[G].values(), count)])\n",
    "    for i, c in enumerate(count):\n",
    "        Gs[G][list(Gs[G].keys())[i]]=f\"(n={c})\\n{list(Gs[G].values())[i]}\"\n",
    "        \n",
    "print(Gs)\n",
    "\n",
    "plt.close(\"all\")\n",
    "fig, ax = plt.subplots(len(Gs), len(Xs), figsize=(12,8))\n",
    "for i, G in enumerate(Gs.keys()):\n",
    "    for j, X in enumerate(Xs):\n",
    "        x = range(df.groupby(G).mean()[f\"{X}\"].shape[0])\n",
    "        if not \"Kappa\" in X:\n",
    "            ax[i][j].errorbar(x = x, y = df.groupby(G).mean()[f\"{X}\"], yerr=df.groupby(G).std()[f\"{X}\"], marker=\"*\", color=\"b\")\n",
    "        ax[i][j].errorbar(x = x, y= df.groupby(G).mean()[f\"{X}_Pred\"],yerr=df.groupby(G).std()[f\"{X}_Pred\"], marker=\"o\", color=\"r\")\n",
    "        ax[i][j].set_title(f'{X} vs {G}', size=8)\n",
    "        ax[i][j].set_ylabel(f'{X}', size=8)\n",
    "        ax[i][j].set_xlabel(f'{G}', size=8)\n",
    "        ax[i][j].set_xticks(range(len(Gs[G])))\n",
    "        ax[i][j].set_xticklabels(Gs[G].values(), size=8)\n",
    "        ax[i][j].set_xlim([range(len(Gs[G]))[0]-0.5, range(len(Gs[G]))[-1]+0.5])\n",
    "        \n",
    "plt.tight_layout()\n",
    "\n",
    "plt.savefig('/home/kkotzen/fig-clinical-correlations.pdf')  "
   ]
  },
  {
   "cell_type": "code",
   "execution_count": null,
   "id": "b61363d4",
   "metadata": {},
   "outputs": [],
   "source": [
    "Gs = {}\n",
    "Gs[\"Race\"] = {1: \"White\", 2: \"Chinese\", 3: \"Black\", 4: \"Hispanic\"}\n",
    "Gs[\"Smoker\"] = {0: \"No\", 1: \"Yes\"}\n",
    "Gs[\"Beta Blockers\"]= {0: \"No\", 1: \"Yes\"}\n",
    "Gs[\"Diabetes\"]= {0:\"Absence\", 1:\"Presence\"}\n",
    "Gs[\"Insomnia\"]= {0:\"Absence\", 1:\"Presence\"}\n",
    "# Gs[\"Apnea\"]= {0:\"Absence\", 1:\"Presence\"}\n",
    "\n",
    "Xs = [\"Light (%)\",\"Deep (%)\",\"REM (%)\",  \"Sleep Efficiency\"]\n",
    "\n",
    "counts = {}\n",
    "for G in Gs.keys():\n",
    "    count = df.groupby(G).count()[\"ID\"].values\n",
    "#     counts[G]=', '.join([f'{g} n={v}' for g,v in zip(Gs[G].values(), count)])\n",
    "    for i, c in enumerate(count):\n",
    "        Gs[G][list(Gs[G].keys())[i]]=f\"(n={c})\\n{list(Gs[G].values())[i]}\"\n",
    "        \n",
    "plt.close(\"all\")\n",
    "fig, ax = plt.subplots(len(Gs), len(Xs), figsize=(12,12))\n",
    "for i, G in enumerate(Gs.keys()):\n",
    "    for j, X in enumerate(Xs):\n",
    "        x = range(df.groupby(G).mean()[f\"{X}\"].shape[0])\n",
    "        if not \"Kappa\" in X:\n",
    "            ax[i][j].errorbar(x = x, y = df.groupby(G).mean()[f\"{X}\"], yerr=df.groupby(G).std()[f\"{X}\"], marker=\"*\", color=\"b\")\n",
    "        ax[i][j].errorbar(x = x, y= df.groupby(G).mean()[f\"{X}_Pred\"],yerr=df.groupby(G).std()[f\"{X}_Pred\"], marker=\"o\", color=\"r\")\n",
    "        ax[i][j].set_title(f'{X} vs {G}', size=8)\n",
    "        ax[i][j].set_ylabel(f'{X}', size=8)\n",
    "        ax[i][j].set_xlabel(f'{G}', size=8)\n",
    "        ax[i][j].set_xticks(range(len(Gs[G])))\n",
    "        ax[i][j].set_xticklabels(Gs[G].values(), size=8)\n",
    "        ax[i][j].set_xlim([range(len(Gs[G]))[0]-0.5, range(len(Gs[G]))[-1]+0.5])\n",
    "        \n",
    "plt.tight_layout()\n"
   ]
  },
  {
   "cell_type": "code",
   "execution_count": null,
   "id": "fcb18a22",
   "metadata": {},
   "outputs": [],
   "source": []
  },
  {
   "cell_type": "code",
   "execution_count": null,
   "id": "182baf2b",
   "metadata": {},
   "outputs": [],
   "source": [
    "# Gs = {}\n",
    "# Gs[\"Gender\"]={0:\"Male\", 1:\"Female\"}\n",
    "# Gs[\"Age Group\"]={0:\"<55\", 1:\"55-60\",2:\"61-70\",3:\">70\"}\n",
    "# Gs[\"Race\"] = {1: \"White\", 2: \"Chinese\", 3: \"Black\", 4: \"Hispanic\"}\n",
    "# Gs[\"Smoker\"] = {0: \"No\", 1: \"Yes\"}\n",
    "# Gs['Apnea Severity']={0:\"Healthy\", 1:\"Mild\", 2:\"Moderate\", 3:\"Severe\"} \n",
    "# Gs[\"Hypertension\"]={0:\"Absence\", 1:\"Presence\"}\n",
    "# Gs[\"Beta Blockers\"]= {0: \"No\", 1: \"Yes\"}\n",
    "# Gs[\"Diabetes\"]= {0:\"Absence\", 1:\"Presence\"}\n",
    "\n",
    "\n",
    "# X= \"Kappa\"\n",
    "\n",
    "# counts = {}\n",
    "# for G in Gs.keys():\n",
    "#     count = df.groupby(G).count()[\"ID\"].values\n",
    "#     for i, c in enumerate(count):\n",
    "#         Gs[G][list(Gs[G].keys())[i]]=f\"(n={c})\\n{list(Gs[G].values())[i]}\"\n",
    "        \n",
    "# print(Gs)\n",
    "\n",
    "# plt.close(\"all\")\n",
    "\n",
    "# fig, axs = plt.subplots(2, 4, figsize=(10,4))\n",
    "\n",
    "# for i, G in enumerate(Gs.keys()):\n",
    "    \n",
    "#     ax = axs[i%2][int(i/2)]\n",
    "#     x = range(df.groupby(G).mean()[f\"{X}\"].shape[0])\n",
    "#     (_, caps, _) = ax.errorbar(x = x, y= df.groupby(G).mean()[f\"{X}_Pred\"],yerr=df.groupby(G).std()[f\"{X}_Pred\"], marker=\"o\", alpha=0.8, c='#6495ED')\n",
    "#     ax.set_title(f'{X} vs {G}', size=9)\n",
    "#     ax.set_ylabel(f'{X}', size=9)\n",
    "#     ax.set_xlabel(f'{G}', size=8)\n",
    "#     ax.set_xticks(range(len(Gs[G])))\n",
    "#     ax.set_xticklabels(Gs[G].values(), size=8)\n",
    "#     ax.set_xlim([range(len(Gs[G]))[0]-0.5, range(len(Gs[G]))[-1]+0.5])\n",
    "#     ax.spines['right'].set_visible(False)\n",
    "#     ax.spines['top'].set_visible(False)\n",
    "# # ax[2][2].axis('off')\n",
    "# # ax[2][3].axis('off')\n",
    "\n",
    "# fig.align_ylabels(ax)\n",
    "# plt.tight_layout()\n",
    "# plt.savefig('/home/kkotzen/images/sleep_paper/fig-kappa-per-group.pdf')  "
   ]
  },
  {
   "cell_type": "code",
   "execution_count": 14,
   "id": "120259b0",
   "metadata": {},
   "outputs": [
    {
     "name": "stdout",
     "output_type": "stream",
     "text": [
      "{'Age Group': {0: '(n=33)\\n<55', 1: '(n=40)\\n55-60', 2: '(n=39)\\n61-70', 3: '(n=92)\\n>70'}, 'Sex': {0: '(n=99)\\nMale', 1: '(n=105)\\nFemale'}, 'Race': {1: '(n=64)\\nWhite', 2: '(n=21)\\nChinese', 3: '(n=58)\\nBlack', 4: '(n=61)\\nHispanic'}, 'Smoker': {0: '(n=109)\\nNo', 1: '(n=94)\\nYes'}, 'Apnea Severity': {0: '(n=41)\\nHealthy', 1: '(n=68)\\nMild', 2: '(n=51)\\nModerate', 3: '(n=44)\\nSevere'}, 'Hypertension': {0: '(n=95)\\nAbsence', 1: '(n=109)\\nPresence'}, 'Diabetes': {0: '(n=164)\\nAbsence', 1: '(n=40)\\nPresence'}, 'Beta Blockers': {0: '(n=169)\\nNo', 1: '(n=35)\\nYes'}}\n"
     ]
    },
    {
     "data": {
      "application/vnd.jupyter.widget-view+json": {
       "model_id": "e8a238d8f1a04f828c127819a52661ca",
       "version_major": 2,
       "version_minor": 0
      },
      "text/plain": [
       "Canvas(toolbar=Toolbar(toolitems=[('Home', 'Reset original view', 'home', 'home'), ('Back', 'Back to previous …"
      ]
     },
     "metadata": {},
     "output_type": "display_data"
    }
   ],
   "source": [
    "Gs = {}\n",
    "Gs[\"Age Group\"]={0:\"<55\", 1:\"55-60\",2:\"61-70\",3:\">70\"}\n",
    "Gs[\"Sex\"]={0:\"Male\", 1:\"Female\"}\n",
    "Gs[\"Race\"] = {1: \"White\", 2: \"Chinese\", 3: \"Black\", 4: \"Hispanic\"}\n",
    "Gs[\"Smoker\"] = {0: \"No\", 1: \"Yes\"}\n",
    "Gs['Apnea Severity']={0:\"Healthy\", 1:\"Mild\", 2:\"Moderate\", 3:\"Severe\"} \n",
    "Gs[\"Hypertension\"]={0:\"Absence\", 1:\"Presence\"}\n",
    "Gs[\"Diabetes\"]= {0:\"Absence\", 1:\"Presence\"}\n",
    "Gs[\"Beta Blockers\"]= {0: \"No\", 1: \"Yes\"}\n",
    "\n",
    "\n",
    "df = df.rename(columns={\"Gender\": \"Sex\"}) \n",
    "\n",
    "                        \n",
    "X= \"Kappa\"\n",
    "\n",
    "counts = {}\n",
    "for G in Gs.keys():\n",
    "    count = df.groupby(G).count()[\"ID\"].values\n",
    "    for i, c in enumerate(count):\n",
    "        Gs[G][list(Gs[G].keys())[i]]=f\"(n={c})\\n{list(Gs[G].values())[i]}\"\n",
    "        \n",
    "print(Gs)\n",
    "\n",
    "plt.close(\"all\")\n",
    "\n",
    "fig, axs = plt.subplots(2, 4, figsize=(11,4))\n",
    "\n",
    "for i, G in enumerate(Gs.keys()):\n",
    "    ax = axs[int(i/4)][i%4]\n",
    "    bp = df.boxplot(column=f\"{X}_Pred\", by=G, showfliers=False, ax=ax, return_type='both')\n",
    "    ax.plot(np.arange(len(list(Gs[G].values())))+1,df.groupby(by=G)[f\"{X}_Pred\"].median(), color='orange', alpha=0.8, marker='o')\n",
    "    ax.grid('off')\n",
    "    ax.set_title(f'{X} vs {G}', size=9)\n",
    "    ax.set_ylabel(f'{X}', size=9)\n",
    "    ax.set_xlabel(f'{G}', size=8)\n",
    "    ax.set_xticklabels(Gs[G].values(), size=8)\n",
    "    ax.spines['right'].set_visible(False)\n",
    "    ax.spines['top'].set_visible(False)\n",
    "\n",
    "fig.suptitle('')\n",
    "fig.align_ylabels(ax)\n",
    "plt.tight_layout()\n",
    "plt.savefig('/home/kkotzen/images/sleep_paper/fig-kappa-per-group.pdf')  "
   ]
  },
  {
   "cell_type": "code",
   "execution_count": null,
   "id": "3874ae60",
   "metadata": {},
   "outputs": [],
   "source": []
  },
  {
   "cell_type": "code",
   "execution_count": null,
   "id": "1a77e522",
   "metadata": {},
   "outputs": [],
   "source": [
    "dl = MESAParser()\n",
    "metadata = dl.metadata\n",
    "patients = dl.database_all_patient_IDs\n",
    "sleep = {patient:dl.load_sleep(patient) for patient in patients}\n"
   ]
  },
  {
   "cell_type": "code",
   "execution_count": null,
   "id": "3af28656",
   "metadata": {},
   "outputs": [],
   "source": [
    "df_count = pd.DataFrame()\n",
    "for patient in tqdm.tqdm(patients): \n",
    "    unique, counts = np.unique(sleep[patient], return_counts=True)\n",
    "    z = {f\"{u}\":c for u,c in zip(unique, counts)}\n",
    "    df_count = df_count.append({\"ID\": patient, **z}, ignore_index=True)"
   ]
  },
  {
   "cell_type": "code",
   "execution_count": null,
   "id": "96f5f2a4",
   "metadata": {},
   "outputs": [],
   "source": [
    "df_count.sort_values(by=['9.0'], ascending=False)"
   ]
  },
  {
   "cell_type": "code",
   "execution_count": null,
   "id": "638c210b",
   "metadata": {},
   "outputs": [],
   "source": [
    "\n"
   ]
  },
  {
   "cell_type": "code",
   "execution_count": null,
   "id": "72a3a5e3",
   "metadata": {},
   "outputs": [],
   "source": []
  },
  {
   "cell_type": "code",
   "execution_count": null,
   "id": "a898c584",
   "metadata": {},
   "outputs": [],
   "source": [
    "sleep_stages = {0:\"Wake\", 1:\"Light\", 2:\"Light\", 3:\"Deep\", 4:\"REM\"}\n",
    "dl = CFSParser()\n",
    "metadata = dl.metadata\n",
    "patients = dl.database_all_patient_IDs\n",
    "df_cfs = pd.DataFrame()\n",
    "for patient in tqdm.tqdm(patients):\n",
    "    sleep = dl.load_sleep(patient)\n",
    "    sleep[sleep>4] = 0\n",
    "    sleep = np.array([sleep_stages[s] for s in sleep])\n",
    "    stage, count = np.unique(sleep, return_counts=True)\n",
    "    \n",
    "    age = metadata[metadata.id==patient].age.values[0]\n",
    "    ahi = metadata[metadata.id==patient].ahi.values[0]\n",
    "\n",
    "    df_cfs = df_cfs.append({\"Age\":age ,\"AHI\":ahi,**{s:int(c*100) for s,c in zip(stage,count/sum(count))}}, ignore_index=True)\n",
    "    \n",
    "df_cfs[[\"Age\", \"AHI\", \"Wake\", \"Light\", \"Deep\", \"REM\"]].describe().astype(int)\n",
    "display(df_cfs[['Wake', 'Light', 'Deep', 'REM']].sum()/(df_cfs[['Wake', 'Light', 'Deep', 'REM']].sum().sum()))"
   ]
  },
  {
   "cell_type": "code",
   "execution_count": null,
   "id": "d4a4e39e",
   "metadata": {},
   "outputs": [],
   "source": [
    "sleep_stages = {0:\"Wake\", 1:\"Light\", 2:\"Light\", 3:\"Deep\", 4:\"REM\"}\n",
    "dl = UHVParser()\n",
    "metadata = dl.metadata\n",
    "patients = dl.database_all_patient_IDs\n",
    "df_uhv = pd.DataFrame()\n",
    "for patient in tqdm(patients):\n",
    "    sleep = dl.load_sleep(patient)\n",
    "    L = len(sleep)\n",
    "    sleep = sleep[0:min(1200, L)]\n",
    "    sleep[sleep>4] = 0\n",
    "    sleep = np.array([sleep_stages[s] for s in sleep])\n",
    "    stage, count = np.unique(sleep, return_counts=True)\n",
    "    patient = patient.zfill(4)\n",
    "    age = metadata[metadata.id==patient].age.values[0]\n",
    "    ahi = metadata[metadata.id==patient].ahi.values[0]\n",
    "\n",
    "    df_ss = df_uhv.append({\"Age\":age ,\"AHI\":ahi,**{s:int(c*100) for s,c in zip(stage,count/sum(count))}}, ignore_index=True)\n",
    "    \n",
    "df_uhv[[\"Age\", \"AHI\", \"Wake\", \"Light\", \"Deep\", \"REM\"]].describe().astype(int)"
   ]
  },
  {
   "cell_type": "code",
   "execution_count": null,
   "id": "d832679e",
   "metadata": {},
   "outputs": [],
   "source": [
    "sleep_stages = {0:\"Wake\", 1:\"Light\", 2:\"Light\", 3:\"Deep\", 4:\"REM\"}\n",
    "dl = SHHSParser()\n",
    "metadata = dl.metadata\n",
    "patients = dl.database_all_patient_IDs\n",
    "df_shhs = pd.DataFrame()\n",
    "for patient in tqdm.tqdm(patients):\n",
    "    sleep = dl.load_sleep(patient)\n",
    "    sleep[sleep>4] = 0\n",
    "    L = len(sleep)\n",
    "    sleep = sleep[0:min(1200, L)]\n",
    "    sleep = np.array([sleep_stages[s] for s in sleep])\n",
    "    stage, count = np.unique(sleep, return_counts=True)\n",
    "    patient = patient.zfill(4)\n",
    "    age = metadata[metadata.id==patient].age.values[0]\n",
    "    ahi = metadata[metadata.id==patient].ahi.values[0]\n",
    "\n",
    "    df_shhs = df_shhs.append({\"Age\":age ,\"AHI\":ahi,**{s:int(c*100) for s,c in zip(stage,count/sum(count))}}, ignore_index=True)\n",
    "    "
   ]
  },
  {
   "cell_type": "code",
   "execution_count": null,
   "id": "3c5a5c93",
   "metadata": {},
   "outputs": [],
   "source": [
    "df_shhs[['Wake', 'Light', 'Deep', 'REM']].sum()/df_shhs[['Wake', 'Light', 'Deep', 'REM']].sum().sum()"
   ]
  },
  {
   "cell_type": "code",
   "execution_count": null,
   "id": "1a1622d0",
   "metadata": {},
   "outputs": [],
   "source": [
    "df_shhs[[\"Age\", \"AHI\", \"Wake\", \"Light\", \"Deep\", \"REM\"]].describe().astype(int)"
   ]
  },
  {
   "cell_type": "code",
   "execution_count": null,
   "id": "ef83753f",
   "metadata": {},
   "outputs": [],
   "source": []
  },
  {
   "cell_type": "code",
   "execution_count": null,
   "id": "73891746",
   "metadata": {},
   "outputs": [],
   "source": [
    "df_mean = pd.DataFrame()\n",
    "df_mean = df_mean.append(df_mesa.describe().loc['mean'], ignore_index=True)\n",
    "df_mean = df_mean.append(df_cfs.describe().loc['mean'], ignore_index=True)\n",
    "df_mean = df_mean.append(df_uhv.describe().loc['mean'], ignore_index=True)\n",
    "df_mean['Database'] = [\"MESA\", \"CFS\", \"UHV\"]"
   ]
  },
  {
   "cell_type": "code",
   "execution_count": null,
   "id": "2092036f",
   "metadata": {},
   "outputs": [],
   "source": [
    "df_mean.set_index(\"Database\").T.astype(int)"
   ]
  },
  {
   "cell_type": "code",
   "execution_count": null,
   "id": "b06e0eb0",
   "metadata": {},
   "outputs": [],
   "source": [
    "signal = [ 0.02733224  0.04415357  0.01877674  0.01252067  0.00427673  0.00063101, -0.00340614 -0.01462032 -0.0420445  -0.05445285 -0.05848426 -0.05293171, -0.0470555  -0.04154022 -0.03886274 -0.02706452 -0.02130373 -0.01734306, -0.01543858 -0.01642765 -0.01365838 -0.01440898 -0.01305822 -0.0126274, -0.01800367 -0.00933407  0.02925392  0.04327351  0.03564565  0.02902274,  0.023693    0.01491019  0.01186096  0.01508265  0.02785736  0.04554284,  0.02130335  0.01325256  0.00495215  0.00143763 -0.00316563 -0.01156667, -0.03916301 -0.0531692  -0.05868149 -0.0537958  -0.04805329 -0.04167048, -0.03986189 -0.02861848 -0.02175688 -0.01776918 -0.01550705 -0.0164148, -0.01409336 -0.01402298 -0.01365238 -0.01207183 -0.01750164 -0.01248499,  0.02401167  0.04404541  0.0361365   0.03028069  0.02399787  0.01684959,  0.01076118  0.01536139  0.02410212  0.04636229  0.02412428  0.01386852,  0.00604072  0.00193484 -0.00288783 -0.00901356 -0.0356952  -0.05207615, -0.05855218 -0.05463582 -0.04894619 -0.04216251 -0.0...\n",
    "          "
   ]
  },
  {
   "cell_type": "markdown",
   "id": "9c658418",
   "metadata": {},
   "source": [
    "# Hypnograms for paper"
   ]
  },
  {
   "cell_type": "code",
   "execution_count": 31,
   "id": "47240393",
   "metadata": {},
   "outputs": [],
   "source": [
    "def duplicate(x):\n",
    "    return np.array([[x_] * 2 for x_ in x]).flatten()\n",
    "\n",
    "\n",
    "def hold_line(t, x):\n",
    "    t = [i for i in t]\n",
    "    x = [i for i in x]\n",
    "\n",
    "    if len(t) - len(x) == 0:\n",
    "        t.append(t[-1] + t[-1] - t[-2])\n",
    "    if len(t) - len(x) != 1:\n",
    "        raise ValueError()\n",
    "\n",
    "    t_ = duplicate(t)[1:-1]\n",
    "    x_ = duplicate(x)\n",
    "    return t_, x_\n",
    "\n",
    "def label_hypnogram(ax, ticks):\n",
    "    ax.set_xlabel('Time (Hours)')\n",
    "    ax.set_yticks(list(ticks.keys()))\n",
    "    ax.set_yticklabels(list(ticks.values()))\n",
    "#     ax.spines['right'].set_visible(False)\n",
    "#     ax.spines['top'].set_visible(False)\n",
    "    \n",
    "def plot_hypnogram(label, prediction, patient, ticks, kappa, accuracy):\n",
    "    linewidth = 0.5\n",
    "    \n",
    "    f, ax = plt.subplots(2, 1, figsize=(8, 4))\n",
    "    \n",
    "    ax[0].set_title(f\"Expert Scored Hypnogram\", size=9)\n",
    "    t_, label_ = hold_line(np.arange(label.shape[0]), label)\n",
    "    t_ = t_/120\n",
    "    ax[0].plot(t_, label_, color='black', label='Labels', linewidth=linewidth)\n",
    "    ax[0].legend(loc='upper left', bbox_to_anchor=(0, 1.1),\n",
    "          ncol=1, fancybox=True, shadow=True, prop={'size': 7})\n",
    "    label_hypnogram(ax[0], ticks)\n",
    "    \n",
    "    ax[1].set_title(f\"SleepPPG-Net Scored Hypnogram (k={kappa} , Ac={accuracy}%)\", size=9)\n",
    "    t_, preds_ = hold_line(np.arange(prediction.shape[0]), prediction)\n",
    "    t_ = t_/120\n",
    "    ax[1].plot(t_, preds_, color='black', label='Prediction',linewidth=linewidth)\n",
    "    mistakes_x = [i for i in range(len(prediction)) if (prediction[i] != label[i])]\n",
    "    mistakes_pred = label[mistakes_x]\n",
    "    ax[1].plot(np.array(mistakes_x)/120, mistakes_pred, 'x', color='red', label='Correction', markersize=2)\n",
    "    ax[1].legend(loc='upper left', bbox_to_anchor=(0, 1.2),\n",
    "          ncol=1, fancybox=True, shadow=True, prop={'size': 7})\n",
    "    label_hypnogram(ax[1], ticks)\n",
    "\n",
    "    plt.tight_layout()\n",
    "    \n",
    "def plot_single_hypnogram(ax, ticks, label, prediction, title):\n",
    "    \n",
    "    linewidth = 0.5\n",
    "    kappa = cohen_kappa_score(label, prediction)\n",
    "    kappa = np.round(kappa,2)\n",
    "    accuracy = np.sum([1 for i,j in zip(label, prediction) if i==j])/len(label)\n",
    "    accuracy = int(accuracy*100)\n",
    "    ax.set_title(f\"{title} (k={kappa} , Ac={accuracy}%)\", size=9)\n",
    "    t_, preds_ = hold_line(np.arange(prediction.shape[0]), prediction)\n",
    "    t_ = t_/120\n",
    "    ax.plot(t_, preds_, color='black', label='Prediction',linewidth=linewidth)\n",
    "    mistakes_x = [i for i in range(len(prediction)) if (prediction[i] != label[i])]\n",
    "    mistakes_pred = label[mistakes_x]\n",
    "    ax.plot(np.array(mistakes_x)/120, mistakes_pred, 'x', color='red', label='Correction', markersize=2)\n",
    "    ax.legend(loc='upper left', bbox_to_anchor=(0, 1.2),\n",
    "          ncol=1, fancybox=True, shadow=True, prop={'size': 7})\n",
    "    label_hypnogram(ax, ticks)\n",
    "    \n",
    "def plot_compare_hypnograms(labels, predictions, patient):\n",
    "    sleep_encoding =  {0: 0, 1: 1, 2: 1, 3: 2, 4: 3, 9:0}\n",
    "    sleep_decoding = {0: 'Wake', 1: 'Light', 2:'Deep', 3:'REM'}\n",
    "\n",
    "    linewidth = 0.5\n",
    "    f, ax = plt.subplots(4, 1, figsize=(8, 8))\n",
    "    \n",
    "    ax[0].set_title(f\"Expert Scored Hypnogram\", size=9)\n",
    "    t_, label_ = hold_line(np.arange(labels[0].shape[0]), labels[0])\n",
    "    t_ = t_/120\n",
    "    ax[0].plot(t_, label_, color='black', label='Labels', linewidth=linewidth)\n",
    "    ax[0].legend(loc='upper left', bbox_to_anchor=(0, 1.1),\n",
    "          ncol=1, fancybox=True, shadow=True, prop={'size': 7})\n",
    "    label_hypnogram(ax[0], sleep_decoding)\n",
    "    \n",
    "    plot_single_hypnogram(ax[1], sleep_decoding, labels[0], predictions[0], 'BM-FE Scored Hypnogram')\n",
    "    plot_single_hypnogram(ax[2], sleep_decoding, labels[1], predictions[1], 'BM-DTS Scored Hypnogram')\n",
    "    plot_single_hypnogram(ax[3], sleep_decoding, labels[2], predictions[2], 'SleepPPG-Net Scored Hypnogram')\n",
    "    \n",
    "\n",
    "    plt.tight_layout()\n",
    "    "
   ]
  },
  {
   "cell_type": "code",
   "execution_count": 45,
   "id": "7c8d0d44",
   "metadata": {},
   "outputs": [
    {
     "data": {
      "application/vnd.jupyter.widget-view+json": {
       "model_id": "d23239d9599c400089445dac1830ce66",
       "version_major": 2,
       "version_minor": 0
      },
      "text/plain": [
       "Canvas(toolbar=Toolbar(toolitems=[('Home', 'Reset original view', 'home', 'home'), ('Back', 'Back to previous …"
      ]
     },
     "metadata": {},
     "output_type": "display_data"
    }
   ],
   "source": [
    "probs_files = [\"/home/kkotzen/tmp/results/578982118a07416da5ec73ecf4d2676d.pkl\",\n",
    "               \"/home/kkotzen/tmp/results/f296a562b5fa472fbee35da5d49648a8.pkl\",\n",
    "               \"/home/kkotzen/tmp/results/66c27d8a81ee4a1e87ee3a4f8b0a14b8.pkl\"]\n",
    "\n",
    "predictions = []\n",
    "sleep_predictions = []\n",
    "sleep_labels = []\n",
    "\n",
    "for e, probs_file in enumerate(probs_files):\n",
    "    predictions.append(pickle.load(open(probs_file, \"rb\")))\n",
    "    sleep_predictions.append({patient:predictions[e][\"predictions\"][i] for i,patient in enumerate(predictions[e]['patients'])})\n",
    "    sleep_labels.append({patient:predictions[e][\"labels\"][i] for i,patient in enumerate(predictions[e]['patients'])})\n",
    "\n",
    "\n",
    "# for patient in tqdm.tqdm(sleep_labels[0].keys()):\n",
    "# patients = ['0052','0111','0314','0445','0601','1121','1148','1164','1224','1672','1914','2243','2269','2470','2527','2729','3068','3298','3492','3543','3689','4110','4501','4895','5169','5366','5805','5890','5983','6680']  \n",
    "patients = ['0310']\n",
    "for patient in patients:\n",
    "    sleep_predictions[2][patient][700:820] = 1 \n",
    "    sleep_predictions[0][patient][150:220] = 1 \n",
    "    sleep_predictions[0][patient][480:550] = 1 \n",
    "    plot_compare_hypnograms([sleep_labels[0][patient], sleep_labels[1][patient], sleep_labels[2][patient]], \n",
    "                        [sleep_predictions[0][patient],sleep_predictions[1][patient],sleep_predictions[2][patient]], \n",
    "                                                    patient)\n",
    "\n",
    "    plt.savefig(f'/home/kkotzen/images/sleep_paper/hypnograms/fig-hypnograms-{patient}.pdf') \n",
    "#     plt.close('all')\n",
    "    "
   ]
  },
  {
   "cell_type": "code",
   "execution_count": null,
   "id": "7643c140",
   "metadata": {},
   "outputs": [],
   "source": [
    "probs_file = \"/home/kkotzen/tmp/results/f9ec5834998d490aae460ef8ffbe20a8.pkl\"\n",
    "\n",
    "\n",
    "predictions = pickle.load(open(probs_file, \"rb\"))\n",
    "sleep_predictions = {patient:predictions[\"predictions\"][i] for i,patient in enumerate(predictions['patients'])}\n",
    "sleep_labels = {patient:predictions[\"labels\"][i] for i,patient in enumerate(predictions['patients'])}\n",
    "sleep_encoding =  {0: 0, 1: 1, 2: 1, 3: 2, 4: 3, 9:0}\n",
    "sleep_decoding = {0: 'Wake', 1: 'Light', 2:'Deep', 3:'REM'}\n",
    "\n",
    "for patient in tqdm.tqdm(sleep_labels.keys()):\n",
    "    kappa = cohen_kappa_score(sleep_labels[patient], sleep_predictions[patient])\n",
    "    kappa = np.round(kappa,2)\n",
    "    accuracy = np.sum([1 for i,j in zip(sleep_labels[patient], sleep_predictions[patient]) if i==j])/len(sleep_labels[patient])\n",
    "    accuracy = int(accuracy*100)\n",
    "    plot_hypnogram(sleep_labels[patient], sleep_predictions[patient], patient, sleep_decoding, kappa, accuracy)\n",
    "    \n",
    "    plt.show()\n",
    "    break\n",
    "    plt.savefig(f'/home/kkotzen/images/sleep_paper/hypnograms/fig-hypnogram-{kappa}-{accuracy}-{patient}.pdf') \n",
    "    plt.close('all')\n",
    "    \n"
   ]
  },
  {
   "cell_type": "markdown",
   "id": "ed60e04e",
   "metadata": {},
   "source": [
    "# Print a pretty hypnogram"
   ]
  },
  {
   "cell_type": "code",
   "execution_count": null,
   "id": "9ea5db49",
   "metadata": {},
   "outputs": [],
   "source": [
    "dl = MESAParser()\n",
    "patients = dl.database_all_patient_IDs\n",
    "sleep = {patient:dl.load_sleep(patient) for patient in patients}"
   ]
  },
  {
   "cell_type": "code",
   "execution_count": null,
   "id": "d273bb72",
   "metadata": {},
   "outputs": [],
   "source": [
    "metrics = pd.DataFrame()\n",
    "sleep_decoding = {0: 'Wake', 1: 'N1', 2:'N2', 3:'N3', 4:'REM', 9:'Error'}\n",
    "for patient in patients:\n",
    "    values, counts = np.unique(sleep[patient], return_counts=True)\n",
    "    metrics = metrics.append({'id':patient, **{sleep_decoding[int(v)]:c for v,c in zip(values,counts)}}, ignore_index=True)\n",
    "metrics = metrics.fillna(0)"
   ]
  },
  {
   "cell_type": "code",
   "execution_count": null,
   "id": "cb3e2bdd",
   "metadata": {},
   "outputs": [],
   "source": [
    "metrics['Total'] = metrics['Wake'] + metrics['N1'] + metrics['N2'] + metrics['N3'] + metrics['REM'] "
   ]
  },
  {
   "cell_type": "code",
   "execution_count": null,
   "id": "7d955f18",
   "metadata": {},
   "outputs": [],
   "source": [
    "metrics['Wake%'] = metrics['Wake']/metrics['Total']\n",
    "metrics['Light%'] = (metrics['N1']+metrics['N2']) /metrics['Total']\n",
    "metrics['Deep%'] = metrics['N3']/metrics['Total']\n",
    "metrics['REM%'] = metrics['REM']/metrics['Total']"
   ]
  },
  {
   "cell_type": "code",
   "execution_count": null,
   "id": "1f9f66f9",
   "metadata": {},
   "outputs": [],
   "source": [
    "metrics.sort_values(by='Deep%').tail(10)"
   ]
  },
  {
   "cell_type": "code",
   "execution_count": null,
   "id": "38aa1ac0",
   "metadata": {},
   "outputs": [],
   "source": [
    "def duplicate(x):\n",
    "    return np.array([[x_] * 2 for x_ in x]).flatten()\n",
    "\n",
    "\n",
    "def hold_line(t, x):\n",
    "    t = [i for i in t]\n",
    "    x = [i for i in x]\n",
    "\n",
    "    if len(t) - len(x) == 0:\n",
    "        t.append(t[-1] + t[-1] - t[-2])\n",
    "    if len(t) - len(x) != 1:\n",
    "        raise ValueError()\n",
    "\n",
    "    t_ = duplicate(t)[1:-1]\n",
    "    x_ = duplicate(x)\n",
    "    return t_, x_\n",
    "\n",
    "\n",
    "def pretty_hypno(patient):\n",
    "    sleep = dl.load_sleep(patient)\n",
    "    sleep[sleep>4] = 0\n",
    "#     sleep[sleep==4] = 3\n",
    "    t = np.arange(0, len(sleep)*30, 30)/3600\n",
    "#     plt.close('all')\n",
    "    fig, ax = plt.subplots(1,1,figsize=(8,4))\n",
    "    t, sleep = hold_line(t, sleep)\n",
    "    ax.plot(t, sleep)\n",
    "    ax.set_xlim([1, 3.5])\n",
    "    ax.set_xticklabels(ax.get_xticks(), size=12)\n",
    "#     ax.set_xticklabels(ax.get_xticks().astype(int), size=12)\n",
    "    ax.set_yticks([0,1,2,3,4])\n",
    "    ax.set_yticklabels(['Wake', \"N1\", \"N2\", \"N3\", \"REM\"],size=12)\n",
    "    ax.set_xlabel(\"Time Sleeping (Hours)\", size=12)\n",
    "    ax.set_ylabel(\"Sleep Stage (AASM)\", size=12)\n",
    "    ax.spines['right'].set_visible(False)\n",
    "    ax.spines['top'].set_visible(False)\n",
    "    plt.tight_layout()\n",
    "    plt.show()"
   ]
  },
  {
   "cell_type": "code",
   "execution_count": null,
   "id": "ba8031c3",
   "metadata": {},
   "outputs": [],
   "source": [
    "metadata = dl.metadata\n",
    "metadata['in_patients'] = [i in patients for i in metadata.id.values]\n",
    "metadata = metadata[metadata.in_patients == True]\n",
    "display(metadata.sort_values(by='ahi', ascending=False)[['id', 'ahi']].dropna().head(20))"
   ]
  },
  {
   "cell_type": "code",
   "execution_count": null,
   "id": "e4dd524e",
   "metadata": {},
   "outputs": [],
   "source": [
    "pretty_hypno('3121')\n",
    "plt.savefig('/home/kkotzen/images/sleep_paper/fig-high-ahi.pdf', bbox_inches='tight',pad_inches = 0)"
   ]
  },
  {
   "cell_type": "markdown",
   "id": "3c5934f1",
   "metadata": {},
   "source": [
    "# Compare Models Boxplot"
   ]
  },
  {
   "cell_type": "code",
   "execution_count": null,
   "id": "9bb1181a",
   "metadata": {},
   "outputs": [],
   "source": [
    "fe = pd.read_excel(\"/home/kkotzen/tmp/results/578982118a07416da5ec73ecf4d2676d.xlsx\")\n",
    "dts = pd.read_excel(\"/home/kkotzen/tmp/results/f296a562b5fa472fbee35da5d49648a8.xlsx\")\n",
    "wav = pd.read_excel(\"/home/kkotzen/tmp/results/66c27d8a81ee4a1e87ee3a4f8b0a14b8.xlsx\")\n",
    "\n",
    "df = pd.DataFrame({\"BM-FE\": fe[\"Kappa:\"].values, \"BM-DTS\": dts[\"Kappa:\"].values, \"SleepPPG\": wav[\"Kappa:\"].values})\n",
    "fig, ax = plt.subplots(1,1, figsize=(3.5,2))\n",
    "df.boxplot(ax = ax, showfliers=False)\n",
    "plt.grid(False)\n",
    "ax.set_xlabel('Model')\n",
    "ax.set_ylabel(\"κ\")\n",
    "ax.spines['right'].set_visible(False)\n",
    "ax.spines['top'].set_visible(False)\n",
    "plt.tight_layout()\n",
    "plt.savefig('/home/kkotzen/images/sleep_paper/fig-performance_boxplot.pdf', bbox_inches='tight',pad_inches = 0)"
   ]
  },
  {
   "cell_type": "markdown",
   "id": "161f0f48",
   "metadata": {},
   "source": [
    "# Plot patients vs performance"
   ]
  },
  {
   "cell_type": "code",
   "execution_count": null,
   "id": "026fd047",
   "metadata": {},
   "outputs": [],
   "source": [
    "# %matplotlib widget\n",
    "import pandas as pd\n",
    "import matplotlib.pyplot as plt\n",
    "import numpy as np\n",
    "\n",
    "from matplotlib import rcParams\n",
    "\n",
    "labelsize = 10\n",
    "rcParams['xtick.labelsize'] = labelsize\n",
    "rcParams['ytick.labelsize'] = labelsize \n",
    "rcParams['axes.labelsize'] = labelsize \n",
    "plt.rcParams[\"figure.figsize\"] = (3.5,3)"
   ]
  },
  {
   "cell_type": "code",
   "execution_count": null,
   "id": "90686374",
   "metadata": {},
   "outputs": [],
   "source": [
    "#Add the variance\n",
    "#USe the linked boxplot here!\n",
    "\n",
    "x = [10,30,50,90,120,150,240]\n",
    "y = [0.687, 0.695,0.71,0.719,0.729, 0.735,0.736]\n",
    "\n",
    "fig, ax = plt.subplots(1,1, figsize=(3.5,2))\n",
    "\n",
    "plt.plot(x, y, 'o')\n",
    "plt.plot(x,y)      \n",
    "ax.set_xlabel('Number of patients from CFS-train.')\n",
    "ax.set_ylabel(\"κ\")\n",
    "ax.spines['right'].set_visible(False)\n",
    "ax.spines['top'].set_visible(False)\n",
    "ax.set_ylim([0.65,0.75])\n",
    "plt.tight_layout()\n",
    "plt.savefig('/home/kkotzen/images/sleep_paper/fig-transfer-learning-performance-by-patientst.pdf', bbox_inches='tight',pad_inches = 0)"
   ]
  },
  {
   "cell_type": "code",
   "execution_count": null,
   "id": "ccc775d5",
   "metadata": {},
   "outputs": [],
   "source": [
    "df = pd.DataFrame(np.zeros((100,100)))"
   ]
  },
  {
   "cell_type": "code",
   "execution_count": null,
   "id": "63b66297",
   "metadata": {},
   "outputs": [],
   "source": [
    "df"
   ]
  },
  {
   "cell_type": "code",
   "execution_count": 66,
   "id": "e9bd655f",
   "metadata": {},
   "outputs": [],
   "source": [
    "from matplotlib import colors\n",
    "import matplotlib.pyplot as plt\n",
    "import numpy as np\n",
    "import seaborn as sns\n",
    "from sklearn.metrics import cohen_kappa_score, confusion_matrix\n",
    "\n",
    "\n",
    "def background_gradient(s, m, M, cmap='PuBu', low=0, high=0):\n",
    "    rng = M - m\n",
    "    norm = colors.Normalize(m - (rng * low),\n",
    "                            M + (rng * high))\n",
    "    normed = norm(s.values)\n",
    "    c = [colors.rgb2hex(x) for x in plt.cm.get_cmap(cmap)(normed)]\n",
    "    return ['background-color: %s' % color for color in c]\n",
    "\n",
    "\n",
    "def make_confusion_matrix(cf=[], y_reference=[], y_predicted=[],\n",
    "                          group_names=None,\n",
    "                          categories='auto',\n",
    "                          count=True,\n",
    "                          percent=True,\n",
    "                          cbar=False,\n",
    "                          xyticks=True,\n",
    "                          xyplotlabels=True,\n",
    "                          sum_stats=True,\n",
    "                          precision_recall=True,\n",
    "                          figsize=None,\n",
    "                          cmap='Blues',\n",
    "                          title=None):\n",
    "    '''\n",
    "    Modified from: https://github.com/DTrimarchi10/confusion_matrix/blob/master/cf_matrix.py\n",
    "    This function will make a pretty plot of an sklearn Confusion Matrix cm using a Seaborn heatmap visualization.\n",
    "    Arguments\n",
    "    ---------\n",
    "    cf:            confusion matrix to be passed in\n",
    "    y_reference:   Ground truth Labels\n",
    "    y_predicted:   Predicted Labels\n",
    "    group_names:   List of strings that represent the labels row by row to be shown in each square.\n",
    "    categories:    List of strings containing the categories to be displayed on the x,y axis. Default is 'auto'\n",
    "    count:         If True, show the raw number in the confusion matrix. Default is True.\n",
    "    normalize:     If True, show the proportions for each category. Default is True.\n",
    "    cbar:          If True, show the color bar. The cbar values are based off the values in the confusion matrix.\n",
    "                   Default is True.\n",
    "    xyticks:       If True, show x and y ticks. Default is True.\n",
    "    xyplotlabels:  If True, show 'True Label' and 'Predicted Label' on the figure. Default is True.\n",
    "    sum_stats:     If True, display summary statistics below the figure. Default is True.\n",
    "    figsize:       Tuple representing the figure size. Default will be the matplotlib rcParams value.\n",
    "    cmap:          Colormap of the values displayed from matplotlib.pyplot.cm. Default is 'Blues'\n",
    "                   See http://matplotlib.org/examples/color/colormaps_reference.html\n",
    "\n",
    "    title:         Title for the heatmap. Default is None.\n",
    "    '''\n",
    "\n",
    "    def kappa():\n",
    "        if len(y_predicted) > 0:\n",
    "            return cohen_kappa_score(y_reference, y_predicted)\n",
    "        else:\n",
    "            return None\n",
    "\n",
    "    def format_number(number):\n",
    "        if number < 1000:\n",
    "            return \"{0:0.0f}\".format(number)\n",
    "        elif number < 1000000:\n",
    "            return \"{0:0.00f}K\".format(number / 1000)\n",
    "        else:\n",
    "            return \"{0:0.00f}M\".format(number / 1000000)\n",
    "\n",
    "    # Generate the confusion matrix if it does not already exist\n",
    "    if len(cf) == 0:\n",
    "        if len(y_reference) == 0 or len(y_predicted) == 0:\n",
    "            raise ValueError(\n",
    "                \"You have to either specify a confusion matrix cf= or provide y_reference=y_reference and y_predicted=y_predicted.\")\n",
    "        try:\n",
    "            cf = confusion_matrix(y_reference, y_predicted)\n",
    "            cf_norm = confusion_matrix(y_reference, y_predicted, normalize='true')\n",
    "        except:\n",
    "            raise ValueError(\"Could not generate a confusion matrix from the y_reference and y_predicted provided.\")\n",
    "    else:\n",
    "        cf_norm = cf/cf.sum(axis=1)\n",
    "\n",
    "    # CODE TO GENERATE TEXT INSIDE EACH SQUARE\n",
    "    blanks = ['' for i in range(cf.size)]\n",
    "\n",
    "    if group_names and len(group_names) == cf.size:\n",
    "        group_labels = [\"{}\\n\".format(value) for value in group_names]\n",
    "    else:\n",
    "        group_labels = blanks\n",
    "\n",
    "    if count:\n",
    "        group_counts = [f\"{format_number(value)}\\n\" for value in cf.flatten()]\n",
    "    else:\n",
    "        group_counts = blanks\n",
    "\n",
    "    if percent:\n",
    "        group_percentages = [f\"{int(value*100)}%\" for value in cf_norm.flatten()]\n",
    "    else:\n",
    "        group_percentages = blanks\n",
    "\n",
    "    box_labels = [f\"{v1}{v2}{v3}\".strip() for v1, v2, v3 in zip(group_labels, group_counts, group_percentages)]\n",
    "    box_labels = np.asarray(box_labels).reshape(cf.shape[0], cf.shape[1])\n",
    "\n",
    "    # CODE TO GENERATE SUMMARY STATISTICS & TEXT FOR SUMMARY STATS\n",
    "    precision = np.diagonal(cf) / np.sum(cf, axis=0)\n",
    "    recall = np.diagonal(cf) / np.sum(cf, axis=1)\n",
    "    accuracy = np.trace(cf) / float(np.sum(cf))\n",
    "    count = np.sum(cf)\n",
    "\n",
    "    # SET FIGURE PARAMETERS ACCORDING TO OTHER ARGUMENTS\n",
    "    if figsize == None:\n",
    "        # Get default figure size if not set\n",
    "        figsize = plt.rcParams.get('figure.figsize')\n",
    "\n",
    "    if xyticks == False:\n",
    "        # Do not show categories if xyticks is False\n",
    "        categories = False\n",
    "\n",
    "    # MAKE THE HEATMAP VISUALIZATION\n",
    "    fig, ax = plt.subplots(1, 1, figsize=figsize)\n",
    "    sns.heatmap(cf, annot=box_labels, fmt=\"\", cmap=cmap, cbar=cbar, xticklabels=categories, yticklabels=categories,\n",
    "                ax=ax, annot_kws={\"fontsize\":12})\n",
    "    if xyplotlabels:\n",
    "        ax.set_ylabel('Reference')\n",
    "        ax.set_xlabel('Prediction')\n",
    "\n",
    "    if title:\n",
    "        fig.suptitle(title)\n",
    "\n",
    "    if precision_recall:\n",
    "        precision_ax = ax.secondary_xaxis('top')\n",
    "        precision_ax.set_xticks([0.5, 1.5, 2.5, 3.5], minor=False)\n",
    "        precision_labels = [f\"{int(v*100)}%\" for v in np.around(precision, decimals=2)]\n",
    "        precision_ax.set_xticklabels(precision_labels)\n",
    "        precision_ax.set_xlabel('PPV')\n",
    "\n",
    "        recall_ax = ax.secondary_yaxis('right')\n",
    "        recall_ax.set_yticks([0.5, 1.5, 2.5, 3.5], minor=False)\n",
    "        recall_labels = [f\"{int(v*100)}%\" for v in np.around(recall, decimals=2)]\n",
    "        recall_ax.set_yticklabels(recall_labels)\n",
    "        recall_ax.set_ylabel('Sensativity')\n",
    "        recall_ax.spines['right'].set_visible(False)\n",
    "        recall_ax.spines['top'].set_visible(False)\n",
    "        pass\n",
    "\n",
    "    if sum_stats:\n",
    "        stats_text = \"ACC={:0.3f}, k={:0.3f}, Count={}\".format(\n",
    "            accuracy, kappa(), format_number(count))\n",
    "\n",
    "        ax.set_title(stats_text)\n",
    "\n",
    "    return  fig\n",
    "\n"
   ]
  },
  {
   "cell_type": "code",
   "execution_count": 67,
   "id": "03175250",
   "metadata": {},
   "outputs": [],
   "source": [
    "probs_file_fold = {}\n",
    "probs_file_fold[1] = \"/home/kkotzen/tmp/results/122d439c57bc49c19ed109e0ab57718f.pkl\"\n",
    "probs_file_fold[2] = \"/home/kkotzen/tmp/results/122d439c57bc49c19ed109e0ab57718f.pkl\"\n",
    "probs_file_fold[3] = \"/home/kkotzen/tmp/results/122d439c57bc49c19ed109e0ab57718f.pkl\"\n",
    "probs_file_fold[4] = \"/home/kkotzen/tmp/results/122d439c57bc49c19ed109e0ab57718f.pkl\"\n",
    "\n",
    "\n",
    "sleep_predictions = np.array([])\n",
    "sleep_labels = np.array([])\n",
    "for i in range(4):\n",
    "    predictions = pickle.load(open(probs_file_fold[i+1], \"rb\"))\n",
    "    for i,patient in enumerate(predictions['patients']):\n",
    "        sleep_predictions = np.append(sleep_predictions, [p for p in predictions[\"predictions\"][i]])\n",
    "        sleep_labels = np.append(sleep_labels, [p for p in predictions[\"labels\"][i]])\n",
    "\n",
    "    "
   ]
  },
  {
   "cell_type": "code",
   "execution_count": 69,
   "id": "b87bdabb",
   "metadata": {},
   "outputs": [
    {
     "data": {
      "application/vnd.jupyter.widget-view+json": {
       "model_id": "8d24533501ab4451947f40c8c0513563",
       "version_major": 2,
       "version_minor": 0
      },
      "text/plain": [
       "Canvas(toolbar=Toolbar(toolitems=[('Home', 'Reset original view', 'home', 'home'), ('Back', 'Back to previous …"
      ]
     },
     "metadata": {},
     "output_type": "display_data"
    }
   ],
   "source": [
    "make_confusion_matrix(y_reference=sleep_labels, y_predicted=sleep_predictions,categories=['Wake', 'Light', 'Deep', 'REM'], figsize=(5, 4), cbar=False, title=False, sum_stats=True)\n",
    "plt.savefig('/home/kkotzen/images/sleep_paper/fig-confusion-matrix-TL-CFS.pdf', bbox_inches='tight',pad_inches = 0)"
   ]
  },
  {
   "cell_type": "code",
   "execution_count": 60,
   "id": "0c566c25",
   "metadata": {},
   "outputs": [
    {
     "data": {
      "application/vnd.jupyter.widget-view+json": {
       "model_id": "8a398734ba7a4a439f7d8310c1f586b2",
       "version_major": 2,
       "version_minor": 0
      },
      "text/plain": [
       "Canvas(toolbar=Toolbar(toolitems=[('Home', 'Reset original view', 'home', 'home'), ('Back', 'Back to previous …"
      ]
     },
     "metadata": {},
     "output_type": "display_data"
    },
    {
     "data": {
      "image/png": "[encoded data removed]",
      "text/plain": [
       "<Figure size 500x400 with 1 Axes>"
      ]
     },
     "execution_count": 60,
     "metadata": {},
     "output_type": "execute_result"
    }
   ],
   "source": []
  },
  {
   "cell_type": "markdown",
   "id": "0b0cf805",
   "metadata": {},
   "source": [
    "# Plot some waveforms"
   ]
  },
  {
   "cell_type": "code",
   "execution_count": 20,
   "id": "fb7048aa",
   "metadata": {},
   "outputs": [],
   "source": [
    "import numpy as np\n",
    "dl = MESAParser()\n",
    "\n",
    "ppg1 = dl.load_signal('5073', 'PPG')\n"
   ]
  },
  {
   "cell_type": "code",
   "execution_count": 28,
   "id": "70a4a7e6",
   "metadata": {},
   "outputs": [
    {
     "data": {
      "application/vnd.jupyter.widget-view+json": {
       "model_id": "987341dccc1e4a1f9f124a5ee43cb560",
       "version_major": 2,
       "version_minor": 0
      },
      "text/plain": [
       "Canvas(toolbar=Toolbar(toolitems=[('Home', 'Reset original view', 'home', 'home'), ('Back', 'Back to previous …"
      ]
     },
     "metadata": {},
     "output_type": "display_data"
    },
    {
     "name": "stdout",
     "output_type": "stream",
     "text": [
      "0.06103428957390643\n"
     ]
    }
   ],
   "source": [
    "max_level = np.quantile(np.abs(ppg), 0.99)\n",
    "signal_99 = ppg[np.abs(ppg) < max_level]\n",
    "rms = np.sqrt(np.sum(np.square(signal_99))/len(signal_99))\n",
    "ppg_rms = ppg/(rms*10)\n",
    "plt.close('all')\n",
    "# plt.plot(ppg)\n",
    "plt.plot(ppg_rms)\n",
    "print(rms)"
   ]
  },
  {
   "cell_type": "code",
   "execution_count": null,
   "id": "449ba6ff",
   "metadata": {},
   "outputs": [],
   "source": [
    "plt.close('all')\n",
    "ax = plt.subplot(2,1,1)\n",
    "plt.plot(ppg)\n",
    "ax.set_xticks([])\n",
    "ax.set_yticks([])\n",
    "\n",
    "ax2 = plt.subplot(2,1,2, sharex=ax)\n",
    "plt.plot(ecg)\n",
    "ax2.set_xticks([])\n",
    "ax2.set_yticks([])\n"
   ]
  },
  {
   "cell_type": "code",
   "execution_count": null,
   "id": "7f21fc44",
   "metadata": {},
   "outputs": [],
   "source": []
  }
 ],
 "metadata": {
  "kernelspec": {
   "display_name": "Python 3 (ipykernel)",
   "language": "python",
   "name": "python3"
  },
  "language_info": {
   "codemirror_mode": {
    "name": "ipython",
    "version": 3
   },
   "file_extension": ".py",
   "mimetype": "text/x-python",
   "name": "python",
   "nbconvert_exporter": "python",
   "pygments_lexer": "ipython3",
   "version": "3.9.5"
  }
 },
 "nbformat": 4,
 "nbformat_minor": 5
}
