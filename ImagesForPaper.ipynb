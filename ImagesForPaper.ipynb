{
 "cells": [
  {
   "cell_type": "code",
   "execution_count": 38,
   "metadata": {},
   "outputs": [
    {
     "name": "stdout",
     "output_type": "stream",
     "text": [
      "The autoreload extension is already loaded. To reload it, use:\n",
      "  %reload_ext autoreload\n"
     ]
    }
   ],
   "source": [
    "%load_ext autoreload\n",
    "%autoreload 2\n",
    "%matplotlib widget\n",
    "import matplotlib.pyplot as plt\n",
    "import numpy as np\n",
    "from scipy import signal, interpolate\n",
    "import copy\n",
    "import os \n",
    "import tqdm\n",
    "import pandas as pd\n",
    "os.chdir('/home/kkotzen/research/PPG_sleepstaging_orion3/')\n",
    "from pathlib import Path\n",
    "from src.parsing.MESAParser import MESAParser\n"
   ]
  },
  {
   "cell_type": "code",
   "execution_count": 2,
   "metadata": {},
   "outputs": [],
   "source": [
    "dl = MESAParser()\n",
    "patients = ['6632'] #dl.database_all_patient_IDs\n",
    "\n",
    "ppg = dl.load_signal(patients[0], 'Pleth')\n",
    "ecg = dl.load_signal(patients[0], 'EKG')\n",
    "\n",
    "ecg_peaks = dl.load_annotation(patients[0], 'ECG', 'epltd0', 'Peaks').astype(int)\n",
    "valid_ecg_peaks = dl.load_annotation(patients[0], 'ECG', 'rpoint', 'Peaks').astype(int)\n",
    "ecg_peaks = ecg_peaks[ecg_peaks < valid_ecg_peaks[-1]]\n",
    "ecg_peaks = ecg_peaks\n",
    "ecg_quality = dl.load_quality(patients[0], 'EKG')\n",
    "\n",
    "ppg_peaks = dl.load_annotation(patients[0], 'Pleth', 'Aboy', 'Peaks')\n",
    "\n",
    "#Limit them to the reference ECG\n",
    "ppg_peaks = ppg_peaks[ppg_peaks<ecg_peaks[-1]]\n",
    "\n",
    "sleep = dl.load_sleep(patients[0])\n",
    "sleep[sleep==4]=3"
   ]
  },
  {
   "cell_type": "code",
   "execution_count": null,
   "metadata": {},
   "outputs": [],
   "source": [
    "def duplicate(x):\n",
    "    return np.array([[x_]*2 for x_ in x]).flatten()\n",
    "\n",
    "def hold_line(t, x):\n",
    "    t = [i for i in t]\n",
    "    x = [i for i in x]\n",
    "    \n",
    "    if len(t) - len(x) == 0:\n",
    "            t.append(t[-1]+t[-1]-t[-2])\n",
    "    if len(t)-len(x) != 1:\n",
    "            raise ValueError()\n",
    "            \n",
    "    t_ = duplicate(t)[1:-1]\n",
    "    x_ = duplicate(x)\n",
    "    return t_, x_\n",
    "\n",
    "\n",
    "def plot_hypnogram(sleep_stages, ax1, ticks={0: 'W', 1: 'L', 2:'D', 3:'R'}):\n",
    "\n",
    "    t_, label_ = hold_line(np.arange(sleep_stages.shape[0])*30, sleep_stages)\n",
    "    ax1.plot(t_, label_, color='black', label='Labeled sleep stage')\n",
    "    ax1.set_ylabel('Sleep Stage', fontsize=10)\n",
    "    ax1.set_yticks(list(ticks.keys()))\n",
    "    ax1.set_yticklabels(list(ticks.values()), rotation='vertical')\n",
    "    \n",
    "\n",
    "def plot_hypnogram_seconds(sleep_stages, ax1, ticks={0: 'W', 1: 'L', 2:'D', 3:'R'}):\n",
    "\n",
    "    t_, label_ = hold_line(np.arange(0, sleep_stages.shape[0]/(60*60)*30, 30/(60*60)), sleep_stages)\n",
    "    ax1.plot(t_, label_, color='black', label='Labeled sleep stage')\n",
    "    ax1.set_ylabel('Sleep Stage', fontsize=10)\n",
    "    ax1.set_xlabel('Time (Hour)', fontsize=10)\n",
    "\n",
    "    ax1.set_yticks(list(ticks.keys()))\n",
    "    ax1.set_yticklabels(list(ticks.values()), rotation='vertical')\n",
    "    plt.tight_layout()"
   ]
  },
  {
   "cell_type": "code",
   "execution_count": null,
   "metadata": {},
   "outputs": [],
   "source": [
    "dl = SpanishParser()\n",
    "patient = dl.database_all_patient_IDs[5]\n",
    "sleep = dl.load_sleep(patient)[0:7*2*60]\n",
    "sleep[sleep > 3] =0\n",
    "plt.close(\"all\")\n",
    "plt.figure(figsize=(5.93, 1.6))\n",
    "ax1=plt.subplot(1,1,1)\n",
    "plot_hypnogram_seconds(sleep, ax1)\n",
    "ax1.spines['right'].set_visible(False)\n",
    "ax1.spines['top'].set_visible(False)\n",
    "plt.savefig(\"./notebooks/Images/example_normal_hypnogram.png\")"
   ]
  },
  {
   "cell_type": "code",
   "execution_count": null,
   "metadata": {},
   "outputs": [],
   "source": [
    "dl = MESAParser()\n",
    "patient = '0527'# dl.database_all_patient_IDs[i+40]\n",
    "sleep = dl.load_sleep(patient) [0:7*2*60]\n",
    "sleep[sleep==2]=1\n",
    "sleep[sleep==3]=2\n",
    "sleep[sleep==4]=3\n",
    "sleep[sleep > 3] =0\n",
    "plt.close(\"all\")\n",
    "plt.figure(figsize=(5.93, 1.6))\n",
    "ax1=plt.subplot(1,1,1)\n",
    "plot_hypnogram_seconds(sleep, ax1)\n",
    "ax1.spines['right'].set_visible(False)\n",
    "ax1.spines['top'].set_visible(False)\n",
    "plt.savefig(f\"./notebooks/Images/example_irregular_hypnogram.png\")"
   ]
  },
  {
   "cell_type": "code",
   "execution_count": null,
   "metadata": {},
   "outputs": [],
   "source": [
    "\n",
    "\n",
    "\n",
    "t_ppg = np.arange(0, len(ppg)/256, 1/256)\n",
    "\n",
    "plt.close(\"all\")\n",
    "cm = 1/2.54  # centimeters in inches\n",
    "plt.figure(figsize=(7.9*cm, 5*cm))\n",
    "ax1=plt.subplot(2,1,1)\n",
    "plot_hypnogram(sleep, ax1)\n",
    "ax1.spines['right'].set_visible(False)\n",
    "ax1.spines['top'].set_visible(False)\n",
    "\n",
    "ax2=plt.subplot(2,1,2, sharex=ax1)\n",
    "plt.plot(t_ppg, ppg, color='black')\n",
    "plt.xlabel(\"Time (Seconds)\", fontsize=10)\n",
    "plt.ylabel('PPG (mV)', fontsize=10)\n",
    "ax2.spines['right'].set_visible(False)\n",
    "ax2.spines['top'].set_visible(False)\n",
    "ax2.axes.xaxis.set_ticklabels([])\n",
    "ax2.axes.yaxis.set_ticklabels([])\n",
    "\n",
    "plt.xticks(fontsize= 8)\n",
    "plt.yticks(fontsize= 8)\n",
    "plt.tight_layout()"
   ]
  },
  {
   "cell_type": "code",
   "execution_count": null,
   "metadata": {},
   "outputs": [],
   "source": [
    "plt.close(\"all\")\n",
    "cm = 1/2.54  # centimeters in inches\n",
    "plt.figure(figsize=(7.9*cm, 5*cm))\n",
    "ax1=plt.subplot(2,1,1)\n",
    "plt.plot(ecg)\n",
    "plt.ylabel('ECG (mV)', fontsize=8)\n",
    "\n",
    "ax1.spines['right'].set_visible(False)\n",
    "ax1.spines['top'].set_visible(False)\n",
    "ax1.axes.xaxis.set_ticklabels([])\n",
    "ax1.axes.yaxis.set_ticklabels([])\n",
    "\n",
    "ax2=plt.subplot(2,1,2, sharex=ax1)\n",
    "plt.plot(ppg)\n",
    "plt.xlabel(\"Time (Seconds)\", fontsize=8)\n",
    "plt.ylabel('PPG (mV)', fontsize=8)\n",
    "\n",
    "ax2.spines['right'].set_visible(False)\n",
    "ax2.spines['top'].set_visible(False)\n",
    "ax2.axes.xaxis.set_ticklabels([])\n",
    "ax2.axes.yaxis.set_ticklabels([])\n",
    "\n",
    "plt.xticks(fontsize= 8)\n",
    "plt.yticks(fontsize= 8)\n",
    "plt.tight_layout()"
   ]
  },
  {
   "cell_type": "code",
   "execution_count": null,
   "metadata": {},
   "outputs": [],
   "source": [
    "plt.savefig(\"./notebooks/Images/PTT_from_ecg.svg\")"
   ]
  },
  {
   "cell_type": "code",
   "execution_count": null,
   "metadata": {},
   "outputs": [],
   "source": [
    "from matplotlib import gridspec\n",
    "\n",
    "plt.close('all')\n",
    "t = np.arange(0, len(ecg)/256, 1/256)\n",
    "\n",
    "fig = plt.figure(figsize=(8, 6)) \n",
    "gs = gridspec.GridSpec(2, 1, height_ratios=[1,3]) \n",
    "ax0 = plt.subplot(gs[1])\n",
    "ax0.plot(t, ecg)\n",
    "ax0.plot(valid_ecg_peaks/256, 2*np.ones_like(valid_ecg_peaks))\n",
    "ax0.plot(valid_ecg_peaks/256, ecg[valid_ecg_peaks], 'o')\n",
    "ax0.plot(valid_ecg_peaks/256, 2*np.ones_like(valid_ecg_peaks), '>')\n",
    "ax0.set_xlabel('Time (seconds)')\n",
    "ax0.set_ylabel('Amplitude')\n",
    "# ax0.set_yticks([])\n",
    "# ax0.set_xticks([])\n",
    "\n",
    "ax1 = plt.subplot(gs[0], sharex=ax0)\n",
    "ax1.plot(np.gradient(valid_ecg_peaks)/256)\n",
    "ax1.set_ylabel('R-R Interval (seconds)')\n",
    "# ax1.set_yticks([])"
   ]
  },
  {
   "cell_type": "code",
   "execution_count": null,
   "metadata": {},
   "outputs": [],
   "source": [
    "start, stop = 256*2800, 256*3100\n",
    "\n",
    "ecg_peaks_ = valid_ecg_peaks[(valid_ecg_peaks > start)*(valid_ecg_peaks < stop)]\n",
    "ppg_peaks_ = ppg_peaks[(ppg_peaks > start)*(ppg_peaks < stop)]\n",
    "\n",
    "IHR = (np.gradient(ecg_peaks_)/256)\n",
    "IPR =  (np.gradient(ppg_peaks_)/256)\n",
    "\n",
    "d = np.arange(start+256*5, stop-256*5, 128)\n",
    "t = np.arange(0, len(d)/2, 0.5)\n",
    "IHR_cont = interpolate.interp1d(ecg_peaks_, IHR)\n",
    "IPR_cont = interpolate.interp1d(ppg_peaks_-120, IPR)\n",
    "\n",
    "IHR = IHR_cont(d)\n",
    "IPR = IPR_cont(d)\n",
    "\n",
    "plt.close(\"all\")\n",
    "fig, ax = plt.subplots()\n",
    "ax.spines['right'].set_visible(False)\n",
    "ax.spines['top'].set_visible(False)\n",
    "ax.plot(t,IHR, label='HR (ECG derived)')\n",
    "ax.plot(t,IPR, label='PR (PPG derived)', alpha=0.7)\n",
    "ax.set_xlabel(\"Time (seconds)\")\n",
    "ax.set_ylabel('Interval (seconds)')\n",
    "ax.legend(loc='upper right')\n",
    "\n",
    "fig, ax = plt.subplots()\n",
    "ax.psd(IHR, NFFT=128, Fs=2, label=\"HR (ECG derived)\")\n",
    "ax.psd(IPR, NFFT=128, Fs=2, label=\"PR (PPG derived)\")\n",
    "ax.grid(False)\n",
    "ax.spines['right'].set_visible(False)\n",
    "ax.spines['top'].set_visible(False)\n",
    "ax.legend(loc='upper right')"
   ]
  },
  {
   "cell_type": "code",
   "execution_count": null,
   "metadata": {},
   "outputs": [],
   "source": [
    "import numpy as np\n",
    "def genSine(f0, fs, dur):\n",
    "    t = np.arange(dur)\n",
    "    sinusoid = np.sin(2*np.pi*t*(f0/fs))\n",
    "    return sinusoid\n",
    "\n",
    "dl = MESAParser()\n",
    "patients = ['0002'] #dl.database_all_patient_IDs\n",
    "\n",
    "ppg = dl.load_signal(patients[0], 'Pleth')\n",
    "\n",
    "\n",
    "fifty_hz = genSine(50, 256, len(ppg))\n",
    "ppg_noisy = ppg+0.0125*fifty_hz\n",
    "plt.close(\"all\")\n",
    "plt.figure(figsize=(2.9,1.6))\n",
    "plt.plot(ppg_noisy, label='Noisy')\n",
    "plt.plot(ppg, label='Filtered')\n",
    "plt.ylabel('PPG (N/A)', fontsize=10)\n",
    "plt.xlabel(\"Time (Seconds)\",fontsize=10)\n",
    "plt.legend(loc='upper right', fontsize=6)\n",
    "ax = plt.gca()\n",
    "ax.spines['right'].set_visible(False)\n",
    "ax.spines['top'].set_visible(False)\n",
    "ax.axes.xaxis.set_ticklabels([])\n",
    "ax.axes.yaxis.set_ticklabels([])\n",
    "plt.tight_layout()\n"
   ]
  },
  {
   "cell_type": "code",
   "execution_count": null,
   "metadata": {},
   "outputs": [],
   "source": [
    "plt.savefig(\"./notebooks/Images/powerline.png\")"
   ]
  },
  {
   "cell_type": "code",
   "execution_count": null,
   "metadata": {},
   "outputs": [],
   "source": [
    "dl = MESAParser()\n",
    "patients = ['0002'] #dl.database_all_patient_IDs\n",
    "\n",
    "ppg = dl.load_signal(patients[0], 'Pleth')\n",
    "\n",
    "plt.close(\"all\")\n",
    "plt.figure(figsize=(2.9,1.6))\n",
    "plt.plot(ppg)\n",
    "plt.ylabel('PPG (N/A)', fontsize=10)\n",
    "plt.xlabel(\"Time (Seconds)\",fontsize=10)\n",
    "ax = plt.gca()\n",
    "ax.spines['right'].set_visible(False)\n",
    "ax.spines['top'].set_visible(False)\n",
    "ax.axes.xaxis.set_ticklabels([])\n",
    "ax.axes.yaxis.set_ticklabels([])\n",
    "plt.tight_layout()"
   ]
  },
  {
   "cell_type": "code",
   "execution_count": null,
   "metadata": {},
   "outputs": [],
   "source": [
    "plt.savefig(\"./notebooks/Images/motion.png\")"
   ]
  },
  {
   "cell_type": "code",
   "execution_count": null,
   "metadata": {},
   "outputs": [],
   "source": [
    "import numpy as np\n",
    "def genSine(f0, fs, dur):\n",
    "    t = np.arange(dur)\n",
    "    sinusoid = np.sin(2*np.pi*t*(f0/fs))\n",
    "    return sinusoid\n",
    "\n",
    "dl = MESAParser()\n",
    "patients = ['0002'] #dl.database_all_patient_IDs\n",
    "ppg = dl.load_signal(patients[0], 'ECG')\n",
    "peaks = dl.load_annotation(patients[0], 'Pleth', 'Aboy', 'Peaks').astype(int)\n",
    "ecg_peaks = dl.load_annotation(patients[0], 'EKG', 'epltd0', 'Peaks').astype(int)\n",
    "valid_ecg_peaks = dl.load_annotation(patients[0], 'EKG', 'rpoint', 'Peaks').astype(int)\n",
    "ecg_peaks = ecg_peaks[ecg_peaks < valid_ecg_peaks[-1]]\n",
    "ecg_peaks = ecg_peaks\n",
    "\n",
    "plt.close(\"all\")\n",
    "plt.figure(figsize=(2.9,1.6))\n",
    "plt.plot(ppg, label='Signal Artifacts')\n",
    "plt.plot(peaks, ppg[peaks], 'x')\n",
    "plt.plot(ecg_peaks+100, ppg[ecg_peaks+100], '*')\n",
    "plt.ylabel('PPG Amplitude(N/A)')\n",
    "plt.xlabel(\"Time (Seconds)\")\n",
    "ax = plt.gca()\n",
    "ax.spines['right'].set_visible(False)\n",
    "ax.spines['top'].set_visible(False)\n",
    "ax.axes.xaxis.set_ticklabels([])\n",
    "ax.axes.yaxis.set_ticklabels([])\n",
    "plt.tight_layout()"
   ]
  },
  {
   "cell_type": "code",
   "execution_count": 79,
   "metadata": {},
   "outputs": [
    {
     "name": "stdout",
     "output_type": "stream",
     "text": [
      "The autoreload extension is already loaded. To reload it, use:\n",
      "  %reload_ext autoreload\n"
     ]
    },
    {
     "data": {
      "application/vnd.jupyter.widget-view+json": {
       "model_id": "4e7577091e2c4c1baaa07e87622ae8b0",
       "version_major": 2,
       "version_minor": 0
      },
      "text/plain": [
       "Canvas(toolbar=Toolbar(toolitems=[('Home', 'Reset original view', 'home', 'home'), ('Back', 'Back to previous …"
      ]
     },
     "metadata": {},
     "output_type": "display_data"
    }
   ],
   "source": [
    "%load_ext autoreload\n",
    "%autoreload 2\n",
    "%matplotlib widget\n",
    "import matplotlib.pyplot as plt\n",
    "import numpy as np\n",
    "import os \n",
    "os.chdir('/home/kkotzen/research/PPG_sleepstaging/')\n",
    "from pathlib import Path\n",
    "from src.parsing.MESAParser import MESAParser\n",
    "\n",
    "from scipy import signal, stats\n",
    "\n",
    "def butter_bandpass(lowcut, highcut, fs, order=4):\n",
    "    nyq = 0.5 * fs\n",
    "    low = lowcut / nyq\n",
    "    high = highcut / nyq\n",
    "    sos = signal.butter(order, [low, high], btype='band', output='sos')\n",
    "    return sos\n",
    "\n",
    "def butter_bandpass_filter(data, lowcut, highcut, fs, order=4):\n",
    "    sos = butter_bandpass(lowcut, highcut, fs, order=order)\n",
    "    y = signal.sosfiltfilt(sos, data)\n",
    "    return y\n",
    "\n",
    "def standardize_signal(data):\n",
    "    return stats.zscore(data.astype(np.float32)).astype(np.float16)\n",
    "\n",
    "fs = 256\n",
    "highcut = 8\n",
    "lowcut = 0.5\n",
    "order=8\n",
    "\n",
    "plt.close(\"all\")\n",
    "plt.figure(1, figsize=(2.9,1.6))\n",
    "plt.clf()\n",
    "order_words = {2: \"2nd\", 4: \"4th\", 8: \"8th\"}\n",
    "\n",
    "order=8\n",
    "sos = butter_bandpass(lowcut, highcut, fs, order=order)\n",
    "w, h = signal.sosfreqz(sos, worN=128)\n",
    "plt.plot((fs * 0.5 / np.pi) * w, 20 * np.log10(abs(h)+0.000001), label=f\"Butter {order_words[order]} order\")\n",
    "    \n",
    "plt.xlabel('Frequency (Hz)', fontsize=10)\n",
    "plt.ylabel('Gain (dB)', fontsize=10)\n",
    "plt.xlim((0,12))\n",
    "plt.ylim((-40, 2.5))\n",
    "ax = plt.gca()\n",
    "ax.spines['right'].set_visible(False)\n",
    "ax.spines['top'].set_visible(False)\n",
    "plt.tight_layout()\n",
    "plt.savefig(\"/home/kkotzen/images/thesis/bandpass_filter_frequency.png\")"
   ]
  },
  {
   "cell_type": "code",
   "execution_count": 66,
   "metadata": {},
   "outputs": [
    {
     "data": {
      "application/vnd.jupyter.widget-view+json": {
       "model_id": "219d6b9f50b3437080561a8edf339cfb",
       "version_major": 2,
       "version_minor": 0
      },
      "text/plain": [
       "Canvas(toolbar=Toolbar(toolitems=[('Home', 'Reset original view', 'home', 'home'), ('Back', 'Back to previous …"
      ]
     },
     "metadata": {},
     "output_type": "display_data"
    }
   ],
   "source": [
    "ppg_filt = signal.sosfiltfilt(sos, ppg)\n",
    "\n",
    "plt.close('all')\n",
    "plt.figure(figsize=(2.9,1.6))\n",
    "plt.psd(10*ppg, NFFT=2056, Fs=256, label='Raw')\n",
    "plt.psd(10*ppg_filt, NFFT=2056, Fs=256, label='Filtered')\n",
    "plt.xlim([0,15])\n",
    "plt.ylim([-50,10])\n",
    "ax = plt.gca()\n",
    "ax.spines['right'].set_visible(False)\n",
    "ax.spines['top'].set_visible(False)\n",
    "plt.ylabel(\"PSD(dB/Hz)\")\n",
    "plt.xlabel(\"Frequency(Hz)\")\n",
    "plt.tight_layout()\n",
    "plt.grid(False)\n",
    "plt.legend(fontsize=6)\n",
    "plt.savefig(\"/home/kkotzen/images/thesis/bandpass_psd.png\")"
   ]
  },
  {
   "cell_type": "code",
   "execution_count": 63,
   "metadata": {},
   "outputs": [
    {
     "data": {
      "application/vnd.jupyter.widget-view+json": {
       "model_id": "036a247809d44fd3bc8a2078e76164cb",
       "version_major": 2,
       "version_minor": 0
      },
      "text/plain": [
       "Canvas(toolbar=Toolbar(toolitems=[('Home', 'Reset original view', 'home', 'home'), ('Back', 'Back to previous …"
      ]
     },
     "metadata": {},
     "output_type": "display_data"
    }
   ],
   "source": [
    "plt.close('all')\n",
    "plt.figure(figsize=(5.9,1.8))\n",
    "x = 120\n",
    "plt.plot(ppg[256*60*x:int(256*60*(x+0.125))], label='Raw')\n",
    "plt.plot(ppg_filt[256*60*x:int(256*60*(x+0.125))], label='Filtered')\n",
    "ax = plt.gca()\n",
    "ax.spines['right'].set_visible(False)\n",
    "ax.spines['top'].set_visible(False)\n",
    "ax.axes.xaxis.set_ticklabels([0,1,2,3,4,5,6,7,8,9])\n",
    "ax.axes.yaxis.set_ticklabels([])\n",
    "plt.ylabel(\"PPG (N/A)\", fontsize=10)\n",
    "plt.xlabel(\"Time (seconds)\", fontsize=10)\n",
    "plt.tight_layout()\n",
    "plt.grid(False)\n",
    "leg = plt.legend(loc='upper right', fontsize=6)\n",
    "leg.get_frame().set_linewidth(0.0)\n",
    "plt.savefig(\"/home/kkotzen/images/thesis/bandpass_filtered_unfiltered.png\")"
   ]
  },
  {
   "cell_type": "code",
   "execution_count": 108,
   "metadata": {},
   "outputs": [
    {
     "data": {
      "application/vnd.jupyter.widget-view+json": {
       "model_id": "8d60672017ad4ccfb0d85955e0bbc9bd",
       "version_major": 2,
       "version_minor": 0
      },
      "text/plain": [
       "Canvas(toolbar=Toolbar(toolitems=[('Home', 'Reset original view', 'home', 'home'), ('Back', 'Back to previous …"
      ]
     },
     "metadata": {},
     "output_type": "display_data"
    }
   ],
   "source": [
    "def cheby_lowpass_sos(highcut, fs, order=8):\n",
    "    nyq = 0.5 * fs\n",
    "    high = highcut / nyq\n",
    "    sos = signal.cheby2(order, 40, high, btype='lowpass', output='sos')\n",
    "    return sos\n",
    "\n",
    "\n",
    "fs = 256\n",
    "highcut = 8\n",
    "order=8\n",
    "\n",
    "plt.close(\"all\")\n",
    "plt.figure(1, figsize=(2.9,1.6))\n",
    "plt.clf()\n",
    "\n",
    "order=8\n",
    "sos = cheby_lowpass_sos(highcut, fs, order=order)\n",
    "w, h = signal.sosfreqz(sos, worN=128)\n",
    "plt.plot((fs * 0.5 / np.pi) * w, 20 * np.log10(abs(h)+0.000001))\n",
    "    \n",
    "plt.xlabel('Frequency (Hz)', fontsize=10)\n",
    "plt.ylabel('Gain (dB)', fontsize=10)\n",
    "plt.xlim((0,12))\n",
    "plt.ylim((-40, 2.5))\n",
    "ax = plt.gca()\n",
    "ax.spines['right'].set_visible(False)\n",
    "ax.spines['top'].set_visible(False)\n",
    "plt.tight_layout()\n",
    "plt.savefig(\"/home/kkotzen/images/thesis/lowcut_filter_frequency.png\")"
   ]
  },
  {
   "cell_type": "code",
   "execution_count": 107,
   "metadata": {},
   "outputs": [
    {
     "data": {
      "application/vnd.jupyter.widget-view+json": {
       "model_id": "6f5f8cbd2fc94c80831f9cc333310bdb",
       "version_major": 2,
       "version_minor": 0
      },
      "text/plain": [
       "Canvas(toolbar=Toolbar(toolitems=[('Home', 'Reset original view', 'home', 'home'), ('Back', 'Back to previous …"
      ]
     },
     "metadata": {},
     "output_type": "display_data"
    }
   ],
   "source": [
    "ppg_filt = signal.sosfiltfilt(sos, ppg)\n",
    "\n",
    "plt.close('all')\n",
    "plt.figure(figsize=(2.9,1.6))\n",
    "plt.psd(10*ppg, NFFT=2056, Fs=256, label='Raw')\n",
    "plt.psd(10*ppg_filt, NFFT=2056, Fs=256, label='Filtered')\n",
    "plt.xlim([0,15])\n",
    "plt.ylim([-50,10])\n",
    "ax = plt.gca()\n",
    "ax.spines['right'].set_visible(False)\n",
    "ax.spines['top'].set_visible(False)\n",
    "plt.ylabel(\"PSD(dB/Hz)\")\n",
    "plt.xlabel(\"Frequency(Hz)\")\n",
    "plt.tight_layout()\n",
    "plt.grid(False)\n",
    "plt.legend(fontsize=6)\n",
    "plt.savefig(\"/home/kkotzen/images/thesis/lowpass_psd.png\")"
   ]
  },
  {
   "cell_type": "code",
   "execution_count": 106,
   "metadata": {},
   "outputs": [
    {
     "data": {
      "application/vnd.jupyter.widget-view+json": {
       "model_id": "8fafa4067cb04042b4d53bfb66318eae",
       "version_major": 2,
       "version_minor": 0
      },
      "text/plain": [
       "Canvas(toolbar=Toolbar(toolitems=[('Home', 'Reset original view', 'home', 'home'), ('Back', 'Back to previous …"
      ]
     },
     "metadata": {},
     "output_type": "display_data"
    }
   ],
   "source": [
    "plt.close('all')\n",
    "plt.figure(figsize=(5.9,1.8))\n",
    "x = 120\n",
    "z = 0.125\n",
    "plt.plot(ppg[256*60*x:int(256*60*(x+z))], label='Raw', linewidth=2)\n",
    "plt.plot(ppg_filt[256*60*x:int(256*60*(x+z))], label='Filtered', alpha=1)\n",
    "ax = plt.gca()\n",
    "ax.spines['right'].set_visible(False)\n",
    "ax.spines['top'].set_visible(False)\n",
    "ax.axes.xaxis.set_ticklabels([0,1,2,3,4,5,6,7,8,9])\n",
    "ax.axes.yaxis.set_ticklabels([])\n",
    "plt.ylabel(\"PPG (N/A)\", fontsize=10)\n",
    "plt.xlabel(\"Time (seconds)\", fontsize=10)\n",
    "plt.tight_layout()\n",
    "plt.grid(False)\n",
    "leg = plt.legend(loc='upper right', fontsize=6)\n",
    "leg.get_frame().set_linewidth(0.0)\n",
    "plt.savefig(\"/home/kkotzen/images/thesis/lowpass_filtered_unfiltered.png\")"
   ]
  },
  {
   "cell_type": "code",
   "execution_count": 39,
   "metadata": {},
   "outputs": [
    {
     "data": {
      "application/vnd.jupyter.widget-view+json": {
       "model_id": "17ebaebafb6f45ac9bb3dccf1cef14cc",
       "version_major": 2,
       "version_minor": 0
      },
      "text/plain": [
       "Canvas(toolbar=Toolbar(toolitems=[('Home', 'Reset original view', 'home', 'home'), ('Back', 'Back to previous …"
      ]
     },
     "metadata": {},
     "output_type": "display_data"
    }
   ],
   "source": [
    "plt.close('all')\n",
    "plt.figure(figsize=(5.9,2.5))\n",
    "plt.plot(np.gradient(ppg[256*60*60:256*60*90]), label='Raw')\n",
    "plt.plot(np.gradient(ppg_filt[256*60*60:256*60*90]), label='Filtered')\n",
    "ax = plt.gca()\n",
    "ax.spines['right'].set_visible(False)\n",
    "ax.spines['top'].set_visible(False)\n",
    "ax.axes.xaxis.set_ticklabels([])\n",
    "ax.axes.yaxis.set_ticklabels([])\n",
    "plt.ylabel(\"dPPG Amplitude (N/A)\")\n",
    "plt.xlabel(\"Time (seconds)\")\n",
    "plt.tight_layout()\n",
    "plt.grid(False)\n",
    "leg = plt.legend(loc='upper right')\n",
    "leg.get_frame().set_linewidth(0.0)\n"
   ]
  },
  {
   "cell_type": "code",
   "execution_count": null,
   "metadata": {},
   "outputs": [],
   "source": []
  },
  {
   "cell_type": "code",
   "execution_count": null,
   "metadata": {},
   "outputs": [],
   "source": [
    "import numpy as np\n",
    "def genSine(f0, fs, dur):\n",
    "    t = np.arange(dur)\n",
    "    sinusoid = np.sin(2*np.pi*t*(f0/fs))\n",
    "    return sinusoid\n",
    "\n",
    "dl = MESAParser()\n",
    "patients = ['0002'] #dl.database_all_patient_IDs\n",
    "ppg = dl.load_signal(patients[0], 'Pleth')\n",
    "peaks = dl.load_annotation(patients[0], 'Pleth', 'Aboy', 'Peaks')\n",
    "onsets = dl.load_annotation(patients[0], 'Pleth', 'Aboy', 'Onsets')\n",
    "plt.close(\"all\")\n",
    "plt.figure(figsize=(4,2.5))\n",
    "plt.plot(ppg)\n",
    "plt.plot(peaks, ppg[peaks], 'x')\n",
    "plt.plot(onsets, ppg[onsets], 'o')\n",
    "plt.ylabel('PPG Amplitude(N/A)')\n",
    "plt.xlabel(\"Time (Seconds)\")\n",
    "ax = plt.gca()\n",
    "ax.spines['right'].set_visible(False)\n",
    "ax.spines['top'].set_visible(False)\n",
    "ax.axes.xaxis.set_ticklabels([])\n",
    "ax.axes.yaxis.set_ticklabels([])\n",
    "plt.tight_layout()"
   ]
  },
  {
   "cell_type": "markdown",
   "metadata": {},
   "source": [
    "**EEG Diagram**"
   ]
  },
  {
   "cell_type": "code",
   "execution_count": null,
   "metadata": {},
   "outputs": [],
   "source": [
    "from src.parsing.SpanishParser import SpanishParser\n",
    "\n",
    "from src.parsing.utils.extract_numpy_from_edf import extract_numpy_from_edf\n",
    "dl = SpanishParser()\n",
    "patients = dl.database_all_patient_IDs\n",
    "patient = '377'\n",
    "eeg = extract_numpy_from_edf(dl.path_edf(patient), 'Cz')"
   ]
  },
  {
   "cell_type": "code",
   "execution_count": null,
   "metadata": {},
   "outputs": [],
   "source": [
    "plt.close('all')\n",
    "sleep = dl.load_sleep(patient)\n",
    "t_sleep = np.arange(0, len(sleep)*30, 30)\n",
    "t_eeg = np.arange(0, len(eeg)/512, 1/512)\n",
    "ax1 = plt.subplot(2,1,1)\n",
    "plt.plot(t_sleep[sleep==0], sleep[sleep==0])\n",
    "ax2 = plt.subplot(2,1,2, sharex=ax1)\n",
    "plt.plot(t_eeg, eeg)"
   ]
  },
  {
   "cell_type": "markdown",
   "metadata": {},
   "source": [
    "# Compare sleep stage prevelance visually"
   ]
  },
  {
   "cell_type": "code",
   "execution_count": 11,
   "metadata": {},
   "outputs": [
    {
     "name": "stderr",
     "output_type": "stream",
     "text": [
      "100%|████████████████████████████████████████████████████████████████████████████████████████████████████████████████████████████████████████████████████████████████████████████████| 2054/2054 [00:18<00:00, 113.67it/s]\n"
     ]
    }
   ],
   "source": [
    "dl = MESAParser()\n",
    "patients = dl.database_all_patient_IDs\n",
    "\n",
    "df = pd.DataFrame()\n",
    "\n",
    "for patient in tqdm.tqdm(patients):\n",
    "    sleep = dl.load_sleep(patient)\n",
    "    sleep[sleep==2]=1\n",
    "    sleep[sleep==3]=2\n",
    "    sleep[sleep==4]=3\n",
    "    sleep[sleep > 3] =0\n",
    "    stage, count = np.unique(sleep, return_counts=True)\n",
    "    df = df.append({s:c for s, c in zip(stage,count)}, ignore_index=True)"
   ]
  },
  {
   "cell_type": "code",
   "execution_count": 20,
   "metadata": {},
   "outputs": [
    {
     "data": {
      "text/plain": [
       "0.0    0.433062\n",
       "1.0    0.406419\n",
       "2.0    0.057375\n",
       "3.0    0.103144\n",
       "dtype: float64"
      ]
     },
     "execution_count": 20,
     "metadata": {},
     "output_type": "execute_result"
    }
   ],
   "source": [
    "df.sum()/df.sum().sum()"
   ]
  },
  {
   "cell_type": "code",
   "execution_count": 31,
   "metadata": {},
   "outputs": [
    {
     "data": {
      "application/vnd.jupyter.widget-view+json": {
       "model_id": "45465b79407741039bd8cc968f8bcf88",
       "version_major": 2,
       "version_minor": 0
      },
      "text/plain": [
       "Canvas(toolbar=Toolbar(toolitems=[('Home', 'Reset original view', 'home', 'home'), ('Back', 'Back to previous …"
      ]
     },
     "metadata": {},
     "output_type": "display_data"
    }
   ],
   "source": [
    "plt.close('all')\n",
    "fig, ax = plt.subplots(1,1, figsize=(4,4))\n",
    "ax.bar([1,2,3,4], df.sum()/df.sum().sum(), color=['red', 'green', 'blue', 'cyan'])\n",
    "ax.set_xticks([1,2,3,4])\n",
    "ax.set_xticklabels([\"Wake\", \"Light\", \"Deep\", \"REM\"])\n",
    "ax.set_xlabel(\"Sleep Stage\")\n",
    "ax.set_ylabel(\"Prevelance (%)\")\n",
    "plt.tight_layout()"
   ]
  },
  {
   "cell_type": "code",
   "execution_count": 35,
   "metadata": {},
   "outputs": [],
   "source": [
    "x = {0:0.6084310206828908, 1: 0.5911641609954276, 2: 5.030164819659377, 3: 2.3458207598308074}.values()\n",
    "x = np.array(list(x))"
   ]
  },
  {
   "cell_type": "code",
   "execution_count": 37,
   "metadata": {},
   "outputs": [
    {
     "data": {
      "text/plain": [
       "array([1.02920823, 1.        , 8.50891369, 3.96813764])"
      ]
     },
     "execution_count": 37,
     "metadata": {},
     "output_type": "execute_result"
    }
   ],
   "source": [
    "x/min(x)"
   ]
  },
  {
   "cell_type": "code",
   "execution_count": 63,
   "metadata": {},
   "outputs": [
    {
     "name": "stdout",
     "output_type": "stream",
     "text": [
      "[]\n"
     ]
    },
    {
     "data": {
      "application/vnd.jupyter.widget-view+json": {
       "model_id": "0a860ebd9b314ebc8a93086c39b465cf",
       "version_major": 2,
       "version_minor": 0
      },
      "text/plain": [
       "Canvas(toolbar=Toolbar(toolitems=[('Home', 'Reset original view', 'home', 'home'), ('Back', 'Back to previous …"
      ]
     },
     "metadata": {},
     "output_type": "display_data"
    },
    {
     "data": {
      "text/plain": [
       "[<matplotlib.lines.Line2D at 0x7f5a1e6df460>]"
      ]
     },
     "execution_count": 63,
     "metadata": {},
     "output_type": "execute_result"
    }
   ],
   "source": [
    "dl = MESAParser()\n",
    "patients = ['3180'] #dl.database_all_patient_IDs\n",
    "\n",
    "ppg = dl.load_signal(patients[0], 'ECG')\n",
    "qppg = dl.load_annotation(patients[0], 'ECG', 'epltd0', 'Peaks')\n",
    "\n",
    "print(qppg)\n",
    "plt.close('all')\n",
    "plt.plot(ppg)\n",
    "# plt.plot(qppg, ppg[qppg], 'x')"
   ]
  },
  {
   "cell_type": "code",
   "execution_count": 58,
   "metadata": {},
   "outputs": [],
   "source": [
    "fs = 256\n",
    "beats = qppg\n",
    "resample_fs = 2\n",
    "\n",
    "beats = beats / fs\n",
    "ibi = np.diff(beats)\n",
    "beats = beats[:-1] + (beats[1:] - beats[:-1]) / 2\n",
    "upper = np.percentile(ibi, 99)\n",
    "lower = np.percentile(ibi, 1)\n",
    "ibi_filt_idx = np.where((ibi < upper) & (ibi > lower))\n",
    "ibi = ibi[ibi_filt_idx]\n",
    "beats = beats[ibi_filt_idx]\n",
    "ihr = 1 / ibi\n",
    "x_2hz = np.arange(0, beats[-1], 1 / resample_fs)\n",
    "ihr_2hz = np.interp(x_2hz, beats, ihr)\n",
    "ihr_2hz = (ihr_2hz - np.mean(ihr_2hz)) / np.std(ihr_2hz)\n"
   ]
  },
  {
   "cell_type": "code",
   "execution_count": 59,
   "metadata": {},
   "outputs": [
    {
     "data": {
      "application/vnd.jupyter.widget-view+json": {
       "model_id": "94a65023c9574211b82b7931f2f795ba",
       "version_major": 2,
       "version_minor": 0
      },
      "text/plain": [
       "Canvas(toolbar=Toolbar(toolitems=[('Home', 'Reset original view', 'home', 'home'), ('Back', 'Back to previous …"
      ]
     },
     "metadata": {},
     "output_type": "display_data"
    },
    {
     "data": {
      "text/plain": [
       "[<matplotlib.lines.Line2D at 0x7f5a1bb4a640>]"
      ]
     },
     "execution_count": 59,
     "metadata": {},
     "output_type": "execute_result"
    }
   ],
   "source": [
    "plt.close('all')\n",
    "plt.plot(ihr_2hz)"
   ]
  },
  {
   "cell_type": "code",
   "execution_count": 53,
   "metadata": {},
   "outputs": [
    {
     "data": {
      "text/plain": [
       "1.09375"
      ]
     },
     "execution_count": 53,
     "metadata": {},
     "output_type": "execute_result"
    }
   ],
   "source": [
    "np.percentile(ibi, 99)"
   ]
  },
  {
   "cell_type": "code",
   "execution_count": null,
   "metadata": {},
   "outputs": [],
   "source": []
  }
 ],
 "metadata": {
  "kernelspec": {
   "display_name": "Python 3 (ipykernel)",
   "language": "python",
   "name": "python3"
  },
  "language_info": {
   "codemirror_mode": {
    "name": "ipython",
    "version": 3
   },
   "file_extension": ".py",
   "mimetype": "text/x-python",
   "name": "python",
   "nbconvert_exporter": "python",
   "pygments_lexer": "ipython3",
   "version": "3.9.5"
  }
 },
 "nbformat": 4,
 "nbformat_minor": 4
}
